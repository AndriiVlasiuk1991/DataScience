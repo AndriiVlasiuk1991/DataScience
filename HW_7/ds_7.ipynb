{
 "cells":[
  {
   "cell_type":"markdown",
   "source":[
    "# HW_7"
   ],
   "attachments":{
    
   },
   "metadata":{
    "datalore":{
     "node_id":"HW_7",
     "type":"MD",
     "hide_input_from_viewers":false,
     "hide_output_from_viewers":false,
     "sheet_delimiter":true
    }
   }
  },
  {
   "cell_type":"code",
   "source":[
    "!pip install scikit-surprise"
   ],
   "execution_count":113,
   "outputs":[
    {
     "name":"stdout",
     "text":[
      "Requirement already satisfied: scikit-surprise in \/opt\/python\/envs\/default\/lib\/python3.8\/site-packages (1.1.3)\r\n",
      "Requirement already satisfied: joblib>=1.0.0 in \/opt\/python\/envs\/default\/lib\/python3.8\/site-packages (from scikit-surprise) (1.4.0)\r\n",
      "Requirement already satisfied: numpy>=1.17.3 in \/opt\/python\/envs\/default\/lib\/python3.8\/site-packages (from scikit-surprise) (1.24.3)\r\n",
      "Requirement already satisfied: scipy>=1.3.2 in \/opt\/python\/envs\/default\/lib\/python3.8\/site-packages (from scikit-surprise) (1.9.1)\r\n",
      "\r\n",
      "\u001b[1m[\u001b[0m\u001b[34;49mnotice\u001b[0m\u001b[1;39;49m]\u001b[0m\u001b[39;49m A new release of pip is available: \u001b[0m\u001b[31;49m23.1.2\u001b[0m\u001b[39;49m -> \u001b[0m\u001b[32;49m24.0\u001b[0m\r\n",
      "\u001b[1m[\u001b[0m\u001b[34;49mnotice\u001b[0m\u001b[1;39;49m]\u001b[0m\u001b[39;49m To update, run: \u001b[0m\u001b[32;49mpip install --upgrade pip\u001b[0m\r\n"
     ],
     "output_type":"stream"
    }
   ],
   "metadata":{
    "datalore":{
     "node_id":"fTL1KoK1cEzv8hQnzffMBk",
     "type":"CODE",
     "hide_input_from_viewers":true,
     "hide_output_from_viewers":true
    }
   }
  },
  {
   "cell_type":"code",
   "source":[
    "import numpy as np\n",
    "from surprise import Dataset, Reader, SVD, NMF, SVDpp  \n",
    "from surprise.model_selection import GridSearchCV, cross_validate"
   ],
   "execution_count":114,
   "outputs":[
    
   ],
   "metadata":{
    "datalore":{
     "node_id":"aLQzBYd0qXJloFEOa1aJfg",
     "type":"CODE",
     "hide_input_from_viewers":true,
     "hide_output_from_viewers":true
    }
   }
  },
  {
   "cell_type":"code",
   "source":[
    "# Створення об'єкту Reader для вказання максимального та мінімального рейтингів у датасеті\n",
    "reader = Reader(rating_scale=(1, 5))"
   ],
   "execution_count":115,
   "outputs":[
    
   ],
   "metadata":{
    "datalore":{
     "node_id":"lqPoXhbMtkW212JVIg5HF4",
     "type":"CODE",
     "hide_input_from_viewers":true,
     "hide_output_from_viewers":true
    }
   }
  },
  {
   "cell_type":"code",
   "source":[
    "# Завантаження датасету Movielens\n",
    "data = Dataset.load_builtin('ml-100k', prompt=False)"
   ],
   "execution_count":116,
   "outputs":[
    
   ],
   "metadata":{
    "datalore":{
     "node_id":"tbPQ8PHMwngXXPT20BEwQC",
     "type":"CODE",
     "hide_input_from_viewers":true,
     "hide_output_from_viewers":true
    }
   }
  },
  {
   "cell_type":"code",
   "source":[
    "# Визначення сітки параметрів для пошуку найкращих параметрів\n",
    "param_grid = {\n",
    "    'n_factors': [50, 100, 150],\n",
    "    'reg_pu': [0.06, 0.08, 0.1],  # регуляризація для користувачів\n",
    "    'reg_qi': [0.06, 0.08, 0.1],  # регуляризація для предметів\n",
    "    'n_epochs': [20, 30, 40]  # кількість епох\n",
    "}"
   ],
   "execution_count":117,
   "outputs":[
    
   ],
   "metadata":{
    "datalore":{
     "node_id":"kUeJ4KRBT4alkfB3sgYwl0",
     "type":"CODE",
     "hide_input_from_viewers":true,
     "hide_output_from_viewers":true
    }
   }
  },
  {
   "cell_type":"code",
   "source":[
    "# Ініціалізація алгоритму SVD\n",
    "algo = NMF\n",
    "\n",
    "# Ініціалізація об'єкту GridSearchCV для крос-валідації та пошуку найкращих параметрів\n",
    "grid_search = GridSearchCV(algo, param_grid, measures=['rmse'], cv=3, n_jobs=-1)"
   ],
   "execution_count":118,
   "outputs":[
    
   ],
   "metadata":{
    "datalore":{
     "node_id":"AXM8MMHsfPjGOoavbjv9LR",
     "type":"CODE",
     "hide_input_from_viewers":true,
     "hide_output_from_viewers":true
    }
   }
  },
  {
   "cell_type":"code",
   "source":[
    "# Запуск пошуку найкращих параметрів\n",
    "grid_search.fit(data)"
   ],
   "execution_count":119,
   "outputs":[
    
   ],
   "metadata":{
    "datalore":{
     "node_id":"LBhRQnxJzY64t1bfaWTMZh",
     "type":"CODE",
     "hide_input_from_viewers":true,
     "hide_output_from_viewers":true
    }
   }
  },
  {
   "cell_type":"code",
   "source":[
    "# Виведення найкращих параметрів та результатів\n",
    "print(grid_search.best_params)\n",
    "print(grid_search.best_score)"
   ],
   "execution_count":120,
   "outputs":[
    {
     "name":"stdout",
     "text":[
      "{'rmse': {'n_factors': 50, 'reg_pu': 0.1, 'reg_qi': 0.1, 'n_epochs': 40}}\n",
      "{'rmse': 0.9588185062792794}\n"
     ],
     "output_type":"stream"
    }
   ],
   "metadata":{
    "datalore":{
     "node_id":"RITnELpkT8au7tAX39hxh6",
     "type":"CODE",
     "hide_input_from_viewers":true,
     "hide_output_from_viewers":true
    }
   }
  },
  {
   "cell_type":"code",
   "source":[
    "# Створення об'єктів алгоритмів для порівняння\n",
    "algos = {\n",
    "    'SVD': SVD(**grid_search.best_params['rmse']),  \n",
    "    'SVD++': SVDpp(**grid_search.best_params['rmse']),  \n",
    "    'NMF': NMF(**grid_search.best_params['rmse'])\n",
    "}"
   ],
   "execution_count":121,
   "outputs":[
    
   ],
   "metadata":{
    "datalore":{
     "node_id":"LncaIYPd2ZSG9m9p1BMubd",
     "type":"CODE",
     "hide_input_from_viewers":true,
     "hide_output_from_viewers":true
    }
   }
  },
  {
   "cell_type":"code",
   "source":[
    "# Перевірка кожного алгоритму за допомогою крос-валідації та виведення результатів\n",
    "for algo_name, algo_obj in algos.items():\n",
    "    results = cross_validate(algo_obj, data, measures=['RMSE'], cv=3, verbose=False)  \n",
    "    print(f\"{algo_name}: Mean RMSE = {np.mean(results['test_rmse'])}\")"
   ],
   "execution_count":122,
   "outputs":[
    {
     "name":"stdout",
     "text":[
      "SVD: Mean RMSE = 0.9276510032088923\n",
      "SVD++: Mean RMSE = 0.9127741555599999\n",
      "NMF: Mean RMSE = 0.9596043961818345\n"
     ],
     "output_type":"stream"
    }
   ],
   "metadata":{
    "datalore":{
     "node_id":"ZBn311X0xc80AteJDLBRXk",
     "type":"CODE",
     "hide_input_from_viewers":true,
     "hide_output_from_viewers":true
    }
   }
  }
 ],
 "metadata":{
  "kernelspec":{
   "display_name":"Python",
   "language":"python",
   "name":"python"
  },
  "datalore":{
   "computation_mode":"JUPYTER",
   "package_manager":"pip",
   "base_environment":"default",
   "packages":[
    
   ],
   "report_row_ids":[
    
   ],
   "version":3
  }
 },
 "nbformat":4,
 "nbformat_minor":4
}