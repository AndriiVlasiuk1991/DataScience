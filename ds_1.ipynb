{
 "cells":[
  {
   "cell_type":"markdown",
   "source":[
    "# Editor"
   ],
   "attachments":{
    
   },
   "metadata":{
    "datalore":{
     "node_id":"Editor",
     "type":"MD",
     "hide_input_from_viewers":false,
     "hide_output_from_viewers":false,
     "sheet_delimiter":true
    }
   }
  },
  {
   "cell_type":"code",
   "source":[
    "from numpy import arange, zeros, random, dot, linalg, transpose, multiply, subtract, square, sqrt\n",
    "import numpy as np"
   ],
   "execution_count":1,
   "outputs":[
    
   ],
   "metadata":{
    "datalore":{
     "node_id":"38y7jTgE9cOMt9rAFokr8s",
     "type":"CODE",
     "hide_input_from_viewers":true,
     "hide_output_from_viewers":false,
     "report_properties":{
      "rowId":"2YndeLy2IfT7nfiMulRCz5"
     }
    }
   }
  },
  {
   "cell_type":"code",
   "source":[
    "vector = arange(1, 11)\n",
    "print('1. Створіть одновимірний масив (вектор) з першими 10-ма натуральними числами та виведіть його значення.')\n",
    "print(f'Вектор: \\n{vector}\\n')"
   ],
   "execution_count":2,
   "outputs":[
    {
     "name":"stdout",
     "text":[
      "1. Створіть одновимірний масив (вектор) з першими 10-ма натуральними числами та виведіть його значення.\n",
      "Вектор: \n",
      "[ 1  2  3  4  5  6  7  8  9 10]\n",
      "\n"
     ],
     "output_type":"stream"
    }
   ],
   "metadata":{
    "datalore":{
     "node_id":"2twapglPxqpjXEKjEpTZ5j",
     "type":"CODE",
     "hide_input_from_viewers":true,
     "hide_output_from_viewers":true
    }
   }
  },
  {
   "cell_type":"code",
   "source":[
    "matrix = zeros((3, 3))\n",
    "print('2. Створіть двовимірний масив (матрицю) розміром 3x3, заповніть його нулями та виведіть його значення.')\n",
    "print(f'Матриця: \\n{matrix}\\n')"
   ],
   "execution_count":3,
   "outputs":[
    {
     "name":"stdout",
     "text":[
      "2. Створіть двовимірний масив (матрицю) розміром 3x3, заповніть його нулями та виведіть його значення.\n",
      "Матриця: \n",
      "[[0. 0. 0.]\n",
      " [0. 0. 0.]\n",
      " [0. 0. 0.]]\n",
      "\n"
     ],
     "output_type":"stream"
    }
   ],
   "metadata":{
    "datalore":{
     "node_id":"DknAhZ71cnsbdqEiDlAmxW",
     "type":"CODE",
     "hide_input_from_viewers":true,
     "hide_output_from_viewers":true
    }
   }
  },
  {
   "cell_type":"code",
   "source":[
    "random_matrix = random.randint(1, 11, size=(5, 5))\n",
    "print(\n",
    "    '3. Створіть масив розміром 5x5, заповніть його випадковими цілими числами в діапазоні від 1 до 10 та виведіть його значення.')\n",
    "print(f'Матриця: \\n{random_matrix}\\n')"
   ],
   "execution_count":4,
   "outputs":[
    {
     "name":"stdout",
     "text":[
      "3. Створіть масив розміром 5x5, заповніть його випадковими цілими числами в діапазоні від 1 до 10 та виведіть його значення.\n",
      "Матриця: \n",
      "[[ 6  5 10  5  7]\n",
      " [ 7  6  3 10  3]\n",
      " [ 5  8  7  3  2]\n",
      " [ 3  1  9  1 10]\n",
      " [ 9  7  6  8  9]]\n",
      "\n"
     ],
     "output_type":"stream"
    }
   ],
   "metadata":{
    "datalore":{
     "node_id":"Z4bRmNF9gnY6b9varWSIEB",
     "type":"CODE",
     "hide_input_from_viewers":true,
     "hide_output_from_viewers":true
    }
   }
  },
  {
   "cell_type":"code",
   "source":[
    "random_matrix = random.rand(4, 4)\n",
    "print(\n",
    "    '4. Створіть масив розміром 4x4, заповніть його випадковими дійсними числами в діапазоні від 0 до 1 та виведіть його значення.')\n",
    "print(f'Матриця: \\n{random_matrix}\\n')"
   ],
   "execution_count":5,
   "outputs":[
    {
     "name":"stdout",
     "text":[
      "4. Створіть масив розміром 4x4, заповніть його випадковими дійсними числами в діапазоні від 0 до 1 та виведіть його значення.\n",
      "Матриця: \n",
      "[[0.30702622 0.59968255 0.86916111 0.56625095]\n",
      " [0.79308692 0.73856317 0.74637883 0.62758834]\n",
      " [0.77106283 0.22819251 0.63763046 0.47509069]\n",
      " [0.46127829 0.49947897 0.9869612  0.28448579]]\n",
      "\n"
     ],
     "output_type":"stream"
    }
   ],
   "metadata":{
    "datalore":{
     "node_id":"N5ql7I6aPIBaaSV5hClSzn",
     "type":"CODE",
     "hide_input_from_viewers":true,
     "hide_output_from_viewers":true
    }
   }
  },
  {
   "cell_type":"code",
   "source":[
    "array_1 = random.randint(1, 11, size=5)\n",
    "array_2 = random.randint(1, 11, size=5)\n",
    "sum = array_1 + array_2\n",
    "sub = array_1 - array_2\n",
    "multiplication = array_1 * array_2\n",
    "print(\n",
    "    '5. Створіть два одновимірних масиви розміром 5, заповніть їх випадковими цілими числами в діапазоні від 1 до 10 та виконайте на них поелементні операції додавання, віднімання та множення.')\n",
    "print(f'Вектор 1: {array_1}')\n",
    "print(f'Вектор 2: {array_2}')\n",
    "print(f'Сума: {sum}')\n",
    "print(f'Різниця: {sub}')\n",
    "print(f'Добуток: {multiplication}\\n')"
   ],
   "execution_count":6,
   "outputs":[
    {
     "name":"stdout",
     "text":[
      "5. Створіть два одновимірних масиви розміром 5, заповніть їх випадковими цілими числами в діапазоні від 1 до 10 та виконайте на них поелементні операції додавання, віднімання та множення.\n",
      "Вектор 1: [6 2 8 1 4]\n",
      "Вектор 2: [6 1 9 2 3]\n",
      "Сума: [12  3 17  3  7]\n",
      "Різниця: [ 0  1 -1 -1  1]\n",
      "Добуток: [36  2 72  2 12]\n",
      "\n"
     ],
     "output_type":"stream"
    }
   ],
   "metadata":{
    "datalore":{
     "node_id":"sJalNTo90oQvuS5U3qJ7Bj",
     "type":"CODE",
     "hide_input_from_viewers":true,
     "hide_output_from_viewers":true
    }
   }
  },
  {
   "cell_type":"code",
   "source":[
    "vector_1 = random.randint(1, 11, size=7)\n",
    "vector_2 = random.randint(1, 11, size=7)\n",
    "scalar = dot(vector_1, vector_2)\n",
    "print('6. Створіть два вектори розміром 7, заповніть довільними числами та знайдіть їх скалярний добуток.')\n",
    "print(f'Вектор 1: {vector_1}')\n",
    "print(f'Вектор 2: {vector_2}')\n",
    "print(f'Cкалярний добуток: {scalar}\\n')"
   ],
   "execution_count":7,
   "outputs":[
    {
     "name":"stdout",
     "text":[
      "6. Створіть два вектори розміром 7, заповніть довільними числами та знайдіть їх скалярний добуток.\n",
      "Вектор 1: [3 8 9 2 2 4 1]\n",
      "Вектор 2: [ 8  4  5 10  2  2  3]\n",
      "Cкалярний добуток: 136\n",
      "\n"
     ],
     "output_type":"stream"
    }
   ],
   "metadata":{
    "datalore":{
     "node_id":"txEaKTNh5MDDXIJ14JItfF",
     "type":"CODE",
     "hide_input_from_viewers":true,
     "hide_output_from_viewers":true
    }
   }
  },
  {
   "cell_type":"code",
   "source":[
    "matrix_1 = random.randint(1, 11, size=(2, 2))\n",
    "matrix_2 = random.randint(1, 11, size=(2, 3))\n",
    "multiplication = dot(matrix_1, matrix_2)\n",
    "print(\n",
    "    '7. Створіть дві матриці розміром 2x2 та 2x3, заповніть їх випадковими цілими числами в діапазоні від 1 до 10 та перемножте їх між собою.')\n",
    "print(f'Матриця 1: \\n{matrix_1}')\n",
    "print(f'Матриця 2: \\n{matrix_2}')\n",
    "print(f'Результат множення матриць: \\n{multiplication}\\n')"
   ],
   "execution_count":8,
   "outputs":[
    {
     "name":"stdout",
     "text":[
      "7. Створіть дві матриці розміром 2x2 та 2x3, заповніть їх випадковими цілими числами в діапазоні від 1 до 10 та перемножте їх між собою.\n",
      "Матриця 1: \n",
      "[[8 6]\n",
      " [7 3]]\n",
      "Матриця 2: \n",
      "[[10  3  2]\n",
      " [ 3 10  4]]\n",
      "Результат множення матриць: \n",
      "[[98 84 40]\n",
      " [79 51 26]]\n",
      "\n"
     ],
     "output_type":"stream"
    }
   ],
   "metadata":{
    "datalore":{
     "node_id":"b6v7Zlsvmvyk6rPloSnCHx",
     "type":"CODE",
     "hide_input_from_viewers":true,
     "hide_output_from_viewers":true
    }
   }
  },
  {
   "cell_type":"code",
   "source":[
    "matrix = random.randint(1, 11, size=(3, 3))\n",
    "print(\n",
    "    '8. Створіть матрицю розміром 3x3, заповніть її випадковими цілими числами в діапазоні від 1 до 10 та знайдіть її обернену матрицю.')\n",
    "print(f'Матриця: \\n{matrix}')\n",
    "try:\n",
    "    inv_matrix = linalg.inv(matrix)\n",
    "    print(f'Обернена матриця: \\n{inv_matrix}\\n')\n",
    "except linalg.LinAlgError:\n",
    "    print(f'Обернена матриця не існує\\n')"
   ],
   "execution_count":9,
   "outputs":[
    {
     "name":"stdout",
     "text":[
      "8. Створіть матрицю розміром 3x3, заповніть її випадковими цілими числами в діапазоні від 1 до 10 та знайдіть її обернену матрицю.\n",
      "Матриця: \n",
      "[[8 3 5]\n",
      " [3 2 4]\n",
      " [6 8 6]]\n",
      "Обернена матриця: \n",
      "[[ 0.24390244 -0.26829268 -0.02439024]\n",
      " [-0.07317073 -0.2195122   0.20731707]\n",
      " [-0.14634146  0.56097561 -0.08536585]]\n",
      "\n"
     ],
     "output_type":"stream"
    }
   ],
   "metadata":{
    "datalore":{
     "node_id":"zYjIWnrJOQYTaOMZix9rZ0",
     "type":"CODE",
     "hide_input_from_viewers":true,
     "hide_output_from_viewers":true
    }
   }
  },
  {
   "cell_type":"code",
   "source":[
    "matrix = random.randint(1, 11, size=(4, 4))\n",
    "trans_matrix = transpose(matrix)\n",
    "print(\n",
    "    '9. Створіть матрицю розміром 4x4, заповніть її випадковими дійсними числами в діапазоні від 0 до 1 та транспонуйте її.')\n",
    "print(f'Матриця: \\n{matrix}')\n",
    "print(f'Транспонована матриця: \\n{trans_matrix}\\n')"
   ],
   "execution_count":10,
   "outputs":[
    {
     "name":"stdout",
     "text":[
      "9. Створіть матрицю розміром 4x4, заповніть її випадковими дійсними числами в діапазоні від 0 до 1 та транспонуйте її.\n",
      "Матриця: \n",
      "[[ 5  9  5  2]\n",
      " [ 7  9  4  2]\n",
      " [10  3  2  1]\n",
      " [ 1  1  6  6]]\n",
      "Транспонована матриця: \n",
      "[[ 5  7 10  1]\n",
      " [ 9  9  3  1]\n",
      " [ 5  4  2  6]\n",
      " [ 2  2  1  6]]\n",
      "\n"
     ],
     "output_type":"stream"
    }
   ],
   "metadata":{
    "datalore":{
     "node_id":"24D83jJ6uluD5wVVx6ugkL",
     "type":"CODE",
     "hide_input_from_viewers":true,
     "hide_output_from_viewers":true
    }
   }
  },
  {
   "cell_type":"code",
   "source":[
    "matrix = random.randint(1, 11, size=(3, 4))\n",
    "vector = random.randint(1, 11, size=4)\n",
    "result_vector = dot(matrix, vector)\n",
    "print(\n",
    "    '10. Створіть матрицю розміром 3x4 та вектор розміром 4, заповніть їх випадковими цілими числами в діапазоні від 1 до 10 та перемножте матрицю на вектор.')\n",
    "print(f'Матриця: \\n{matrix}')\n",
    "print(f'Вектор: {vector}')\n",
    "print(f'Результат множення матриці на вектор: {result_vector}\\n')"
   ],
   "execution_count":11,
   "outputs":[
    {
     "name":"stdout",
     "text":[
      "10. Створіть матрицю розміром 3x4 та вектор розміром 4, заповніть їх випадковими цілими числами в діапазоні від 1 до 10 та перемножте матрицю на вектор.\n",
      "Матриця: \n",
      "[[ 6  6  9  4]\n",
      " [ 5  8 10  9]\n",
      " [ 4  9  4  5]]\n",
      "Вектор: [6 7 7 6]\n",
      "Результат множення матриці на вектор: [165 210 145]\n",
      "\n"
     ],
     "output_type":"stream"
    }
   ],
   "metadata":{
    "datalore":{
     "node_id":"UDpZM5azII1Ux1tnzNqwSX",
     "type":"CODE",
     "hide_input_from_viewers":true,
     "hide_output_from_viewers":true
    }
   }
  },
  {
   "cell_type":"code",
   "source":[
    "matrix = random.rand(2, 3)\n",
    "vector = random.rand(3)\n",
    "result_vector = dot(matrix, vector)\n",
    "print(\n",
    "    '11. Створіть матрицю розміром 2x3 та вектор розміром 3, заповніть їх випадковими дійсними числами в діапазоні від 0 до 1 та перемножте матрицю на вектор.')\n",
    "print(f'Матриця: \\n{matrix}')\n",
    "print(f'Вектор: {vector}')\n",
    "print(f'Результат множення матриці на вектор: {result_vector}\\n')"
   ],
   "execution_count":12,
   "outputs":[
    {
     "name":"stdout",
     "text":[
      "11. Створіть матрицю розміром 2x3 та вектор розміром 3, заповніть їх випадковими дійсними числами в діапазоні від 0 до 1 та перемножте матрицю на вектор.\n",
      "Матриця: \n",
      "[[0.2749696  0.37818054 0.65689657]\n",
      " [0.27484071 0.06534202 0.4049423 ]]\n",
      "Вектор: [0.4039118  0.58919505 0.02626174]\n",
      "Результат множення матриці на вектор: [0.35113682 0.16014509]\n",
      "\n"
     ],
     "output_type":"stream"
    }
   ],
   "metadata":{
    "datalore":{
     "node_id":"qNBLmhP8TfEYJWdZ6wptWY",
     "type":"CODE",
     "hide_input_from_viewers":true,
     "hide_output_from_viewers":true
    }
   }
  },
  {
   "cell_type":"code",
   "source":[
    "matrix_1 = random.randint(1, 11, size=(2, 2))\n",
    "matrix_2 = random.randint(1, 11, size=(2, 2))\n",
    "elementwise = multiply(matrix_1, matrix_2)\n",
    "print(\n",
    "    '12. Створіть дві матриці розміром 2x2, заповніть їх випадковими цілими числами в діапазоні від 1 до 10 та виконайте їхнє поелементне множення.')\n",
    "print(f'Матриця 1: \\n{matrix_1}')\n",
    "print(f'Матриця 2: \\n{matrix_2}')\n",
    "print(f'Результат поелементного множення матриць: \\n{elementwise}\\n')"
   ],
   "execution_count":13,
   "outputs":[
    {
     "name":"stdout",
     "text":[
      "12. Створіть дві матриці розміром 2x2, заповніть їх випадковими цілими числами в діапазоні від 1 до 10 та виконайте їхнє поелементне множення.\n",
      "Матриця 1: \n",
      "[[2 8]\n",
      " [3 9]]\n",
      "Матриця 2: \n",
      "[[ 5 10]\n",
      " [ 6  9]]\n",
      "Результат поелементного множення матриць: \n",
      "[[10 80]\n",
      " [18 81]]\n",
      "\n"
     ],
     "output_type":"stream"
    }
   ],
   "metadata":{
    "datalore":{
     "node_id":"3xIjTVbb78TGyrAatRM9e4",
     "type":"CODE",
     "hide_input_from_viewers":true,
     "hide_output_from_viewers":true
    }
   }
  },
  {
   "cell_type":"code",
   "source":[
    "matrix_1 = random.randint(1, 11, size=(2, 2))\n",
    "matrix_2 = random.randint(1, 11, size=(2, 2))\n",
    "product = dot(matrix_1, matrix_2)\n",
    "print(\n",
    "    '13. Створіть дві матриці розміром 2x2, заповніть їх випадковими цілими числами в діапазоні від 1 до 10 та знайдіть їх добуток.')\n",
    "print(f'Матриця 1: \\n{matrix_1}')\n",
    "print(f'Матриця 2: \\n{matrix_2}')\n",
    "print(f'Добуток матриць: \\n{product}\\n')"
   ],
   "execution_count":14,
   "outputs":[
    {
     "name":"stdout",
     "text":[
      "13. Створіть дві матриці розміром 2x2, заповніть їх випадковими цілими числами в діапазоні від 1 до 10 та знайдіть їх добуток.\n",
      "Матриця 1: \n",
      "[[ 2 10]\n",
      " [ 8  9]]\n",
      "Матриця 2: \n",
      "[[3 4]\n",
      " [9 1]]\n",
      "Добуток матриць: \n",
      "[[ 96  18]\n",
      " [105  41]]\n",
      "\n"
     ],
     "output_type":"stream"
    }
   ],
   "metadata":{
    "datalore":{
     "node_id":"zxihEFp0ifiFjNff2Kx7No",
     "type":"CODE",
     "hide_input_from_viewers":true,
     "hide_output_from_viewers":true
    }
   }
  },
  {
   "cell_type":"code",
   "source":[
    "matrix = random.randint(1, 101, size=(5, 5))\n",
    "sum_elements = np.sum(matrix)\n",
    "print(\n",
    "    '14. Створіть матрицю розміром 5x5, заповніть її випадковими цілими числами в діапазоні від 1 до 100 та знайдіть суму елементів матриці.')\n",
    "print(f'Матриця: \\n{matrix}')\n",
    "print(f'Сума елементів матриці: {sum_elements}\\n')"
   ],
   "execution_count":15,
   "outputs":[
    {
     "name":"stdout",
     "text":[
      "14. Створіть матрицю розміром 5x5, заповніть її випадковими цілими числами в діапазоні від 1 до 100 та знайдіть суму елементів матриці.\n",
      "Матриця: \n",
      "[[ 71  41   4  45  64]\n",
      " [ 82  36  20  16  98]\n",
      " [100  73  61  63  79]\n",
      " [ 98  73  24  85  66]\n",
      " [ 38  74  82  12  22]]\n",
      "Сума елементів матриці: 1427\n",
      "\n"
     ],
     "output_type":"stream"
    }
   ],
   "metadata":{
    "datalore":{
     "node_id":"Y92cJ1K3ujJateEWkgjCMO",
     "type":"CODE",
     "hide_input_from_viewers":true,
     "hide_output_from_viewers":true
    }
   }
  },
  {
   "cell_type":"code",
   "source":[
    "matrix_1 = random.randint(1, 11, size=(4, 4))\n",
    "matrix_2 = random.randint(1, 11, size=(4, 4))\n",
    "product = subtract(matrix_1, matrix_2)\n",
    "print(\n",
    "    '15. Створіть дві матриці розміром 4x4, заповніть їх випадковими цілими числами в діапазоні від 1 до 10 та знайдіть їхню різницю.')\n",
    "print(f'Матриця 1: \\n{matrix_1}')\n",
    "print(f'Матриця 2: \\n{matrix_2}')\n",
    "print(f'Різниця матриць: \\n{product}\\n')"
   ],
   "execution_count":16,
   "outputs":[
    {
     "name":"stdout",
     "text":[
      "15. Створіть дві матриці розміром 4x4, заповніть їх випадковими цілими числами в діапазоні від 1 до 10 та знайдіть їхню різницю.\n",
      "Матриця 1: \n",
      "[[ 8  7  5  3]\n",
      " [ 2 10  9  6]\n",
      " [ 9 10 10  7]\n",
      " [ 2  5  6  5]]\n",
      "Матриця 2: \n",
      "[[ 1  2  9  8]\n",
      " [ 9  1  1  7]\n",
      " [ 7  3  5 10]\n",
      " [ 1  6  1  4]]\n",
      "Різниця матриць: \n",
      "[[ 7  5 -4 -5]\n",
      " [-7  9  8 -1]\n",
      " [ 2  7  5 -3]\n",
      " [ 1 -1  5  1]]\n",
      "\n"
     ],
     "output_type":"stream"
    }
   ],
   "metadata":{
    "datalore":{
     "node_id":"J5DuobahCawZHuy2m9pFr7",
     "type":"CODE",
     "hide_input_from_viewers":true,
     "hide_output_from_viewers":true
    }
   }
  },
  {
   "cell_type":"code",
   "source":[
    "matrix = random.rand(3, 3)\n",
    "row_sums = np.sum(matrix, axis=1, keepdims=True)\n",
    "print(\n",
    "    '16. Створіть матрицю розміром 3x3, заповніть її випадковими дійсними числами в діапазоні від 0 до 1 та знайдіть вектор-стовпчик, що містить суму елементів кожного рядка матриці.')\n",
    "print(f'Матриця: \\n{matrix}')\n",
    "print(f'Cума елементів кожного рядка матриці: \\n{row_sums}\\n')"
   ],
   "execution_count":17,
   "outputs":[
    {
     "name":"stdout",
     "text":[
      "16. Створіть матрицю розміром 3x3, заповніть її випадковими дійсними числами в діапазоні від 0 до 1 та знайдіть вектор-стовпчик, що містить суму елементів кожного рядка матриці.\n",
      "Матриця: \n",
      "[[0.35175417 0.08268618 0.61452604]\n",
      " [0.21245373 0.81768767 0.99113376]\n",
      " [0.53859299 0.53717589 0.71976028]]\n",
      "Cума елементів кожного рядка матриці: \n",
      "[[1.04896638]\n",
      " [2.02127516]\n",
      " [1.79552916]]\n",
      "\n"
     ],
     "output_type":"stream"
    }
   ],
   "metadata":{
    "datalore":{
     "node_id":"Ht0q1ubCQRkHyRqDtZJyhO",
     "type":"CODE",
     "hide_input_from_viewers":true,
     "hide_output_from_viewers":true
    }
   }
  },
  {
   "cell_type":"code",
   "source":[
    "matrix = random.randint(-10, 11, size=(3, 4))\n",
    "square_matrix = square(matrix)\n",
    "print('17. Створіть матрицю розміром 3x4 з довільними цілими числами і створінь матрицю з квадратами цих чисел.')\n",
    "print(f'Матриця: \\n{matrix}')\n",
    "print(f'Матриця з квадратами чисел: \\n{square_matrix}\\n')"
   ],
   "execution_count":18,
   "outputs":[
    {
     "name":"stdout",
     "text":[
      "17. Створіть матрицю розміром 3x4 з довільними цілими числами і створінь матрицю з квадратами цих чисел.\n",
      "Матриця: \n",
      "[[ 8  1  9 -4]\n",
      " [-9  1  7 -9]\n",
      " [ 2  3 -2 -9]]\n",
      "Матриця з квадратами чисел: \n",
      "[[64  1 81 16]\n",
      " [81  1 49 81]\n",
      " [ 4  9  4 81]]\n",
      "\n"
     ],
     "output_type":"stream"
    }
   ],
   "metadata":{
    "datalore":{
     "node_id":"61gRejFzB14coPTdCpRTf2",
     "type":"CODE",
     "hide_input_from_viewers":true,
     "hide_output_from_viewers":true
    }
   }
  },
  {
   "cell_type":"code",
   "source":[
    "vector = random.randint(1, 51, size=4)\n",
    "sqrt_vector = sqrt(vector)\n",
    "print(\n",
    "    '18. Створіть вектор розміром 4, заповніть його випадковими цілими числами в діапазоні від 1 до 50 та знайдіть вектор з квадратними коренями цих чисел.')\n",
    "print(f'Вектор: {vector}')\n",
    "print(f'Вектор з квадратними коренями: \\n{sqrt_vector}\\n')"
   ],
   "execution_count":19,
   "outputs":[
    {
     "name":"stdout",
     "text":[
      "18. Створіть вектор розміром 4, заповніть його випадковими цілими числами в діапазоні від 1 до 50 та знайдіть вектор з квадратними коренями цих чисел.\n",
      "Вектор: [11 48 16 24]\n",
      "Вектор з квадратними коренями: \n",
      "[3.31662479 6.92820323 4.         4.89897949]\n",
      "\n"
     ],
     "output_type":"stream"
    }
   ],
   "metadata":{
    "datalore":{
     "node_id":"DiZPfyLMOGY7vHruhoRvHY",
     "type":"CODE",
     "hide_input_from_viewers":true,
     "hide_output_from_viewers":true
    }
   }
  },
  {
   "cell_type":"markdown",
   "source":[
    "# Getting Started Notebook\n",
    "\n",
    "Welcome to Datalore! This tutorial will help you understand the basics of the platform and start working with it.\n",
    "\n",
    "**Datalore** is the collaborative data science platform developed by JetBrains.\n",
    "\n",
    "This tutorial is a great place to learn about major Datalore features. If you want more information, you can:\n",
    "- Visit our [Documentation](https:\/\/www.jetbrains.com\/help\/datalore\/datalore-quickstart.html) for guides on specific features.\n",
    "- Subscribe to the [Datalore's blog](https:\/\/blog.jetbrains.com\/datalore\/). You will receive emails about feature announcements and Datalore tutorials!"
   ],
   "attachments":{
    
   },
   "metadata":{
    "datalore":{
     "node_id":"b0PlGeKUN03L4qbop9rwpK",
     "type":"MD",
     "hide_input_from_viewers":false,
     "hide_output_from_viewers":false,
     "report_properties":{
      "rowId":"RpOOPpNsaqQ7AQUoWBjzCm"
     }
    }
   }
  },
  {
   "cell_type":"markdown",
   "source":[
    "## Watch this 2-minute Datalore overview video!\n",
    "<div align=\"center\"><video width=\"800\" height=\"450\" controls>\n",
    "\n",
    "<source src=\"https:\/\/datalore-samples.s3.eu-west-1.amazonaws.com\/getting-started\/videos_new\/Quick+Datalore+Overview.mp4\" type=\"video\/mp4\">\n",
    "\n",
    "<\/video><\/div>"
   ],
   "attachments":{
    
   },
   "metadata":{
    "datalore":{
     "node_id":"sQxnIuCeE0kaOcBWGTyUeh",
     "type":"MD",
     "hide_input_from_viewers":false,
     "hide_output_from_viewers":false,
     "report_properties":{
      "rowId":"FE9qoE20D3fVyPOo7DtSfY"
     }
    }
   }
  },
  {
   "cell_type":"code",
   "source":[
    "message = \"😍🚀🙏🏻\""
   ],
   "execution_count":20,
   "outputs":[
    
   ],
   "metadata":{
    "datalore":{
     "node_id":"Wcm1Qn9KUjgxnAfUsDY0mj",
     "type":"CONTROL",
     "hide_input_from_viewers":false,
     "hide_output_from_viewers":false,
     "report_properties":{
      "rowId":"GRJRqRxkOyX26yIi2lOxBj"
     },
     "controls_state":[
      {
       "type":"INPUT",
       "label":"How are you today?",
       "variable":"message",
       "value":"😍🚀🙏🏻",
       "multiline":false
      }
     ]
    }
   }
  },
  {
   "cell_type":"code",
   "source":[
    "print(\"Hi, Datalore! I'm feeling \" + message)"
   ],
   "execution_count":21,
   "outputs":[
    {
     "name":"stdout",
     "text":[
      "Hi, Datalore! I'm feeling 😍🚀🙏🏻\n"
     ],
     "output_type":"stream"
    }
   ],
   "metadata":{
    "datalore":{
     "node_id":"WqFWoYBfavNlsUD0fQP8sG",
     "type":"CODE",
     "hide_input_from_viewers":false,
     "hide_output_from_viewers":false,
     "report_properties":{
      "rowId":"npSyBAgbEHyNCbZ2TfH7tO"
     }
    }
   }
  },
  {
   "cell_type":"markdown",
   "source":[
    "💡 This tutorial is split into **worksheets**, and it is the first cool feature of the Datalore Editor!\n",
    "Just navigate through the tabs at the bottom of the editor or use the Table of contents on the left-hand sidebar.\n",
    "\n",
    "<div><img src=\"https:\/\/datalore-samples.s3.eu-west-1.amazonaws.com\/getting-started\/videos_new\/worksheets.png\" width = 900 border=\"2\" style=\"border-color: #d3d3d3; margin-top: 1%;\"\/><\/div>"
   ],
   "attachments":{
    
   },
   "metadata":{
    "datalore":{
     "node_id":"B0yf3j6P4Zz4K5I3WMpgOK",
     "type":"MD",
     "hide_input_from_viewers":false,
     "hide_output_from_viewers":false,
     "report_properties":{
      "rowId":"dAYZ92roE3FWsGGgEW475q"
     }
    }
   }
  },
  {
   "cell_type":"markdown",
   "source":[
    "## Video tutorial: Notebook Editor\n",
    "\n",
    "<div align=\"center\"><video width=\"800\" height=\"450\" controls>\n",
    "\n",
    "<source src=\"https:\/\/datalore-samples.s3.eu-west-1.amazonaws.com\/getting-started\/videos_new\/1_Datalore_Editor+Overview.mp4\" type=\"video\/mp4\">\n",
    "\n",
    "<\/video><\/div>"
   ],
   "attachments":{
    
   },
   "metadata":{
    "datalore":{
     "node_id":"xImM2eWnUluYtOpEeLzvvd",
     "type":"MD",
     "hide_input_from_viewers":false,
     "hide_output_from_viewers":false,
     "report_properties":{
      "rowId":"nU6Hxqj6xPu47eVpa7CMTb"
     }
    }
   }
  },
  {
   "cell_type":"markdown",
   "source":[
    "## Cells\n",
    "\n",
    "Inside the notebook you can add:\n",
    "\n",
    "- **Python code cells**, where you can use powerful coding assistance features such as code completion, quick-fixes, documentation popups, refactorings, and more. Code cells also support IPython magic commands.\n",
    "- **SQL cells** with code completion for both SQL syntax and database column names. The query result of a SQL cell is automatically transferred to the pandas dataframe.\n",
    "- **Markdown cells** with a text formatting toolbar and LaTeX support.\n",
    "- **Interactive controls** such as Dropdowns, Sliders, Text inputs, Checkboxes, Date pickers, Metric cells, Chart cells, and visibility controls.\n",
    "\n",
    "To add a new cell, hover over the bottom center of a cell and choose the cell type you want to add. \n",
    "Check out the [Shortcuts 101](.\/#Shortcuts-101) tab for a collection of the most useful shortcuts in Datalore.\n",
    "\n",
    "<div><img src=\"https:\/\/datalore-samples.s3.eu-west-1.amazonaws.com\/getting-started\/videos_new\/add_cell2.png\" width = 600 border=\"2\" style=\"border-color: #d3d3d3; margin-top: 1%;\"\/><\/div>"
   ],
   "attachments":{
    
   },
   "metadata":{
    "datalore":{
     "node_id":"hSGZmx2LhqpTN5lTyGgHH3",
     "type":"MD",
     "hide_input_from_viewers":false,
     "hide_output_from_viewers":false,
     "report_properties":{
      "rowId":"r8vRGtoCVxp1SJlqKP5hnu"
     }
    }
   }
  },
  {
   "cell_type":"markdown",
   "source":[
    "## Essential tools on the Left-hand sidebar\n",
    "\n",
    "You can access the most important Datalore features from the left-hand sidebar menu:\n",
    "- Configure the environment and install additional packages inside the **Environment** tab.\n",
    "- Upload data files and connect databases and S3 buckets from the **Attached data** tab.\n",
    "- See machine statistics, and configure Background computation and Scheduled runs from the **Computation** tab.\n",
    "- Navigate through the notebook using the **Table of contents** tab.\n",
    "- Browse variable contents from the **Variable viewer** tab.\n",
    "\n",
    "<div><img src=\"https:\/\/datalore-samples.s3.eu-west-1.amazonaws.com\/getting-started\/videos_new\/left_sidebar2.png\" title = \"Computation tab in the left-hand sidebar\" width = 600 border=\"2\" style=\"border-color: #d3d3d3; margin-top: 1%;\" \/><\/div>"
   ],
   "attachments":{
    
   },
   "metadata":{
    "datalore":{
     "node_id":"rrATKmyFywamadgmPpESi4",
     "type":"MD",
     "hide_input_from_viewers":false,
     "hide_output_from_viewers":false,
     "report_properties":{
      "rowId":"aXrJOgfH8cjQEWarsNfAGH"
     }
    }
   }
  },
  {
   "cell_type":"markdown",
   "source":[
    "**Now please switch to the second worksheet tab: Data**"
   ],
   "attachments":{
    
   },
   "metadata":{
    "datalore":{
     "node_id":"M4rw6Y8dQEoOjPyCPQSUD5",
     "type":"MD",
     "hide_input_from_viewers":false,
     "hide_output_from_viewers":false,
     "report_properties":{
      "rowId":"l7wuV7iTg3lWH8fRoXt0CZ"
     }
    }
   }
  },
  {
   "cell_type":"markdown",
   "source":[
    "# Data"
   ],
   "attachments":{
    
   },
   "metadata":{
    "datalore":{
     "node_id":"Data",
     "type":"MD",
     "hide_input_from_viewers":false,
     "hide_output_from_viewers":false,
     "sheet_delimiter":true
    }
   }
  },
  {
   "cell_type":"code",
   "source":[
    
   ],
   "execution_count":0,
   "outputs":[
    
   ],
   "metadata":{
    "datalore":{
     "node_id":"w8hF0vFgURINGz7yGJvA9J",
     "type":"CODE",
     "hide_input_from_viewers":true,
     "hide_output_from_viewers":true
    }
   }
  },
  {
   "cell_type":"markdown",
   "source":[
    "# Environment"
   ],
   "attachments":{
    
   },
   "metadata":{
    "datalore":{
     "node_id":"Environment",
     "type":"MD",
     "hide_input_from_viewers":false,
     "hide_output_from_viewers":false,
     "sheet_delimiter":true
    }
   }
  },
  {
   "cell_type":"code",
   "source":[
    
   ],
   "execution_count":0,
   "outputs":[
    
   ],
   "metadata":{
    "datalore":{
     "node_id":"gf9Dym3aAMl0hNcuZ2jOeK",
     "type":"CODE",
     "hide_input_from_viewers":true,
     "hide_output_from_viewers":true
    }
   }
  },
  {
   "cell_type":"markdown",
   "source":[
    "# Sharing"
   ],
   "attachments":{
    
   },
   "metadata":{
    "datalore":{
     "node_id":"Sharing",
     "type":"MD",
     "hide_input_from_viewers":false,
     "hide_output_from_viewers":false,
     "sheet_delimiter":true
    }
   }
  },
  {
   "cell_type":"code",
   "source":[
    
   ],
   "execution_count":0,
   "outputs":[
    
   ],
   "metadata":{
    "datalore":{
     "node_id":"kR0yxfLKXhjp90qwYTZrc4",
     "type":"CODE",
     "hide_input_from_viewers":true,
     "hide_output_from_viewers":true
    }
   }
  },
  {
   "cell_type":"markdown",
   "source":[
    "# Reporting"
   ],
   "attachments":{
    
   },
   "metadata":{
    "datalore":{
     "node_id":"Reporting",
     "type":"MD",
     "hide_input_from_viewers":false,
     "hide_output_from_viewers":false,
     "sheet_delimiter":true
    }
   }
  },
  {
   "cell_type":"code",
   "source":[
    
   ],
   "execution_count":0,
   "outputs":[
    
   ],
   "metadata":{
    "datalore":{
     "node_id":"FUrwYmw24VqpFu4mOtwdhF",
     "type":"CODE",
     "hide_input_from_viewers":true,
     "hide_output_from_viewers":true
    }
   }
  },
  {
   "cell_type":"markdown",
   "source":[
    "# Automations"
   ],
   "attachments":{
    
   },
   "metadata":{
    "datalore":{
     "node_id":"Automations",
     "type":"MD",
     "hide_input_from_viewers":false,
     "hide_output_from_viewers":false,
     "sheet_delimiter":true
    }
   }
  },
  {
   "cell_type":"code",
   "source":[
    
   ],
   "execution_count":0,
   "outputs":[
    
   ],
   "metadata":{
    "datalore":{
     "node_id":"EC36m8HUjABCCgxJYOYjqX",
     "type":"CODE",
     "hide_input_from_viewers":true,
     "hide_output_from_viewers":true
    }
   }
  },
  {
   "cell_type":"markdown",
   "source":[
    "# Tutorials"
   ],
   "attachments":{
    
   },
   "metadata":{
    "datalore":{
     "node_id":"Tutorials",
     "type":"MD",
     "hide_input_from_viewers":false,
     "hide_output_from_viewers":false,
     "sheet_delimiter":true
    }
   }
  },
  {
   "cell_type":"code",
   "source":[
    
   ],
   "execution_count":0,
   "outputs":[
    
   ],
   "metadata":{
    "datalore":{
     "node_id":"tkr7Riot8Fd1kJO45OfmI1",
     "type":"CODE",
     "hide_input_from_viewers":true,
     "hide_output_from_viewers":true
    }
   }
  }
 ],
 "metadata":{
  "kernelspec":{
   "display_name":"Python",
   "language":"python",
   "name":"python"
  },
  "datalore":{
   "computation_mode":"JUPYTER",
   "package_manager":"pip",
   "base_environment":"default",
   "packages":[
    
   ],
   "report_row_ids":[
    "2YndeLy2IfT7nfiMulRCz5",
    "RpOOPpNsaqQ7AQUoWBjzCm",
    "FE9qoE20D3fVyPOo7DtSfY",
    "GRJRqRxkOyX26yIi2lOxBj",
    "npSyBAgbEHyNCbZ2TfH7tO",
    "dAYZ92roE3FWsGGgEW475q",
    "nU6Hxqj6xPu47eVpa7CMTb",
    "r8vRGtoCVxp1SJlqKP5hnu",
    "aXrJOgfH8cjQEWarsNfAGH",
    "l7wuV7iTg3lWH8fRoXt0CZ",
    "pyGGzJ5h8LuTCWF03b4m4V",
    "s1pg7562WagYLoPB7jHL3k",
    "bGo1OQaZXj7JOl5PTaipAt",
    "4aVF7nCmNuLRArQBX1540K",
    "Un4euCg1KTjMaOzokRxZ1W",
    "wRlo7qugmhRPH1uWPhtm4Q",
    "zbSQF3KL4Rz0knCVNWBn5w",
    "kiHYchw4tHUfVQ5u0WQLne",
    "9Y2LvuI3R4qSArKoIPvotG",
    "Z8SIYyv1zVu3LvSCIO4mFP",
    "FeAvwZvolZq5tlmD1pHzqO",
    "zRwfRNEtgXMI7QH34M3qSG",
    "59GTYv5AhATXgcuze9kL8s",
    "4a4azkCpb6Z84rKJ67EnwT",
    "q6gNCdZYeLsR5Wa4hNHjo0",
    "xxDsCQBKp8z0tHjn3qjszA",
    "Sdj7ErdHZdcnDHrtjSxsK2",
    "DbGWq2XYfSfQvB5DO5nuQn",
    "Hhmeyqce80PQ03TjQimW9H",
    "gCvyXMjTac01qTdq9bAFZL",
    "NdH3Ir9pp5LCeA5owXgiLD",
    "ieyJAtoIZarj1CSfBTtnPu",
    "QXXxUVgboUD6DwjqbtqbmN",
    "77CMZB2HEv3mjM0zqiVKjK",
    "C8pEUw7LqWpzvX0aNW2S6V",
    "0PHDsTXwL4orRPj3a7jYuc",
    "1suH62rf8sunNLrhb307Ei",
    "WbMTqEW95pbieoNdmCKejh",
    "T6Wjdv14teutNImI2HM4cc",
    "pZ564eOJmVyRCXcOTo1SXW",
    "FJmdDibKgTXp1EMiFhjjDF"
   ],
   "version":3
  }
 },
 "nbformat":4,
 "nbformat_minor":4
}