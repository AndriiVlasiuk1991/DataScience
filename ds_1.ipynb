{
 "cells":[
  {
   "cell_type":"markdown",
   "source":[
    "# Editor"
   ],
   "attachments":{
    
   },
   "metadata":{
    "datalore":{
     "node_id":"Editor",
     "type":"MD",
     "hide_input_from_viewers":false,
     "hide_output_from_viewers":false,
     "sheet_delimiter":true
    }
   }
  },
  {
   "cell_type":"code",
   "source":[
    "from numpy import arange, zeros, random, dot, linalg, transpose, multiply, subtract, square, sqrt\n",
    "import numpy as np"
   ],
   "execution_count":79,
   "outputs":[
    
   ],
   "metadata":{
    "datalore":{
     "node_id":"38y7jTgE9cOMt9rAFokr8s",
     "type":"CODE",
     "hide_input_from_viewers":true,
     "hide_output_from_viewers":false,
     "report_properties":{
      "rowId":"2YndeLy2IfT7nfiMulRCz5"
     }
    }
   }
  },
  {
   "cell_type":"code",
   "source":[
    "vector = arange(1, 11)\n",
    "print('1. Створіть одновимірний масив (вектор) з першими 10-ма натуральними числами та виведіть його значення.')\n",
    "print(f'Вектор: \\n{vector}\\n')"
   ],
   "execution_count":80,
   "outputs":[
    {
     "name":"stdout",
     "text":[
      "1. Створіть одновимірний масив (вектор) з першими 10-ма натуральними числами та виведіть його значення.\n",
      "Вектор: \n",
      "[ 1  2  3  4  5  6  7  8  9 10]\n",
      "\n"
     ],
     "output_type":"stream"
    }
   ],
   "metadata":{
    "datalore":{
     "node_id":"2twapglPxqpjXEKjEpTZ5j",
     "type":"CODE",
     "hide_input_from_viewers":true,
     "hide_output_from_viewers":true
    }
   }
  },
  {
   "cell_type":"code",
   "source":[
    "matrix = zeros((3, 3))\n",
    "print('2. Створіть двовимірний масив (матрицю) розміром 3x3, заповніть його нулями та виведіть його значення.')\n",
    "print(f'Матриця: \\n{matrix}\\n')"
   ],
   "execution_count":81,
   "outputs":[
    {
     "name":"stdout",
     "text":[
      "2. Створіть двовимірний масив (матрицю) розміром 3x3, заповніть його нулями та виведіть його значення.\n",
      "Матриця: \n",
      "[[0. 0. 0.]\n",
      " [0. 0. 0.]\n",
      " [0. 0. 0.]]\n",
      "\n"
     ],
     "output_type":"stream"
    }
   ],
   "metadata":{
    "datalore":{
     "node_id":"DknAhZ71cnsbdqEiDlAmxW",
     "type":"CODE",
     "hide_input_from_viewers":true,
     "hide_output_from_viewers":true
    }
   }
  },
  {
   "cell_type":"code",
   "source":[
    "random_matrix = random.randint(1, 11, size=(5, 5))\n",
    "print(\n",
    "    '3. Створіть масив розміром 5x5, заповніть його випадковими цілими числами в діапазоні від 1 до 10 та виведіть його значення.')\n",
    "print(f'Матриця: \\n{random_matrix}\\n')"
   ],
   "execution_count":82,
   "outputs":[
    {
     "name":"stdout",
     "text":[
      "3. Створіть масив розміром 5x5, заповніть його випадковими цілими числами в діапазоні від 1 до 10 та виведіть його значення.\n",
      "Матриця: \n",
      "[[ 3  6  6  7  2]\n",
      " [ 1  9  6  5  4]\n",
      " [ 6  8 10  6  7]\n",
      " [ 4  8  6  1  3]\n",
      " [ 6  3  3  2  9]]\n",
      "\n"
     ],
     "output_type":"stream"
    }
   ],
   "metadata":{
    "datalore":{
     "node_id":"Z4bRmNF9gnY6b9varWSIEB",
     "type":"CODE",
     "hide_input_from_viewers":true,
     "hide_output_from_viewers":true
    }
   }
  },
  {
   "cell_type":"code",
   "source":[
    "random_matrix = random.rand(4, 4)\n",
    "print(\n",
    "    '4. Створіть масив розміром 4x4, заповніть його випадковими дійсними числами в діапазоні від 0 до 1 та виведіть його значення.')\n",
    "print(f'Матриця: \\n{random_matrix}\\n')"
   ],
   "execution_count":83,
   "outputs":[
    {
     "name":"stdout",
     "text":[
      "4. Створіть масив розміром 4x4, заповніть його випадковими дійсними числами в діапазоні від 0 до 1 та виведіть його значення.\n",
      "Матриця: \n",
      "[[0.08054729 0.03698807 0.12849522 0.94131116]\n",
      " [0.34450729 0.08907403 0.15746486 0.08555533]\n",
      " [0.78407978 0.81937871 0.54557663 0.74585082]\n",
      " [0.59953105 0.9410038  0.40099061 0.75412827]]\n",
      "\n"
     ],
     "output_type":"stream"
    }
   ],
   "metadata":{
    "datalore":{
     "node_id":"N5ql7I6aPIBaaSV5hClSzn",
     "type":"CODE",
     "hide_input_from_viewers":true,
     "hide_output_from_viewers":true
    }
   }
  },
  {
   "cell_type":"code",
   "source":[
    "array_1 = random.randint(1, 11, size=5)\n",
    "array_2 = random.randint(1, 11, size=5)\n",
    "sum = array_1 + array_2\n",
    "sub = array_1 - array_2\n",
    "multiplication = array_1 * array_2\n",
    "print(\n",
    "    '5. Створіть два одновимірних масиви розміром 5, заповніть їх випадковими цілими числами в діапазоні від 1 до 10 та виконайте на них поелементні операції додавання, віднімання та множення.')\n",
    "print(f'Вектор 1: {array_1}')\n",
    "print(f'Вектор 2: {array_2}')\n",
    "print(f'Сума: {sum}')\n",
    "print(f'Різниця: {sub}')\n",
    "print(f'Добуток: {multiplication}\\n')"
   ],
   "execution_count":84,
   "outputs":[
    {
     "name":"stdout",
     "text":[
      "5. Створіть два одновимірних масиви розміром 5, заповніть їх випадковими цілими числами в діапазоні від 1 до 10 та виконайте на них поелементні операції додавання, віднімання та множення.\n",
      "Вектор 1: [ 8 10  4  9  9]\n",
      "Вектор 2: [ 3  3  2 10  4]\n",
      "Сума: [11 13  6 19 13]\n",
      "Різниця: [ 5  7  2 -1  5]\n",
      "Добуток: [24 30  8 90 36]\n",
      "\n"
     ],
     "output_type":"stream"
    }
   ],
   "metadata":{
    "datalore":{
     "node_id":"sJalNTo90oQvuS5U3qJ7Bj",
     "type":"CODE",
     "hide_input_from_viewers":true,
     "hide_output_from_viewers":true
    }
   }
  },
  {
   "cell_type":"code",
   "source":[
    "vector_1 = random.randint(1, 11, size=7)\n",
    "vector_2 = random.randint(1, 11, size=7)\n",
    "scalar = dot(vector_1, vector_2)\n",
    "print('6. Створіть два вектори розміром 7, заповніть довільними числами та знайдіть їх скалярний добуток.')\n",
    "print(f'Вектор 1: {vector_1}')\n",
    "print(f'Вектор 2: {vector_2}')\n",
    "print(f'Cкалярний добуток: {scalar}\\n')"
   ],
   "execution_count":85,
   "outputs":[
    {
     "name":"stdout",
     "text":[
      "6. Створіть два вектори розміром 7, заповніть довільними числами та знайдіть їх скалярний добуток.\n",
      "Вектор 1: [4 3 7 1 3 5 1]\n",
      "Вектор 2: [3 7 3 7 4 9 9]\n",
      "Cкалярний добуток: 127\n",
      "\n"
     ],
     "output_type":"stream"
    }
   ],
   "metadata":{
    "datalore":{
     "node_id":"txEaKTNh5MDDXIJ14JItfF",
     "type":"CODE",
     "hide_input_from_viewers":true,
     "hide_output_from_viewers":true
    }
   }
  },
  {
   "cell_type":"code",
   "source":[
    "matrix_1 = random.randint(1, 11, size=(2, 2))\n",
    "matrix_2 = random.randint(1, 11, size=(2, 3))\n",
    "multiplication = dot(matrix_1, matrix_2)\n",
    "print(\n",
    "    '7. Створіть дві матриці розміром 2x2 та 2x3, заповніть їх випадковими цілими числами в діапазоні від 1 до 10 та перемножте їх між собою.')\n",
    "print(f'Матриця 1: \\n{matrix_1}')\n",
    "print(f'Матриця 2: \\n{matrix_2}')\n",
    "print(f'Результат множення матриць: \\n{multiplication}\\n')"
   ],
   "execution_count":86,
   "outputs":[
    {
     "name":"stdout",
     "text":[
      "7. Створіть дві матриці розміром 2x2 та 2x3, заповніть їх випадковими цілими числами в діапазоні від 1 до 10 та перемножте їх між собою.\n",
      "Матриця 1: \n",
      "[[ 5 10]\n",
      " [ 3  1]]\n",
      "Матриця 2: \n",
      "[[1 5 3]\n",
      " [2 9 9]]\n",
      "Результат множення матриць: \n",
      "[[ 25 115 105]\n",
      " [  5  24  18]]\n",
      "\n"
     ],
     "output_type":"stream"
    }
   ],
   "metadata":{
    "datalore":{
     "node_id":"b6v7Zlsvmvyk6rPloSnCHx",
     "type":"CODE",
     "hide_input_from_viewers":true,
     "hide_output_from_viewers":true
    }
   }
  },
  {
   "cell_type":"code",
   "source":[
    "matrix = random.randint(1, 11, size=(3, 3))\n",
    "print(\n",
    "    '8. Створіть матрицю розміром 3x3, заповніть її випадковими цілими числами в діапазоні від 1 до 10 та знайдіть її обернену матрицю.')\n",
    "print(f'Матриця: \\n{matrix}')\n",
    "try:\n",
    "    inv_matrix = linalg.inv(matrix)\n",
    "    print(f'Обернена матриця: \\n{inv_matrix}\\n')\n",
    "except linalg.LinAlgError:\n",
    "    print(f'Обернена матриця не існує\\n')"
   ],
   "execution_count":87,
   "outputs":[
    {
     "name":"stdout",
     "text":[
      "8. Створіть матрицю розміром 3x3, заповніть її випадковими цілими числами в діапазоні від 1 до 10 та знайдіть її обернену матрицю.\n",
      "Матриця: \n",
      "[[10 10 10]\n",
      " [10  2  5]\n",
      " [10  2  9]]\n",
      "Обернена матриця: \n",
      "[[-0.025    0.21875 -0.09375]\n",
      " [ 0.125    0.03125 -0.15625]\n",
      " [ 0.      -0.25     0.25   ]]\n",
      "\n"
     ],
     "output_type":"stream"
    }
   ],
   "metadata":{
    "datalore":{
     "node_id":"zYjIWnrJOQYTaOMZix9rZ0",
     "type":"CODE",
     "hide_input_from_viewers":true,
     "hide_output_from_viewers":true
    }
   }
  },
  {
   "cell_type":"code",
   "source":[
    "matrix = random.randint(1, 11, size=(4, 4))\n",
    "trans_matrix = transpose(matrix)\n",
    "print(\n",
    "    '9. Створіть матрицю розміром 4x4, заповніть її випадковими дійсними числами в діапазоні від 0 до 1 та транспонуйте її.')\n",
    "print(f'Матриця: \\n{matrix}')\n",
    "print(f'Транспонована матриця: \\n{trans_matrix}\\n')"
   ],
   "execution_count":88,
   "outputs":[
    {
     "name":"stdout",
     "text":[
      "9. Створіть матрицю розміром 4x4, заповніть її випадковими дійсними числами в діапазоні від 0 до 1 та транспонуйте її.\n",
      "Матриця: \n",
      "[[10  3 10  6]\n",
      " [10  2  9  9]\n",
      " [ 3  6  8 10]\n",
      " [ 9  8  6  3]]\n",
      "Транспонована матриця: \n",
      "[[10 10  3  9]\n",
      " [ 3  2  6  8]\n",
      " [10  9  8  6]\n",
      " [ 6  9 10  3]]\n",
      "\n"
     ],
     "output_type":"stream"
    }
   ],
   "metadata":{
    "datalore":{
     "node_id":"24D83jJ6uluD5wVVx6ugkL",
     "type":"CODE",
     "hide_input_from_viewers":true,
     "hide_output_from_viewers":true
    }
   }
  },
  {
   "cell_type":"code",
   "source":[
    "matrix = random.randint(1, 11, size=(3, 4))\n",
    "vector = random.randint(1, 11, size=4)\n",
    "result_vector = dot(matrix, vector)\n",
    "print(\n",
    "    '10. Створіть матрицю розміром 3x4 та вектор розміром 4, заповніть їх випадковими цілими числами в діапазоні від 1 до 10 та перемножте матрицю на вектор.')\n",
    "print(f'Матриця: \\n{matrix}')\n",
    "print(f'Вектор: {vector}')\n",
    "print(f'Результат множення матриці на вектор: {result_vector}\\n')"
   ],
   "execution_count":89,
   "outputs":[
    {
     "name":"stdout",
     "text":[
      "10. Створіть матрицю розміром 3x4 та вектор розміром 4, заповніть їх випадковими цілими числами в діапазоні від 1 до 10 та перемножте матрицю на вектор.\n",
      "Матриця: \n",
      "[[ 6  7 10  7]\n",
      " [ 7  1  7  1]\n",
      " [ 6  9  1  4]]\n",
      "Вектор: [9 5 4 4]\n",
      "Результат множення матриці на вектор: [157 100 119]\n",
      "\n"
     ],
     "output_type":"stream"
    }
   ],
   "metadata":{
    "datalore":{
     "node_id":"UDpZM5azII1Ux1tnzNqwSX",
     "type":"CODE",
     "hide_input_from_viewers":true,
     "hide_output_from_viewers":true
    }
   }
  },
  {
   "cell_type":"code",
   "source":[
    "matrix = random.rand(2, 3)\n",
    "vector = random.rand(3)\n",
    "result_vector = dot(matrix, vector)\n",
    "print(\n",
    "    '11. Створіть матрицю розміром 2x3 та вектор розміром 3, заповніть їх випадковими дійсними числами в діапазоні від 0 до 1 та перемножте матрицю на вектор.')\n",
    "print(f'Матриця: \\n{matrix}')\n",
    "print(f'Вектор: {vector}')\n",
    "print(f'Результат множення матриці на вектор: {result_vector}\\n')"
   ],
   "execution_count":90,
   "outputs":[
    {
     "name":"stdout",
     "text":[
      "11. Створіть матрицю розміром 2x3 та вектор розміром 3, заповніть їх випадковими дійсними числами в діапазоні від 0 до 1 та перемножте матрицю на вектор.\n",
      "Матриця: \n",
      "[[0.83510862 0.68920196 0.0371938 ]\n",
      " [0.92987486 0.82302    0.88195311]]\n",
      "Вектор: [0.00644033 0.10441639 0.55716414]\n",
      "Результат множення матриці на вектор: [0.09806541 0.58331813]\n",
      "\n"
     ],
     "output_type":"stream"
    }
   ],
   "metadata":{
    "datalore":{
     "node_id":"qNBLmhP8TfEYJWdZ6wptWY",
     "type":"CODE",
     "hide_input_from_viewers":true,
     "hide_output_from_viewers":true
    }
   }
  },
  {
   "cell_type":"code",
   "source":[
    "matrix_1 = random.randint(1, 11, size=(2, 2))\n",
    "matrix_2 = random.randint(1, 11, size=(2, 2))\n",
    "elementwise = multiply(matrix_1, matrix_2)\n",
    "print(\n",
    "    '12. Створіть дві матриці розміром 2x2, заповніть їх випадковими цілими числами в діапазоні від 1 до 10 та виконайте їхнє поелементне множення.')\n",
    "print(f'Матриця 1: \\n{matrix_1}')\n",
    "print(f'Матриця 2: \\n{matrix_2}')\n",
    "print(f'Результат поелементного множення матриць: \\n{elementwise}\\n')"
   ],
   "execution_count":91,
   "outputs":[
    {
     "name":"stdout",
     "text":[
      "12. Створіть дві матриці розміром 2x2, заповніть їх випадковими цілими числами в діапазоні від 1 до 10 та виконайте їхнє поелементне множення.\n",
      "Матриця 1: \n",
      "[[8 9]\n",
      " [4 4]]\n",
      "Матриця 2: \n",
      "[[5 4]\n",
      " [3 4]]\n",
      "Результат поелементного множення матриць: \n",
      "[[40 36]\n",
      " [12 16]]\n",
      "\n"
     ],
     "output_type":"stream"
    }
   ],
   "metadata":{
    "datalore":{
     "node_id":"3xIjTVbb78TGyrAatRM9e4",
     "type":"CODE",
     "hide_input_from_viewers":true,
     "hide_output_from_viewers":true
    }
   }
  },
  {
   "cell_type":"code",
   "source":[
    "matrix_1 = random.randint(1, 11, size=(2, 2))\n",
    "matrix_2 = random.randint(1, 11, size=(2, 2))\n",
    "product = dot(matrix_1, matrix_2)\n",
    "print(\n",
    "    '13. Створіть дві матриці розміром 2x2, заповніть їх випадковими цілими числами в діапазоні від 1 до 10 та знайдіть їх добуток.')\n",
    "print(f'Матриця 1: \\n{matrix_1}')\n",
    "print(f'Матриця 2: \\n{matrix_2}')\n",
    "print(f'Добуток матриць: \\n{product}\\n')"
   ],
   "execution_count":92,
   "outputs":[
    {
     "name":"stdout",
     "text":[
      "13. Створіть дві матриці розміром 2x2, заповніть їх випадковими цілими числами в діапазоні від 1 до 10 та знайдіть їх добуток.\n",
      "Матриця 1: \n",
      "[[8 8]\n",
      " [4 4]]\n",
      "Матриця 2: \n",
      "[[7 3]\n",
      " [2 5]]\n",
      "Добуток матриць: \n",
      "[[72 64]\n",
      " [36 32]]\n",
      "\n"
     ],
     "output_type":"stream"
    }
   ],
   "metadata":{
    "datalore":{
     "node_id":"zxihEFp0ifiFjNff2Kx7No",
     "type":"CODE",
     "hide_input_from_viewers":true,
     "hide_output_from_viewers":true
    }
   }
  },
  {
   "cell_type":"code",
   "source":[
    "matrix = random.randint(1, 101, size=(5, 5))\n",
    "sum_elements = np.sum(matrix)\n",
    "print(\n",
    "    '14. Створіть матрицю розміром 5x5, заповніть її випадковими цілими числами в діапазоні від 1 до 100 та знайдіть суму елементів матриці.')\n",
    "print(f'Матриця: \\n{matrix}')\n",
    "print(f'Сума елементів матриці: {sum_elements}\\n')"
   ],
   "execution_count":93,
   "outputs":[
    {
     "name":"stdout",
     "text":[
      "14. Створіть матрицю розміром 5x5, заповніть її випадковими цілими числами в діапазоні від 1 до 100 та знайдіть суму елементів матриці.\n",
      "Матриця: \n",
      "[[66 85  3  8 42]\n",
      " [90  7 90 17 82]\n",
      " [15 65  2 73 81]\n",
      " [45 18 99 72 66]\n",
      " [40 48 64 32 49]]\n",
      "Сума елементів матриці: 1259\n",
      "\n"
     ],
     "output_type":"stream"
    }
   ],
   "metadata":{
    "datalore":{
     "node_id":"Y92cJ1K3ujJateEWkgjCMO",
     "type":"CODE",
     "hide_input_from_viewers":true,
     "hide_output_from_viewers":true
    }
   }
  },
  {
   "cell_type":"code",
   "source":[
    "matrix_1 = random.randint(1, 11, size=(4, 4))\n",
    "matrix_2 = random.randint(1, 11, size=(4, 4))\n",
    "product = subtract(matrix_1, matrix_2)\n",
    "print(\n",
    "    '15. Створіть дві матриці розміром 4x4, заповніть їх випадковими цілими числами в діапазоні від 1 до 10 та знайдіть їхню різницю.')\n",
    "print(f'Матриця 1: \\n{matrix_1}')\n",
    "print(f'Матриця 2: \\n{matrix_2}')\n",
    "print(f'Різниця матриць: \\n{product}\\n')"
   ],
   "execution_count":94,
   "outputs":[
    {
     "name":"stdout",
     "text":[
      "15. Створіть дві матриці розміром 4x4, заповніть їх випадковими цілими числами в діапазоні від 1 до 10 та знайдіть їхню різницю.\n",
      "Матриця 1: \n",
      "[[3 7 8 1]\n",
      " [8 1 6 3]\n",
      " [1 6 5 7]\n",
      " [5 6 5 3]]\n",
      "Матриця 2: \n",
      "[[1 5 9 3]\n",
      " [2 3 9 2]\n",
      " [1 9 7 9]\n",
      " [2 4 8 3]]\n",
      "Різниця матриць: \n",
      "[[ 2  2 -1 -2]\n",
      " [ 6 -2 -3  1]\n",
      " [ 0 -3 -2 -2]\n",
      " [ 3  2 -3  0]]\n",
      "\n"
     ],
     "output_type":"stream"
    }
   ],
   "metadata":{
    "datalore":{
     "node_id":"J5DuobahCawZHuy2m9pFr7",
     "type":"CODE",
     "hide_input_from_viewers":true,
     "hide_output_from_viewers":true
    }
   }
  },
  {
   "cell_type":"code",
   "source":[
    "matrix = random.rand(3, 3)\n",
    "row_sums = np.sum(matrix, axis=1, keepdims=True)\n",
    "print(\n",
    "    '16. Створіть матрицю розміром 3x3, заповніть її випадковими дійсними числами в діапазоні від 0 до 1 та знайдіть вектор-стовпчик, що містить суму елементів кожного рядка матриці.')\n",
    "print(f'Матриця: \\n{matrix}')\n",
    "print(f'Cума елементів кожного рядка матриці: \\n{row_sums}\\n')"
   ],
   "execution_count":95,
   "outputs":[
    {
     "name":"stdout",
     "text":[
      "16. Створіть матрицю розміром 3x3, заповніть її випадковими дійсними числами в діапазоні від 0 до 1 та знайдіть вектор-стовпчик, що містить суму елементів кожного рядка матриці.\n",
      "Матриця: \n",
      "[[0.80513643 0.20177458 0.29649347]\n",
      " [0.87856924 0.37678925 0.70889989]\n",
      " [0.41783686 0.35936055 0.31195316]]\n",
      "Cума елементів кожного рядка матриці: \n",
      "[[1.30340449]\n",
      " [1.96425838]\n",
      " [1.08915056]]\n",
      "\n"
     ],
     "output_type":"stream"
    }
   ],
   "metadata":{
    "datalore":{
     "node_id":"Ht0q1ubCQRkHyRqDtZJyhO",
     "type":"CODE",
     "hide_input_from_viewers":true,
     "hide_output_from_viewers":true
    }
   }
  },
  {
   "cell_type":"code",
   "source":[
    "matrix = random.randint(-10, 11, size=(3, 4))\n",
    "square_matrix = square(matrix)\n",
    "print('17. Створіть матрицю розміром 3x4 з довільними цілими числами і створінь матрицю з квадратами цих чисел.')\n",
    "print(f'Матриця: \\n{matrix}')\n",
    "print(f'Матриця з квадратами чисел: \\n{square_matrix}\\n')"
   ],
   "execution_count":96,
   "outputs":[
    {
     "name":"stdout",
     "text":[
      "17. Створіть матрицю розміром 3x4 з довільними цілими числами і створінь матрицю з квадратами цих чисел.\n",
      "Матриця: \n",
      "[[ 9 -4  0 -3]\n",
      " [-2 10  1  7]\n",
      " [-1 -3  7 -8]]\n",
      "Матриця з квадратами чисел: \n",
      "[[ 81  16   0   9]\n",
      " [  4 100   1  49]\n",
      " [  1   9  49  64]]\n",
      "\n"
     ],
     "output_type":"stream"
    }
   ],
   "metadata":{
    "datalore":{
     "node_id":"61gRejFzB14coPTdCpRTf2",
     "type":"CODE",
     "hide_input_from_viewers":true,
     "hide_output_from_viewers":true
    }
   }
  },
  {
   "cell_type":"code",
   "source":[
    "vector = random.randint(1, 51, size=4)\n",
    "sqrt_vector = sqrt(vector)\n",
    "print(\n",
    "    '18. Створіть вектор розміром 4, заповніть його випадковими цілими числами в діапазоні від 1 до 50 та знайдіть вектор з квадратними коренями цих чисел.')\n",
    "print(f'Вектор: {vector}')\n",
    "print(f'Вектор з квадратними коренями: \\n{sqrt_vector}\\n')"
   ],
   "execution_count":97,
   "outputs":[
    {
     "name":"stdout",
     "text":[
      "18. Створіть вектор розміром 4, заповніть його випадковими цілими числами в діапазоні від 1 до 50 та знайдіть вектор з квадратними коренями цих чисел.\n",
      "Вектор: [41  5 22 13]\n",
      "Вектор з квадратними коренями: \n",
      "[6.40312424 2.23606798 4.69041576 3.60555128]\n",
      "\n"
     ],
     "output_type":"stream"
    }
   ],
   "metadata":{
    "datalore":{
     "node_id":"DiZPfyLMOGY7vHruhoRvHY",
     "type":"CODE",
     "hide_input_from_viewers":true,
     "hide_output_from_viewers":true
    }
   }
  },
  {
   "cell_type":"markdown",
   "source":[
    "# Getting Started Notebook\n",
    "\n",
    "Welcome to Datalore! This tutorial will help you understand the basics of the platform and start working with it.\n",
    "\n",
    "**Datalore** is the collaborative data science platform developed by JetBrains.\n",
    "\n",
    "This tutorial is a great place to learn about major Datalore features. If you want more information, you can:\n",
    "- Visit our [Documentation](https:\/\/www.jetbrains.com\/help\/datalore\/datalore-quickstart.html) for guides on specific features.\n",
    "- Subscribe to the [Datalore's blog](https:\/\/blog.jetbrains.com\/datalore\/). You will receive emails about feature announcements and Datalore tutorials!"
   ],
   "attachments":{
    
   },
   "metadata":{
    "datalore":{
     "node_id":"b0PlGeKUN03L4qbop9rwpK",
     "type":"MD",
     "hide_input_from_viewers":false,
     "hide_output_from_viewers":false,
     "report_properties":{
      "rowId":"RpOOPpNsaqQ7AQUoWBjzCm"
     }
    }
   }
  },
  {
   "cell_type":"markdown",
   "source":[
    "## Watch this 2-minute Datalore overview video!\n",
    "<div align=\"center\"><video width=\"800\" height=\"450\" controls>\n",
    "\n",
    "<source src=\"https:\/\/datalore-samples.s3.eu-west-1.amazonaws.com\/getting-started\/videos_new\/Quick+Datalore+Overview.mp4\" type=\"video\/mp4\">\n",
    "\n",
    "<\/video><\/div>"
   ],
   "attachments":{
    
   },
   "metadata":{
    "datalore":{
     "node_id":"sQxnIuCeE0kaOcBWGTyUeh",
     "type":"MD",
     "hide_input_from_viewers":false,
     "hide_output_from_viewers":false,
     "report_properties":{
      "rowId":"FE9qoE20D3fVyPOo7DtSfY"
     }
    }
   }
  },
  {
   "cell_type":"code",
   "source":[
    "message = \"😍🚀🙏🏻\""
   ],
   "execution_count":98,
   "outputs":[
    
   ],
   "metadata":{
    "datalore":{
     "node_id":"Wcm1Qn9KUjgxnAfUsDY0mj",
     "type":"CONTROL",
     "hide_input_from_viewers":false,
     "hide_output_from_viewers":false,
     "report_properties":{
      "rowId":"GRJRqRxkOyX26yIi2lOxBj"
     },
     "controls_state":[
      {
       "type":"INPUT",
       "label":"How are you today?",
       "variable":"message",
       "value":"😍🚀🙏🏻",
       "multiline":false
      }
     ]
    }
   }
  },
  {
   "cell_type":"code",
   "source":[
    "print(\"Hi, Datalore! I'm feeling \" + message)"
   ],
   "execution_count":99,
   "outputs":[
    {
     "name":"stdout",
     "text":[
      "Hi, Datalore! I'm feeling 😍🚀🙏🏻\n"
     ],
     "output_type":"stream"
    }
   ],
   "metadata":{
    "datalore":{
     "node_id":"WqFWoYBfavNlsUD0fQP8sG",
     "type":"CODE",
     "hide_input_from_viewers":false,
     "hide_output_from_viewers":false,
     "report_properties":{
      "rowId":"npSyBAgbEHyNCbZ2TfH7tO"
     }
    }
   }
  },
  {
   "cell_type":"markdown",
   "source":[
    "💡 This tutorial is split into **worksheets**, and it is the first cool feature of the Datalore Editor!\n",
    "Just navigate through the tabs at the bottom of the editor or use the Table of contents on the left-hand sidebar.\n",
    "\n",
    "<div><img src=\"https:\/\/datalore-samples.s3.eu-west-1.amazonaws.com\/getting-started\/videos_new\/worksheets.png\" width = 900 border=\"2\" style=\"border-color: #d3d3d3; margin-top: 1%;\"\/><\/div>"
   ],
   "attachments":{
    
   },
   "metadata":{
    "datalore":{
     "node_id":"B0yf3j6P4Zz4K5I3WMpgOK",
     "type":"MD",
     "hide_input_from_viewers":false,
     "hide_output_from_viewers":false,
     "report_properties":{
      "rowId":"dAYZ92roE3FWsGGgEW475q"
     }
    }
   }
  },
  {
   "cell_type":"markdown",
   "source":[
    "## Video tutorial: Notebook Editor\n",
    "\n",
    "<div align=\"center\"><video width=\"800\" height=\"450\" controls>\n",
    "\n",
    "<source src=\"https:\/\/datalore-samples.s3.eu-west-1.amazonaws.com\/getting-started\/videos_new\/1_Datalore_Editor+Overview.mp4\" type=\"video\/mp4\">\n",
    "\n",
    "<\/video><\/div>"
   ],
   "attachments":{
    
   },
   "metadata":{
    "datalore":{
     "node_id":"xImM2eWnUluYtOpEeLzvvd",
     "type":"MD",
     "hide_input_from_viewers":false,
     "hide_output_from_viewers":false,
     "report_properties":{
      "rowId":"nU6Hxqj6xPu47eVpa7CMTb"
     }
    }
   }
  },
  {
   "cell_type":"markdown",
   "source":[
    "## Cells\n",
    "\n",
    "Inside the notebook you can add:\n",
    "\n",
    "- **Python code cells**, where you can use powerful coding assistance features such as code completion, quick-fixes, documentation popups, refactorings, and more. Code cells also support IPython magic commands.\n",
    "- **SQL cells** with code completion for both SQL syntax and database column names. The query result of a SQL cell is automatically transferred to the pandas dataframe.\n",
    "- **Markdown cells** with a text formatting toolbar and LaTeX support.\n",
    "- **Interactive controls** such as Dropdowns, Sliders, Text inputs, Checkboxes, Date pickers, Metric cells, Chart cells, and visibility controls.\n",
    "\n",
    "To add a new cell, hover over the bottom center of a cell and choose the cell type you want to add. \n",
    "Check out the [Shortcuts 101](.\/#Shortcuts-101) tab for a collection of the most useful shortcuts in Datalore.\n",
    "\n",
    "<div><img src=\"https:\/\/datalore-samples.s3.eu-west-1.amazonaws.com\/getting-started\/videos_new\/add_cell2.png\" width = 600 border=\"2\" style=\"border-color: #d3d3d3; margin-top: 1%;\"\/><\/div>"
   ],
   "attachments":{
    
   },
   "metadata":{
    "datalore":{
     "node_id":"hSGZmx2LhqpTN5lTyGgHH3",
     "type":"MD",
     "hide_input_from_viewers":false,
     "hide_output_from_viewers":false,
     "report_properties":{
      "rowId":"r8vRGtoCVxp1SJlqKP5hnu"
     }
    }
   }
  },
  {
   "cell_type":"markdown",
   "source":[
    "## Essential tools on the Left-hand sidebar\n",
    "\n",
    "You can access the most important Datalore features from the left-hand sidebar menu:\n",
    "- Configure the environment and install additional packages inside the **Environment** tab.\n",
    "- Upload data files and connect databases and S3 buckets from the **Attached data** tab.\n",
    "- See machine statistics, and configure Background computation and Scheduled runs from the **Computation** tab.\n",
    "- Navigate through the notebook using the **Table of contents** tab.\n",
    "- Browse variable contents from the **Variable viewer** tab.\n",
    "\n",
    "<div><img src=\"https:\/\/datalore-samples.s3.eu-west-1.amazonaws.com\/getting-started\/videos_new\/left_sidebar2.png\" title = \"Computation tab in the left-hand sidebar\" width = 600 border=\"2\" style=\"border-color: #d3d3d3; margin-top: 1%;\" \/><\/div>"
   ],
   "attachments":{
    
   },
   "metadata":{
    "datalore":{
     "node_id":"rrATKmyFywamadgmPpESi4",
     "type":"MD",
     "hide_input_from_viewers":false,
     "hide_output_from_viewers":false,
     "report_properties":{
      "rowId":"aXrJOgfH8cjQEWarsNfAGH"
     }
    }
   }
  },
  {
   "cell_type":"markdown",
   "source":[
    "**Now please switch to the second worksheet tab: Data**"
   ],
   "attachments":{
    
   },
   "metadata":{
    "datalore":{
     "node_id":"M4rw6Y8dQEoOjPyCPQSUD5",
     "type":"MD",
     "hide_input_from_viewers":false,
     "hide_output_from_viewers":false,
     "report_properties":{
      "rowId":"l7wuV7iTg3lWH8fRoXt0CZ"
     }
    }
   }
  },
  {
   "cell_type":"markdown",
   "source":[
    "# Data"
   ],
   "attachments":{
    
   },
   "metadata":{
    "datalore":{
     "node_id":"Data",
     "type":"MD",
     "hide_input_from_viewers":false,
     "hide_output_from_viewers":false,
     "sheet_delimiter":true
    }
   }
  },
  {
   "cell_type":"markdown",
   "source":[
    "# Working with data\n",
    "## Video tutorial\n",
    "\n",
    "<div align=\"center\"><video width=\"800\" height=\"450\" controls>\n",
    "\n",
    "<source src=\"https:\/\/datalore-samples.s3.eu-west-1.amazonaws.com\/getting-started\/videos_new\/2_Working_with_Data.mp4\">\n",
    "\n",
    "<\/video><\/div>"
   ],
   "attachments":{
    
   },
   "metadata":{
    "datalore":{
     "node_id":"wJ5CdYHXwDlfubAFkXCcFF",
     "type":"MD",
     "hide_input_from_viewers":false,
     "hide_output_from_viewers":false,
     "report_properties":{
      "rowId":"pyGGzJ5h8LuTCWF03b4m4V"
     }
    }
   }
  },
  {
   "cell_type":"markdown",
   "source":[
    "\n",
    "## Plug in multiple data sources\n",
    "\n",
    "In Datalore you can work with **various data sources** together in one notebook. \n",
    "\n",
    "You can connect your **SQL databases** (such as MySQL, Snowflake, PostgreSQL, Redshift, etc.), **bucket storages** (AWS S3, GCS buckets), and **files** (any file types) from the interface and further query and join them in one notebook.\n",
    "\n",
    "To manage all your data, please use the **Attached data** tab in the left-hand sidebar.\n",
    "\n",
    "<div><img src=\"https:\/\/datalore-samples.s3.eu-west-1.amazonaws.com\/getting-started\/videos_new\/many_datasets2.png\" width = 1000 border=\"2\" style=\"border-color: #d3d3d3; margin-top: 1%;\"\/><\/div>"
   ],
   "attachments":{
    
   },
   "metadata":{
    "datalore":{
     "node_id":"I8HY4c0f6NTSQ5KEra08YE",
     "type":"MD",
     "hide_input_from_viewers":false,
     "hide_output_from_viewers":false,
     "report_properties":{
      "rowId":"s1pg7562WagYLoPB7jHL3k"
     }
    }
   }
  },
  {
   "cell_type":"markdown",
   "source":[
    "## Reusing data connections\n",
    "\n",
    "When creating a bucket or a database connection, you’ll be able to reuse it across other notebooks in the same workspace.\n",
    "\n",
    "You can manage all of the attached data sources from the workspace file system and add new connections directly from the notebook interface.\n",
    "\n",
    "When you share a notebook or a workspace, your credentials **are not exposed to the environment**.\n",
    "\n",
    "<div><img src=\"https:\/\/datalore-samples.s3.eu-west-1.amazonaws.com\/getting-started\/videos_new\/manage_datasources2.png\" width = 600 border=\"2\" style=\"border-color: #d3d3d3; margin-top: 1%;\"\/><\/div>"
   ],
   "attachments":{
    
   },
   "metadata":{
    "datalore":{
     "node_id":"4IW3lCEfirwXoZxBBfd8Op",
     "type":"MD",
     "hide_input_from_viewers":false,
     "hide_output_from_viewers":false,
     "report_properties":{
      "rowId":"bGo1OQaZXj7JOl5PTaipAt"
     }
    }
   }
  },
  {
   "cell_type":"markdown",
   "source":[
    "## Persistent file storage\n",
    "\n",
    "Datalore comes with persistent storage for each notebook. This means you can upload your data files directly to **Notebook files**. If you want to share a file across multiple notebooks, attach **Workspace files** to the notebook and upload it there. Workspace files are mounted under the `\/data\/workspace_files\/` directory.\n",
    "\n",
    "### Benefits of attaching files to a notebook\n",
    "\n",
    "- Your workspace file system won't be cluttered with too many files.\n",
    "- Notebook files are shared automatically when you invite collaborators to the notebook.\n",
    "\n",
    "Additionally, you can download data to Notebook or Workspace files or to store it in memory using various Python packages and APIs."
   ],
   "attachments":{
    
   },
   "metadata":{
    "datalore":{
     "node_id":"bdV0X2LHINh52AJz4b5qni",
     "type":"MD",
     "hide_input_from_viewers":false,
     "hide_output_from_viewers":false,
     "report_properties":{
      "rowId":"4aVF7nCmNuLRArQBX1540K"
     }
    }
   }
  },
  {
   "cell_type":"markdown",
   "source":[
    "## Dataframe exploration\n",
    "\n",
    "Whenever a pandas dataframe is the result of your cell execution, you get additional tabs in the cell output:\n",
    "- **Table** – a scrollable table view of your data\n",
    "- **Raw** – this tab represents the raw output without the ability to scroll the data\n",
    "- **Visualize** – this tab brings out-of-the box plots to help you visually explore the data\n",
    "- **Statistics** – this tab provides essential descriptive statistics for your dataframe\n",
    "\n",
    "### Task: **Run the code cell above** and navigate to the **Visualize** and **Statistics** tabs!\n",
    "\n",
    "<div><img src=\"https:\/\/datalore-samples.s3.eu-west-1.amazonaws.com\/getting-started\/videos_new\/statistics_new2.png\" width = 600 border=\"2\" style=\"border-color: #d3d3d3; margin-top: 1%;\"\/><\/div>\n"
   ],
   "attachments":{
    
   },
   "metadata":{
    "datalore":{
     "node_id":"rcVYBWbunldyJbSlYDgEfd",
     "type":"MD",
     "hide_input_from_viewers":false,
     "hide_output_from_viewers":false,
     "report_properties":{
      "rowId":"Un4euCg1KTjMaOzokRxZ1W"
     }
    }
   }
  },
  {
   "cell_type":"code",
   "source":[
    "import urllib\n",
    "import pandas as pd\n",
    "\n",
    "urllib.request.urlretrieve('https:\/\/datalore-samples.s3.eu-west-1.amazonaws.com\/datalore_gallery_of_samples\/Getting+started\/gpus.csv', 'gpus.csv')\n",
    "\n",
    "data = pd.read_csv(\"gpus.csv\")\n",
    "data"
   ],
   "execution_count":100,
   "outputs":[
    {
     "data":{
      "text\/html":[
       "<div>\n",
       "<style scoped>\n",
       "    .dataframe tbody tr th:only-of-type {\n",
       "        vertical-align: middle;\n",
       "    }\n",
       "\n",
       "    .dataframe tbody tr th {\n",
       "        vertical-align: top;\n",
       "    }\n",
       "\n",
       "    .dataframe thead th {\n",
       "        text-align: right;\n",
       "    }\n",
       "<\/style>\n",
       "<table border=\"1\" class=\"dataframe\">\n",
       "  <thead>\n",
       "    <tr style=\"text-align: right;\">\n",
       "      <th><\/th>\n",
       "      <th>Manufacturer<\/th>\n",
       "      <th>Class<\/th>\n",
       "      <th>Name<\/th>\n",
       "      <th>Year<\/th>\n",
       "      <th>Fab<\/th>\n",
       "      <th>Transistors (mln)<\/th>\n",
       "      <th>Die size<\/th>\n",
       "      <th>Memory size<\/th>\n",
       "      <th>Memory speed<\/th>\n",
       "      <th>GFLOPS<\/th>\n",
       "      <th>TDP<\/th>\n",
       "    <\/tr>\n",
       "  <\/thead>\n",
       "  <tbody>\n",
       "    <tr>\n",
       "      <th>0<\/th>\n",
       "      <td>Nvidia<\/td>\n",
       "      <td>Desktop<\/td>\n",
       "      <td>GeForce 8300 GS<\/td>\n",
       "      <td>2007<\/td>\n",
       "      <td>80<\/td>\n",
       "      <td>210<\/td>\n",
       "      <td>127<\/td>\n",
       "      <td>512<\/td>\n",
       "      <td>6.4<\/td>\n",
       "      <td>14.4<\/td>\n",
       "      <td>40.0<\/td>\n",
       "    <\/tr>\n",
       "    <tr>\n",
       "      <th>1<\/th>\n",
       "      <td>Nvidia<\/td>\n",
       "      <td>Desktop<\/td>\n",
       "      <td>GeForce 8400 GS<\/td>\n",
       "      <td>2007<\/td>\n",
       "      <td>80<\/td>\n",
       "      <td>210<\/td>\n",
       "      <td>127<\/td>\n",
       "      <td>512<\/td>\n",
       "      <td>6.4<\/td>\n",
       "      <td>28.8<\/td>\n",
       "      <td>40.0<\/td>\n",
       "    <\/tr>\n",
       "    <tr>\n",
       "      <th>2<\/th>\n",
       "      <td>Nvidia<\/td>\n",
       "      <td>Desktop<\/td>\n",
       "      <td>GeForce 8400 GS rev.2<\/td>\n",
       "      <td>2007<\/td>\n",
       "      <td>65<\/td>\n",
       "      <td>210<\/td>\n",
       "      <td>86<\/td>\n",
       "      <td>512<\/td>\n",
       "      <td>6.4<\/td>\n",
       "      <td>24.4<\/td>\n",
       "      <td>25.0<\/td>\n",
       "    <\/tr>\n",
       "    <tr>\n",
       "      <th>3<\/th>\n",
       "      <td>Nvidia<\/td>\n",
       "      <td>Desktop<\/td>\n",
       "      <td>GeForce 8400 GS rev.3<\/td>\n",
       "      <td>2010<\/td>\n",
       "      <td>40<\/td>\n",
       "      <td>260<\/td>\n",
       "      <td>57<\/td>\n",
       "      <td>1024<\/td>\n",
       "      <td>9.6<\/td>\n",
       "      <td>19.7<\/td>\n",
       "      <td>25.0<\/td>\n",
       "    <\/tr>\n",
       "    <tr>\n",
       "      <th>4<\/th>\n",
       "      <td>Nvidia<\/td>\n",
       "      <td>Desktop<\/td>\n",
       "      <td>GeForce 8500 GT<\/td>\n",
       "      <td>2007<\/td>\n",
       "      <td>80<\/td>\n",
       "      <td>210<\/td>\n",
       "      <td>127<\/td>\n",
       "      <td>1024<\/td>\n",
       "      <td>12.8<\/td>\n",
       "      <td>28.8<\/td>\n",
       "      <td>45.0<\/td>\n",
       "    <\/tr>\n",
       "    <tr>\n",
       "      <th>...<\/th>\n",
       "      <td>...<\/td>\n",
       "      <td>...<\/td>\n",
       "      <td>...<\/td>\n",
       "      <td>...<\/td>\n",
       "      <td>...<\/td>\n",
       "      <td>...<\/td>\n",
       "      <td>...<\/td>\n",
       "      <td>...<\/td>\n",
       "      <td>...<\/td>\n",
       "      <td>...<\/td>\n",
       "      <td>...<\/td>\n",
       "    <\/tr>\n",
       "    <tr>\n",
       "      <th>490<\/th>\n",
       "      <td>AMD Radeon<\/td>\n",
       "      <td>Datacenter<\/td>\n",
       "      <td>Radeon Instinct MI6<\/td>\n",
       "      <td>2016<\/td>\n",
       "      <td>14<\/td>\n",
       "      <td>5700<\/td>\n",
       "      <td>232<\/td>\n",
       "      <td>16384<\/td>\n",
       "      <td>224.0<\/td>\n",
       "      <td>5800.0<\/td>\n",
       "      <td>150.0<\/td>\n",
       "    <\/tr>\n",
       "    <tr>\n",
       "      <th>491<\/th>\n",
       "      <td>AMD Radeon<\/td>\n",
       "      <td>Datacenter<\/td>\n",
       "      <td>Radeon Instinct MI8<\/td>\n",
       "      <td>2016<\/td>\n",
       "      <td>28<\/td>\n",
       "      <td>8900<\/td>\n",
       "      <td>596<\/td>\n",
       "      <td>4096<\/td>\n",
       "      <td>512.0<\/td>\n",
       "      <td>8200.0<\/td>\n",
       "      <td>175.0<\/td>\n",
       "    <\/tr>\n",
       "    <tr>\n",
       "      <th>492<\/th>\n",
       "      <td>AMD Radeon<\/td>\n",
       "      <td>Datacenter<\/td>\n",
       "      <td>Radeon Instinct MI25<\/td>\n",
       "      <td>2016<\/td>\n",
       "      <td>14<\/td>\n",
       "      <td>12500<\/td>\n",
       "      <td>510<\/td>\n",
       "      <td>16384<\/td>\n",
       "      <td>436.2<\/td>\n",
       "      <td>12300.0<\/td>\n",
       "      <td>300.0<\/td>\n",
       "    <\/tr>\n",
       "    <tr>\n",
       "      <th>493<\/th>\n",
       "      <td>AMD Radeon<\/td>\n",
       "      <td>Datacenter<\/td>\n",
       "      <td>Radeon Instinct MI50<\/td>\n",
       "      <td>2018<\/td>\n",
       "      <td>7<\/td>\n",
       "      <td>13200<\/td>\n",
       "      <td>331<\/td>\n",
       "      <td>16384<\/td>\n",
       "      <td>1024.0<\/td>\n",
       "      <td>13400.0<\/td>\n",
       "      <td>300.0<\/td>\n",
       "    <\/tr>\n",
       "    <tr>\n",
       "      <th>494<\/th>\n",
       "      <td>AMD Radeon<\/td>\n",
       "      <td>Datacenter<\/td>\n",
       "      <td>Radeon Instinct MI60<\/td>\n",
       "      <td>2018<\/td>\n",
       "      <td>7<\/td>\n",
       "      <td>13200<\/td>\n",
       "      <td>331<\/td>\n",
       "      <td>32768<\/td>\n",
       "      <td>1024.0<\/td>\n",
       "      <td>14725.0<\/td>\n",
       "      <td>300.0<\/td>\n",
       "    <\/tr>\n",
       "  <\/tbody>\n",
       "<\/table>\n",
       "<p>495 rows × 11 columns<\/p>\n",
       "<\/div>"
      ]
     },
     "metadata":{
      
     },
     "output_type":"display_data"
    }
   ],
   "metadata":{
    "datalore":{
     "node_id":"BQzAXyERLQRmj4k0OUevVS",
     "type":"CODE",
     "hide_input_from_viewers":false,
     "hide_output_from_viewers":false,
     "report_properties":{
      "rowId":"wRlo7qugmhRPH1uWPhtm4Q"
     }
    }
   }
  },
  {
   "cell_type":"markdown",
   "source":[
    "## Viewing and editing attached files\n",
    "\n",
    "Double-clicking on a .csv or text file opens it for editing in the right sidebar editor and lets you view the file and edit its contents.\n",
    "\n",
    "<div><img src=\"https:\/\/datalore-samples.s3.eu-west-1.amazonaws.com\/getting-started\/videos_new\/edit_csv_new2.png\" width = 600 border=\"2\" style=\"border-color: #d3d3d3; margin-top: 1%;\"\/><\/div>\n",
    "\n",
    "If you open a .py script, you will also get smart coding assistance features for editing its contents.\n",
    "\n",
    "<div><img src=\"https:\/\/datalore-samples.s3.eu-west-1.amazonaws.com\/getting-started\/videos_new\/python_func2.png\" width = 600 border=\"2\" style=\"border-color: #d3d3d3; margin-top: 1%;\"\/><\/div>"
   ],
   "attachments":{
    
   },
   "metadata":{
    "datalore":{
     "node_id":"XqLqSdttRC69qHPIs8L0mo",
     "type":"MD",
     "hide_input_from_viewers":false,
     "hide_output_from_viewers":false,
     "report_properties":{
      "rowId":"zbSQF3KL4Rz0knCVNWBn5w"
     }
    }
   }
  },
  {
   "cell_type":"markdown",
   "source":[
    "# Environment"
   ],
   "attachments":{
    
   },
   "metadata":{
    "datalore":{
     "node_id":"Environment",
     "type":"MD",
     "hide_input_from_viewers":false,
     "hide_output_from_viewers":false,
     "sheet_delimiter":true
    }
   }
  },
  {
   "cell_type":"markdown",
   "source":[
    "# Managing the environment"
   ],
   "attachments":{
    
   },
   "metadata":{
    "datalore":{
     "node_id":"zbTp9bD1SAs9lc3uB2s9bQ",
     "type":"MD",
     "hide_input_from_viewers":false,
     "hide_output_from_viewers":false,
     "report_properties":{
      "rowId":"kiHYchw4tHUfVQ5u0WQLne"
     }
    }
   }
  },
  {
   "cell_type":"markdown",
   "source":[
    "## Video tutorial\n",
    "\n",
    "<div align=\"center\"><video width=\"800\" height=\"450\" controls>\n",
    "\n",
    "<source src=\"https:\/\/datalore-samples.s3.eu-west-1.amazonaws.com\/getting-started\/videos_new\/3_Configuring_Environment_in_Datalore.mp4\">\n",
    "\n",
    "<\/video><\/div>"
   ],
   "attachments":{
    
   },
   "metadata":{
    "datalore":{
     "node_id":"PoRmZDjtLdROtBGZOAKVG5",
     "type":"MD",
     "hide_input_from_viewers":false,
     "hide_output_from_viewers":false,
     "report_properties":{
      "rowId":"9Y2LvuI3R4qSArKoIPvotG"
     }
    }
   }
  },
  {
   "cell_type":"markdown",
   "source":[
    "## Preconfigured environment\n",
    "\n",
    "Each notebook in Datalore has an **isolated environment**. This means that when you apply changes to one notebook, they won't affect any of the other notebook environments.\n",
    "\n",
    "Datalore comes with a lot of **Python libraries pre-installed**.\n",
    "\n",
    "We've already installed `pandas`, `NumPy`, `sklearn`, `MatplotLib`, and `Seaborn`, so you can start importing the package you need right away.\n",
    "\n",
    "Datalore supports both the **pip** and **Conda** package managers. Pip is chosen by default, but you can always switch to Conda.\n",
    "\n",
    "<div><img src=\"https:\/\/datalore-samples.s3.eu-west-1.amazonaws.com\/getting-started\/videos_new\/environment_tab.png\" width = 300 border=\"2\" style=\"border-color: #d3d3d3; margin-top: 1%;\"\/><\/div>\n",
    "\n",
    "## Installing additional libraries\n",
    "\n",
    "- To install additional libraries, upgrade package versions, and remove libraries, go to *Environment | Explore tab*. The changes will be written into the .yaml file, which will be stored in your Notebook files.\n",
    "- To install a package from a Git repository, go to *Environment | Repositories*.\n",
    "- To install any other dependencies (f.e. non-python dependencies), you can modify the `init.sh` file. It will run before the environment is installed.\n",
    "  \n",
    "💡 Packages installed via the **Environment** tab are **persisted** when you reopen notebooks. You can also install packages using **pip magic commands** or ***Terminal***, but they won't be persisted.\n",
    "\n",
    "You can learn more about this in the [Environment manager documentation.](https:\/\/www.jetbrains.com\/help\/datalore\/environment.html)"
   ],
   "attachments":{
    
   },
   "metadata":{
    "datalore":{
     "node_id":"zogriwZb6Hu6P4Q8bVlNgW",
     "type":"MD",
     "hide_input_from_viewers":false,
     "hide_output_from_viewers":false,
     "report_properties":{
      "rowId":"Z8SIYyv1zVu3LvSCIO4mFP"
     }
    }
   }
  },
  {
   "cell_type":"markdown",
   "source":[
    "### Task: Install and import the `datasets` library\n",
    "\n",
    "1. Run the code cell below using `Shift+Enter`.\n",
    "2. **Click on the prompt in the error log to search for the datasets library. This prompt will open the *Explore tab* of the *Environment manager*.**\n",
    "3. Click on the datasets library.\n",
    "4. Click the Install button.\n",
    "5. Restart the kernel.\n",
    "6. Rerun the cell."
   ],
   "attachments":{
    
   },
   "metadata":{
    "datalore":{
     "node_id":"eFlMwuuq2w6352zrWeFeYo",
     "type":"MD",
     "hide_input_from_viewers":false,
     "hide_output_from_viewers":false,
     "report_properties":{
      "rowId":"FeAvwZvolZq5tlmD1pHzqO"
     }
    }
   }
  },
  {
   "cell_type":"code",
   "source":[
    "import datasets\n",
    "\n",
    "datasets.__version__"
   ],
   "execution_count":101,
   "outputs":[
    {
     "ename":"ModuleNotFoundError",
     "evalue":"ModuleNotFoundError: No module named 'datasets'",
     "traceback":[
      "\u001b[0;31m---------------------------------------------------------------------------",
      "Traceback (most recent call last)",
      "    at line 1 in <module>",
      "ModuleNotFoundError: No module named 'datasets'"
     ],
     "output_type":"error"
    }
   ],
   "metadata":{
    "datalore":{
     "node_id":"6FGwh5yJFlgD0fITlgL5AJ",
     "type":"CODE",
     "hide_input_from_viewers":false,
     "hide_output_from_viewers":false,
     "report_properties":{
      "rowId":"zRwfRNEtgXMI7QH34M3qSG"
     }
    }
   }
  },
  {
   "cell_type":"markdown",
   "source":[
    "# Sharing"
   ],
   "attachments":{
    
   },
   "metadata":{
    "datalore":{
     "node_id":"Sharing",
     "type":"MD",
     "hide_input_from_viewers":false,
     "hide_output_from_viewers":false,
     "sheet_delimiter":true
    }
   }
  },
  {
   "cell_type":"markdown",
   "source":[
    "# Collaborating with your team\n",
    "\n",
    "## Video tutorial\n",
    "\n",
    "<div align=\"center\"><video width=\"800\" height=\"450\" controls>\n",
    "\n",
    "<source src=\"https:\/\/datalore-samples.s3.eu-west-1.amazonaws.com\/getting-started\/videos_new\/4_Sharing_Notebooks_and_Workspaces_in_Datalore.mp4\">\n",
    "\n",
    "<\/video><\/div>"
   ],
   "attachments":{
    
   },
   "metadata":{
    "datalore":{
     "node_id":"WEJAKS0YfmX6j9BonPFogz",
     "type":"MD",
     "hide_input_from_viewers":false,
     "hide_output_from_viewers":false,
     "report_properties":{
      "rowId":"59GTYv5AhATXgcuze9kL8s"
     }
    }
   }
  },
  {
   "cell_type":"markdown",
   "source":[
    "## Sharing a notebook\n",
    "\n",
    "In Datalore, you can edit notebooks together with your team in real time.\n",
    "\n",
    "Click on the Share button in the top-right corner and choose your preferred sharing method:\n",
    "- Share by sending a link (the simpler option).\n",
    "- Invite collaborators by email (for more granular permissions).\n",
    "- Share with groups of collaborators. Please contact your Datalore admins to find out whether you have groups integrated with Datalore.\n",
    "  \n",
    "💡 To access notebooks as collaborators, invited users will need to create a Datalore account.\n",
    "\n",
    "<div><img src=\"https:\/\/datalore-samples.s3.eu-west-1.amazonaws.com\/getting-started\/videos_new\/Sharing2.png\" width = 900 border=\"2\" style=\"border-color: #d3d3d3; margin-top: 1%;\"\/><\/div>\n",
    "\n",
    "When sharing a notebook you can provide either edit or view access.\n",
    "- **Edit access** will allow collaborators to edit code and attached files and run computations.\n",
    "  \n",
    "  ⚠️ Note that collaborators will consume the notebook owner's resources.\n",
    "- **View access** will only allow users to see the real-time representation of the notebook.\n",
    "  \n",
    "To track the changes, Datalore has a **built-in version control system** where you can create history checkpoints and revert the notebook to past versions. Check this out via ***Tools | History***.\n",
    "\n",
    "You can read more about notebook sharing [here](https:\/\/www.jetbrains.com\/help\/datalore\/share-a-notebook.html)."
   ],
   "attachments":{
    
   },
   "metadata":{
    "datalore":{
     "node_id":"GQlc2P4odlgIxJvTjTKOFq",
     "type":"MD",
     "hide_input_from_viewers":false,
     "hide_output_from_viewers":false,
     "report_properties":{
      "rowId":"4a4azkCpb6Z84rKJ67EnwT"
     }
    }
   }
  },
  {
   "cell_type":"markdown",
   "source":[
    "### Task: Invite your colleagues to Datalore!\n",
    "\n",
    "Try out the real-time collaboration feature with your colleagues. Working together can be a lot of fun. 🚀\n",
    "\n",
    "To **track your collaborator's actions** through the notebook and attached files, click on their avatar in the upper right-hand corner and start following along!\n",
    "\n",
    "<div><img src=\"https:\/\/datalore-samples.s3.eu-west-1.amazonaws.com\/getting-started\/videos_new\/Main_teamwork.png\" width = 900 border=\"2\" style=\"border-color: #d3d3d3; margin-top: 1%;\"\/><\/div>"
   ],
   "attachments":{
    
   },
   "metadata":{
    "datalore":{
     "node_id":"gXnjHFGTDd1jk5ytyxkQPm",
     "type":"MD",
     "hide_input_from_viewers":false,
     "hide_output_from_viewers":false,
     "report_properties":{
      "rowId":"q6gNCdZYeLsR5Wa4hNHjo0"
     }
    }
   }
  },
  {
   "cell_type":"markdown",
   "source":[
    "## Sharing a workspace\n",
    "\n",
    "In Datalore, you can create and share workspaces.\n",
    "\n",
    "Workspaces help you organize your work and allow you to easily share multiple notebooks, data connections, files, and reports with your team.\n",
    "\n",
    "\n",
    "<div><img src=\"https:\/\/datalore-samples.s3.eu-west-1.amazonaws.com\/datalore_gallery_of_samples\/Getting+started\/workspace.png\" width = 300 border=\"2\" style=\"border-color: #d3d3d3; margin-top: 1%;\"\/><\/div>\n",
    "\n",
    "⚠️ Note that the workspace owner's resources will be consumed for all the computations made in the workspace."
   ],
   "attachments":{
    
   },
   "metadata":{
    "datalore":{
     "node_id":"aY264QJ11naPUdSB1eki1U",
     "type":"MD",
     "hide_input_from_viewers":false,
     "hide_output_from_viewers":false,
     "report_properties":{
      "rowId":"xxDsCQBKp8z0tHjn3qjszA"
     }
    }
   }
  },
  {
   "cell_type":"markdown",
   "source":[
    "# Reporting"
   ],
   "attachments":{
    
   },
   "metadata":{
    "datalore":{
     "node_id":"Reporting",
     "type":"MD",
     "hide_input_from_viewers":false,
     "hide_output_from_viewers":false,
     "sheet_delimiter":true
    }
   }
  },
  {
   "cell_type":"markdown",
   "source":[
    "# Reporting\n",
    "\n",
    "## Video tutorial\n",
    "\n",
    "<div align=\"center\"><video width=\"800\" height=\"450\" controls>\n",
    "\n",
    "<source src=\"https:\/\/datalore-samples.s3.eu-west-1.amazonaws.com\/getting-started\/videos_new\/5_Creating_Interactive_Reports_with_Datalore.mp4\">\n",
    "\n",
    "<\/video><\/div>"
   ],
   "attachments":{
    
   },
   "metadata":{
    "datalore":{
     "node_id":"L60bGt14yNjvHKNxpafNGB",
     "type":"MD",
     "hide_input_from_viewers":false,
     "hide_output_from_viewers":false,
     "report_properties":{
      "rowId":"Sdj7ErdHZdcnDHrtjSxsK2"
     }
    }
   }
  },
  {
   "cell_type":"markdown",
   "source":[
    "\n",
    "## Report builder\n",
    "\n",
    "To share your research results with stakeholders, you can use the Report builder feature via the *Tools* menu section or by clicking the *Build report* button in the upper right-hand corner.\n",
    "\n",
    "You will be able to:\n",
    "- Arrange the cells on a canvas to make the report look more dashboard-style.\n",
    "- Hide specific cell inputs and outputs.\n",
    "- Publish a static or interactive report.\n",
    "\n",
    "<div><img src=\"https:\/\/datalore-samples.s3.eu-west-1.amazonaws.com\/getting-started\/videos_new\/Report_builder2.png\" width = 900 border=\"2\" style=\"border-color: #d3d3d3; margin-top: 1%;\"\/><\/div>"
   ],
   "attachments":{
    
   },
   "metadata":{
    "datalore":{
     "node_id":"3CxN0ZsynJPikvTPFGQprB",
     "type":"MD",
     "hide_input_from_viewers":false,
     "hide_output_from_viewers":false,
     "report_properties":{
      "rowId":"DbGWq2XYfSfQvB5DO5nuQn"
     }
    }
   }
  },
  {
   "cell_type":"markdown",
   "source":[
    "### Task: Create a report out of this notebook!"
   ],
   "attachments":{
    
   },
   "metadata":{
    "datalore":{
     "node_id":"UrmBzVxnXemyOOCX0QrRPm",
     "type":"MD",
     "hide_input_from_viewers":false,
     "hide_output_from_viewers":false,
     "report_properties":{
      "rowId":"Hhmeyqce80PQ03TjQimW9H"
     }
    }
   }
  },
  {
   "cell_type":"markdown",
   "source":[
    "## Sharing reports\n",
    "After you publish a report, it will become available under a link. You can then share it with colleagues even if they don't have a Datalore account – the report will be available for them inside the browser. Each report viewer will get a separate copy of the report and will be able to interact with the controls and rerun the report independently.\n",
    "\n",
    "You can also access **all the workspace reports** from the Published reports section in your Workspace file system."
   ],
   "attachments":{
    
   },
   "metadata":{
    "datalore":{
     "node_id":"LwelxqJJ2fFAkEW9QLQNhM",
     "type":"MD",
     "hide_input_from_viewers":false,
     "hide_output_from_viewers":false,
     "report_properties":{
      "rowId":"gCvyXMjTac01qTdq9bAFZL"
     }
    }
   }
  },
  {
   "cell_type":"markdown",
   "source":[
    "## Export as PDF, PY, IPYNB\n",
    "\n",
    "You can export notebooks in multiple formats, including PDF.\n",
    "\n",
    "Go to the *File* menu tab and select the export option you need."
   ],
   "attachments":{
    
   },
   "metadata":{
    "datalore":{
     "node_id":"9YAMnWljo4jSyrqKX5tF22",
     "type":"MD",
     "hide_input_from_viewers":false,
     "hide_output_from_viewers":false,
     "report_properties":{
      "rowId":"NdH3Ir9pp5LCeA5owXgiLD"
     }
    }
   }
  },
  {
   "cell_type":"markdown",
   "source":[
    "# Automations"
   ],
   "attachments":{
    
   },
   "metadata":{
    "datalore":{
     "node_id":"Automations",
     "type":"MD",
     "hide_input_from_viewers":false,
     "hide_output_from_viewers":false,
     "sheet_delimiter":true
    }
   }
  },
  {
   "cell_type":"markdown",
   "source":[
    "# Automations\n",
    "\n",
    "## Video tutorial\n",
    "\n",
    "<div align=\"center\"><video width=\"800\" height=\"450\" controls>\n",
    "\n",
    "<source src=\"https:\/\/datalore-samples.s3.eu-west-1.amazonaws.com\/getting-started\/videos_new\/6_Creating_Schedules_and_Configuring_Computation_in_Datalore.mp4\">\n",
    "\n",
    "<\/video><\/div>"
   ],
   "attachments":{
    
   },
   "metadata":{
    "datalore":{
     "node_id":"o6bClnJ1uXpatAzm0QBjMb",
     "type":"MD",
     "hide_input_from_viewers":false,
     "hide_output_from_viewers":false,
     "report_properties":{
      "rowId":"ieyJAtoIZarj1CSfBTtnPu"
     }
    }
   }
  },
  {
   "cell_type":"markdown",
   "source":[
    "## Scheduled runs\n",
    "\n",
    "In Datalore, you can schedule your notebook to run on a regular basis. Go to the Computation tab and create a schedule in the Scheduled runs widget. You'll be able to configure the running interval by using the dropdowns or by specifying a cron string.\n",
    "\n",
    "<div><img src=\"https:\/\/datalore-samples.s3.eu-west-1.amazonaws.com\/getting-started\/videos_new\/scheduling2.png\" width = 900 border=\"2\" style=\"border-color: #d3d3d3; margin-top: 1%;\"\/><\/div>"
   ],
   "attachments":{
    
   },
   "metadata":{
    "datalore":{
     "node_id":"5mZbleBKRsUGLDl1rVfFdZ",
     "type":"MD",
     "hide_input_from_viewers":false,
     "hide_output_from_viewers":false,
     "report_properties":{
      "rowId":"QXXxUVgboUD6DwjqbtqbmN"
     }
    }
   }
  },
  {
   "cell_type":"markdown",
   "source":[
    "### Scheduled report updates\n",
    "\n",
    "When configuring notebook schedules, you can choose to automatically update published reports, delivering regular updates to your stakeholders.\n",
    "\n",
    "### Managing the schedules\n",
    "\n",
    "You can view and edit all the schedules of the workspace from the file system. You'll be able to view your run results and change the scheduling settings."
   ],
   "attachments":{
    
   },
   "metadata":{
    "datalore":{
     "node_id":"clpshtmPJGcxqfuZeNDGWC",
     "type":"MD",
     "hide_input_from_viewers":false,
     "hide_output_from_viewers":false,
     "report_properties":{
      "rowId":"77CMZB2HEv3mjM0zqiVKjK"
     }
    }
   }
  },
  {
   "cell_type":"markdown",
   "source":[
    "## Switching between CPU and GPU\n",
    "\n",
    "When running a notebook, you can choose between available machines according to your needs. The Computation tab will also show you the CPU and RAM load statistics. The computation status bar is located in the bottom right-hand corner of the editor.\n",
    "\n",
    "<div><img src=\"https:\/\/datalore-samples.s3.eu-west-1.amazonaws.com\/getting-started\/videos_new\/Changing_machine_type.png\" width = 300 border=\"2\" style=\"border-color: #d3d3d3; margin-top: 1%;\"\/><\/div>"
   ],
   "attachments":{
    
   },
   "metadata":{
    "datalore":{
     "node_id":"NIUpHTHcn1ZpV1k82kymW7",
     "type":"MD",
     "hide_input_from_viewers":false,
     "hide_output_from_viewers":false,
     "report_properties":{
      "rowId":"C8pEUw7LqWpzvX0aNW2S6V"
     }
    }
   }
  },
  {
   "cell_type":"markdown",
   "source":[
    "## Background computation\n",
    " \n",
    "Switching on Background computation from the Computation tab allows you to keep notebooks running even if you close the browser tab. \n",
    "\n",
    "Learn more about Background computation [here](https:\/\/helpserver.labs.jb.gg\/help\/datalore\/machine-management.html#computation-modes).\n",
    "\n",
    "⚠️ Be careful when switching on Background computation, as it will consume your computation quota."
   ],
   "attachments":{
    
   },
   "metadata":{
    "datalore":{
     "node_id":"pj8KvtZwrugV81CKSnoAki",
     "type":"MD",
     "hide_input_from_viewers":false,
     "hide_output_from_viewers":false,
     "report_properties":{
      "rowId":"0PHDsTXwL4orRPj3a7jYuc"
     }
    }
   }
  },
  {
   "cell_type":"markdown",
   "source":[
    "## Shortcuts 101\n",
    "\n",
    "Datalore supports a wide variety of Jupyter and PyCharm shortcuts. You can access the full list from *Help | Shortcuts* or by pressing `Shift+F1`.\n",
    "\n",
    "<div><img src=\"https:\/\/datalore-samples.s3.eu-west-1.amazonaws.com\/datalore_gallery_of_samples\/Getting+started\/Shortcuts.png\" width = 300 border=\"1\" style=\"border-color: #d3d3d3; margin-top: 1%;\"\/><\/div>\n",
    "\n",
    "### Command mode and Editor mode\n",
    "\n",
    "There are two modes for shortcuts: Command mode and Editor mode.\n",
    "\n",
    "When editing a cell's content you are in Editor mode. To access Command mode, which allows you to manipulate the cells themselves, press `Esc`. To switch back to Editor mode, press `Enter`."
   ],
   "attachments":{
    
   },
   "metadata":{
    "datalore":{
     "node_id":"djlPgB5Vrk6iSrJ5pUVMvY",
     "type":"MD",
     "hide_input_from_viewers":false,
     "hide_output_from_viewers":false,
     "report_properties":{
      "rowId":"1suH62rf8sunNLrhb307Ei"
     }
    }
   }
  },
  {
   "cell_type":"markdown",
   "source":[
    "### Some of the most often used shortcuts include:\n",
    "\n",
    "- Run the selected cell and select below: `Shift+Enter`.\n",
    "- Change cell type: `Command+M\/Ctrl+M`.\n",
    "- Undo action: `Command+Z\/Ctrl+Z`.\n",
    "- Delete cell: `DD` (Command mode).\n",
    "- Insert cell above: `A` (Command mode).\n",
    "- Insert cell below: `B` (Command mode).\n",
    "- Copy selected cells: `C` (Command mode).\n",
    "- Cut selected cells: `X` (Command mode).\n",
    "- Paste below: `V` (Command mode)."
   ],
   "attachments":{
    
   },
   "metadata":{
    "datalore":{
     "node_id":"ZXW9McxHPxT1BGJcsqpaoc",
     "type":"MD",
     "hide_input_from_viewers":false,
     "hide_output_from_viewers":false,
     "report_properties":{
      "rowId":"WbMTqEW95pbieoNdmCKejh"
     }
    }
   }
  },
  {
   "cell_type":"markdown",
   "source":[
    "### Command palette\n",
    "\n",
    "Access quick actions using the Command palette from the Help menu tab.\n",
    "\n",
    "<div><img src=\"https:\/\/datalore-samples.s3.eu-west-1.amazonaws.com\/datalore_gallery_of_samples\/Getting+started\/Command_palette.png\" width = 300 border=\"1\" style=\"border-color: #d3d3d3; margin-top: 1%;\"\/><\/div>"
   ],
   "attachments":{
    
   },
   "metadata":{
    "datalore":{
     "node_id":"gtaNW2TtHOaKNPczSX2LWk",
     "type":"MD",
     "hide_input_from_viewers":false,
     "hide_output_from_viewers":false,
     "report_properties":{
      "rowId":"T6Wjdv14teutNImI2HM4cc"
     }
    }
   }
  },
  {
   "cell_type":"markdown",
   "source":[
    "# Tutorials"
   ],
   "attachments":{
    
   },
   "metadata":{
    "datalore":{
     "node_id":"Tutorials",
     "type":"MD",
     "hide_input_from_viewers":false,
     "hide_output_from_viewers":false,
     "sheet_delimiter":true
    }
   }
  },
  {
   "cell_type":"markdown",
   "source":[
    "# Tutorial Gallery, Updates, Contact info\n",
    "\n",
    "We regularly post tips & tricks on our [blog](https:\/\/blog.jetbrains.com\/datalore\/) and on[Twitter](https:\/\/twitter.com\/Datalore)! Check them out and subscribe to get the most out of Datalore.\n",
    "\n",
    "## Basic tutorials\n",
    "\n",
    "- [Pandas Tutorial: 10 Most Popular Questions for Python Data Frames](https:\/\/datalore.jetbrains.com\/view\/notebook\/6gojhrbqOlQNBil7H542XF)\n",
    "- [Visualization Tutorial With Seaborn](https:\/\/datalore.jetbrains.com\/view\/notebook\/v8mLoENq8XTfmStTCLNMV6)\n",
    "- [Visualization With Pyplot in Datalore](https:\/\/datalore.jetbrains.com\/view\/notebook\/Rk9o3SlkJAd47e8plzm0dV)\n",
    "- [Interactive Controls Tutorial](https:\/\/datalore.jetbrains.com\/view\/notebook\/sQPS7uBqNrBiu7t7uQXV74)\n",
    "- [Lets-Plot Usage Guide](https:\/\/datalore.jetbrains.com\/view\/notebook\/nsYaTYEEYG1wGIaqa2bWr5)\n",
    "- [Exploratory Data Analysis in Practice](https:\/\/blog.jetbrains.com\/datalore\/2022\/09\/05\/exploratory-data-analysis-in-practice\/)\n",
    "\n",
    "## Cool notebook samples\n",
    "\n",
    "- [10,000,000 Jupyter Notebooks Analyzed](https:\/\/datalore.jetbrains.com\/view\/notebook\/F7aMWFiuETFIWCo9BoxAtv)\n",
    "- [Random Forest, Trees, and Stumps 🌳🌴🌲 A General Overview of Binary Classification Models](https:\/\/datalore.jetbrains.com\/view\/notebook\/feUEhlTKRkbohY59fq18fN)\n",
    "\n",
    "## Webinars\n",
    "- [Is Your Analysis Reproducible? 5 Ways to Make Your Work Bulletproof With Datalore](https:\/\/www.youtube.com\/watch?v=MIctg07feIc)\n",
    "- [5 Tips for Combining Python and SQL in Datalore](https:\/\/www.youtube.com\/watch?v=5lPTshUFpW8)\n",
    "\n",
    "## Video Tutorials\n",
    "- [5 tips for using SQL cells in Datalore](https:\/\/www.youtube.com\/watch?v=xHlahGVq_BE)\n",
    "- [5 Tips for Creating Interactive Reports with Python in Datalore](https:\/\/www.youtube.com\/watch?v=cyYpQMRUOdE)"
   ],
   "attachments":{
    
   },
   "metadata":{
    "datalore":{
     "node_id":"pfZnzFum6p7F8EpKZWvc9m",
     "type":"MD",
     "hide_input_from_viewers":false,
     "hide_output_from_viewers":false,
     "report_properties":{
      "rowId":"pZ564eOJmVyRCXcOTo1SXW"
     }
    }
   }
  },
  {
   "cell_type":"markdown",
   "source":[
    "## How to get support\n",
    "\n",
    "What really helps us make the Datalore product better is your feedback. Our team is always thankful when you tell us about your experience or report bugs.\n",
    "\n",
    "Feel free to share your feedback with us and report any issues by:\n",
    "\n",
    "- Writing a post on our [public forum](https:\/\/datalore-forum.jetbrains.com\/).\n",
    "- Emailing us at datalore-enterprise@jetbrains.com."
   ],
   "attachments":{
    
   },
   "metadata":{
    "datalore":{
     "node_id":"taA28GYDW0xLrRVLmaFK0l",
     "type":"MD",
     "hide_input_from_viewers":false,
     "hide_output_from_viewers":false,
     "report_properties":{
      "rowId":"FJmdDibKgTXp1EMiFhjjDF"
     }
    }
   }
  }
 ],
 "metadata":{
  "kernelspec":{
   "display_name":"Python",
   "language":"python",
   "name":"python"
  },
  "datalore":{
   "computation_mode":"JUPYTER",
   "package_manager":"pip",
   "base_environment":"default",
   "packages":[
    
   ],
   "report_row_ids":[
    "2YndeLy2IfT7nfiMulRCz5",
    "RpOOPpNsaqQ7AQUoWBjzCm",
    "FE9qoE20D3fVyPOo7DtSfY",
    "GRJRqRxkOyX26yIi2lOxBj",
    "npSyBAgbEHyNCbZ2TfH7tO",
    "dAYZ92roE3FWsGGgEW475q",
    "nU6Hxqj6xPu47eVpa7CMTb",
    "r8vRGtoCVxp1SJlqKP5hnu",
    "aXrJOgfH8cjQEWarsNfAGH",
    "l7wuV7iTg3lWH8fRoXt0CZ",
    "pyGGzJ5h8LuTCWF03b4m4V",
    "s1pg7562WagYLoPB7jHL3k",
    "bGo1OQaZXj7JOl5PTaipAt",
    "4aVF7nCmNuLRArQBX1540K",
    "Un4euCg1KTjMaOzokRxZ1W",
    "wRlo7qugmhRPH1uWPhtm4Q",
    "zbSQF3KL4Rz0knCVNWBn5w",
    "kiHYchw4tHUfVQ5u0WQLne",
    "9Y2LvuI3R4qSArKoIPvotG",
    "Z8SIYyv1zVu3LvSCIO4mFP",
    "FeAvwZvolZq5tlmD1pHzqO",
    "zRwfRNEtgXMI7QH34M3qSG",
    "59GTYv5AhATXgcuze9kL8s",
    "4a4azkCpb6Z84rKJ67EnwT",
    "q6gNCdZYeLsR5Wa4hNHjo0",
    "xxDsCQBKp8z0tHjn3qjszA",
    "Sdj7ErdHZdcnDHrtjSxsK2",
    "DbGWq2XYfSfQvB5DO5nuQn",
    "Hhmeyqce80PQ03TjQimW9H",
    "gCvyXMjTac01qTdq9bAFZL",
    "NdH3Ir9pp5LCeA5owXgiLD",
    "ieyJAtoIZarj1CSfBTtnPu",
    "QXXxUVgboUD6DwjqbtqbmN",
    "77CMZB2HEv3mjM0zqiVKjK",
    "C8pEUw7LqWpzvX0aNW2S6V",
    "0PHDsTXwL4orRPj3a7jYuc",
    "1suH62rf8sunNLrhb307Ei",
    "WbMTqEW95pbieoNdmCKejh",
    "T6Wjdv14teutNImI2HM4cc",
    "pZ564eOJmVyRCXcOTo1SXW",
    "FJmdDibKgTXp1EMiFhjjDF"
   ],
   "version":3
  }
 },
 "nbformat":4,
 "nbformat_minor":4
}