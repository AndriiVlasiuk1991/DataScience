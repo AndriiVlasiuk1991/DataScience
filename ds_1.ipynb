{
 "cells":[
  {
   "cell_type":"markdown",
   "source":[
    "# HW_1"
   ],
   "attachments":{
    
   },
   "metadata":{
    "datalore":{
     "node_id":"HW_1",
     "type":"MD",
     "hide_input_from_viewers":false,
     "hide_output_from_viewers":false,
     "sheet_delimiter":true
    }
   }
  },
  {
   "cell_type":"code",
   "source":[
    "from numpy import arange, zeros, random, dot, linalg, transpose, multiply, subtract, square, sqrt\n",
    "import numpy as np"
   ],
   "execution_count":20,
   "outputs":[
    
   ],
   "metadata":{
    "datalore":{
     "node_id":"38y7jTgE9cOMt9rAFokr8s",
     "type":"CODE",
     "hide_input_from_viewers":true,
     "hide_output_from_viewers":false,
     "report_properties":{
      "rowId":"2YndeLy2IfT7nfiMulRCz5"
     }
    }
   }
  },
  {
   "cell_type":"code",
   "source":[
    "vector = arange(1, 11)\n",
    "print('1. Створіть одновимірний масив (вектор) з першими 10-ма натуральними числами та виведіть його значення.')\n",
    "print(f'Вектор: \\n{vector}\\n')"
   ],
   "execution_count":21,
   "outputs":[
    {
     "name":"stdout",
     "text":[
      "1. Створіть одновимірний масив (вектор) з першими 10-ма натуральними числами та виведіть його значення.\n",
      "Вектор: \n",
      "[ 1  2  3  4  5  6  7  8  9 10]\n",
      "\n"
     ],
     "output_type":"stream"
    }
   ],
   "metadata":{
    "datalore":{
     "node_id":"2twapglPxqpjXEKjEpTZ5j",
     "type":"CODE",
     "hide_input_from_viewers":true,
     "hide_output_from_viewers":true
    }
   }
  },
  {
   "cell_type":"code",
   "source":[
    "matrix = zeros((3, 3))\n",
    "print('2. Створіть двовимірний масив (матрицю) розміром 3x3, заповніть його нулями та виведіть його значення.')\n",
    "print(f'Матриця: \\n{matrix}\\n')"
   ],
   "execution_count":22,
   "outputs":[
    {
     "name":"stdout",
     "text":[
      "2. Створіть двовимірний масив (матрицю) розміром 3x3, заповніть його нулями та виведіть його значення.\n",
      "Матриця: \n",
      "[[0. 0. 0.]\n",
      " [0. 0. 0.]\n",
      " [0. 0. 0.]]\n",
      "\n"
     ],
     "output_type":"stream"
    }
   ],
   "metadata":{
    "datalore":{
     "node_id":"DknAhZ71cnsbdqEiDlAmxW",
     "type":"CODE",
     "hide_input_from_viewers":true,
     "hide_output_from_viewers":true
    }
   }
  },
  {
   "cell_type":"code",
   "source":[
    "random_matrix = random.randint(1, 11, size=(5, 5))\n",
    "print(\n",
    "    '3. Створіть масив розміром 5x5, заповніть його випадковими цілими числами в діапазоні від 1 до 10 та виведіть його значення.')\n",
    "print(f'Матриця: \\n{random_matrix}\\n')"
   ],
   "execution_count":23,
   "outputs":[
    {
     "name":"stdout",
     "text":[
      "3. Створіть масив розміром 5x5, заповніть його випадковими цілими числами в діапазоні від 1 до 10 та виведіть його значення.\n",
      "Матриця: \n",
      "[[ 8 10  9  5  1]\n",
      " [ 3  7  3 10  2]\n",
      " [ 3  4  3  6  7]\n",
      " [ 7  9  6  9  8]\n",
      " [ 4  9  2  4  5]]\n",
      "\n"
     ],
     "output_type":"stream"
    }
   ],
   "metadata":{
    "datalore":{
     "node_id":"Z4bRmNF9gnY6b9varWSIEB",
     "type":"CODE",
     "hide_input_from_viewers":true,
     "hide_output_from_viewers":true
    }
   }
  },
  {
   "cell_type":"code",
   "source":[
    "random_matrix = random.rand(4, 4)\n",
    "print(\n",
    "    '4. Створіть масив розміром 4x4, заповніть його випадковими дійсними числами в діапазоні від 0 до 1 та виведіть його значення.')\n",
    "print(f'Матриця: \\n{random_matrix}\\n')"
   ],
   "execution_count":24,
   "outputs":[
    {
     "name":"stdout",
     "text":[
      "4. Створіть масив розміром 4x4, заповніть його випадковими дійсними числами в діапазоні від 0 до 1 та виведіть його значення.\n",
      "Матриця: \n",
      "[[0.62556171 0.74038027 0.86205295 0.50245162]\n",
      " [0.88496239 0.70099784 0.47341885 0.72507392]\n",
      " [0.45603682 0.87919442 0.66652662 0.51751058]\n",
      " [0.21582302 0.4619295  0.48554583 0.06439285]]\n",
      "\n"
     ],
     "output_type":"stream"
    }
   ],
   "metadata":{
    "datalore":{
     "node_id":"N5ql7I6aPIBaaSV5hClSzn",
     "type":"CODE",
     "hide_input_from_viewers":true,
     "hide_output_from_viewers":true
    }
   }
  },
  {
   "cell_type":"code",
   "source":[
    "array_1 = random.randint(1, 11, size=5)\n",
    "array_2 = random.randint(1, 11, size=5)\n",
    "sum = array_1 + array_2\n",
    "sub = array_1 - array_2\n",
    "multiplication = array_1 * array_2\n",
    "print(\n",
    "    '5. Створіть два одновимірних масиви розміром 5, заповніть їх випадковими цілими числами в діапазоні від 1 до 10 та виконайте на них поелементні операції додавання, віднімання та множення.')\n",
    "print(f'Вектор 1: {array_1}')\n",
    "print(f'Вектор 2: {array_2}')\n",
    "print(f'Сума: {sum}')\n",
    "print(f'Різниця: {sub}')\n",
    "print(f'Добуток: {multiplication}\\n')"
   ],
   "execution_count":25,
   "outputs":[
    {
     "name":"stdout",
     "text":[
      "5. Створіть два одновимірних масиви розміром 5, заповніть їх випадковими цілими числами в діапазоні від 1 до 10 та виконайте на них поелементні операції додавання, віднімання та множення.\n",
      "Вектор 1: [3 2 5 3 6]\n",
      "Вектор 2: [5 3 8 3 5]\n",
      "Сума: [ 8  5 13  6 11]\n",
      "Різниця: [-2 -1 -3  0  1]\n",
      "Добуток: [15  6 40  9 30]\n",
      "\n"
     ],
     "output_type":"stream"
    }
   ],
   "metadata":{
    "datalore":{
     "node_id":"sJalNTo90oQvuS5U3qJ7Bj",
     "type":"CODE",
     "hide_input_from_viewers":true,
     "hide_output_from_viewers":true
    }
   }
  },
  {
   "cell_type":"code",
   "source":[
    "vector_1 = random.randint(1, 11, size=7)\n",
    "vector_2 = random.randint(1, 11, size=7)\n",
    "scalar = dot(vector_1, vector_2)\n",
    "print('6. Створіть два вектори розміром 7, заповніть довільними числами та знайдіть їх скалярний добуток.')\n",
    "print(f'Вектор 1: {vector_1}')\n",
    "print(f'Вектор 2: {vector_2}')\n",
    "print(f'Cкалярний добуток: {scalar}\\n')"
   ],
   "execution_count":26,
   "outputs":[
    {
     "name":"stdout",
     "text":[
      "6. Створіть два вектори розміром 7, заповніть довільними числами та знайдіть їх скалярний добуток.\n",
      "Вектор 1: [9 4 9 3 3 8 6]\n",
      "Вектор 2: [7 7 1 3 4 6 8]\n",
      "Cкалярний добуток: 217\n",
      "\n"
     ],
     "output_type":"stream"
    }
   ],
   "metadata":{
    "datalore":{
     "node_id":"txEaKTNh5MDDXIJ14JItfF",
     "type":"CODE",
     "hide_input_from_viewers":true,
     "hide_output_from_viewers":true
    }
   }
  },
  {
   "cell_type":"code",
   "source":[
    "matrix_1 = random.randint(1, 11, size=(2, 2))\n",
    "matrix_2 = random.randint(1, 11, size=(2, 3))\n",
    "multiplication = dot(matrix_1, matrix_2)\n",
    "print(\n",
    "    '7. Створіть дві матриці розміром 2x2 та 2x3, заповніть їх випадковими цілими числами в діапазоні від 1 до 10 та перемножте їх між собою.')\n",
    "print(f'Матриця 1: \\n{matrix_1}')\n",
    "print(f'Матриця 2: \\n{matrix_2}')\n",
    "print(f'Результат множення матриць: \\n{multiplication}\\n')"
   ],
   "execution_count":27,
   "outputs":[
    {
     "name":"stdout",
     "text":[
      "7. Створіть дві матриці розміром 2x2 та 2x3, заповніть їх випадковими цілими числами в діапазоні від 1 до 10 та перемножте їх між собою.\n",
      "Матриця 1: \n",
      "[[5 5]\n",
      " [4 7]]\n",
      "Матриця 2: \n",
      "[[ 2 10 10]\n",
      " [ 3  3  5]]\n",
      "Результат множення матриць: \n",
      "[[25 65 75]\n",
      " [29 61 75]]\n",
      "\n"
     ],
     "output_type":"stream"
    }
   ],
   "metadata":{
    "datalore":{
     "node_id":"b6v7Zlsvmvyk6rPloSnCHx",
     "type":"CODE",
     "hide_input_from_viewers":true,
     "hide_output_from_viewers":true
    }
   }
  },
  {
   "cell_type":"code",
   "source":[
    "matrix = random.randint(1, 11, size=(3, 3))\n",
    "print(\n",
    "    '8. Створіть матрицю розміром 3x3, заповніть її випадковими цілими числами в діапазоні від 1 до 10 та знайдіть її обернену матрицю.')\n",
    "print(f'Матриця: \\n{matrix}')\n",
    "try:\n",
    "    inv_matrix = linalg.inv(matrix)\n",
    "    print(f'Обернена матриця: \\n{inv_matrix}\\n')\n",
    "except linalg.LinAlgError:\n",
    "    print(f'Обернена матриця не існує\\n')"
   ],
   "execution_count":28,
   "outputs":[
    {
     "name":"stdout",
     "text":[
      "8. Створіть матрицю розміром 3x3, заповніть її випадковими цілими числами в діапазоні від 1 до 10 та знайдіть її обернену матрицю.\n",
      "Матриця: \n",
      "[[ 1  4  2]\n",
      " [ 1  1  1]\n",
      " [ 2  9 10]]\n",
      "Обернена матриця: \n",
      "[[-0.05882353  1.29411765 -0.11764706]\n",
      " [ 0.47058824 -0.35294118 -0.05882353]\n",
      " [-0.41176471  0.05882353  0.17647059]]\n",
      "\n"
     ],
     "output_type":"stream"
    }
   ],
   "metadata":{
    "datalore":{
     "node_id":"zYjIWnrJOQYTaOMZix9rZ0",
     "type":"CODE",
     "hide_input_from_viewers":true,
     "hide_output_from_viewers":true
    }
   }
  },
  {
   "cell_type":"code",
   "source":[
    "matrix = random.randint(1, 11, size=(4, 4))\n",
    "trans_matrix = transpose(matrix)\n",
    "print(\n",
    "    '9. Створіть матрицю розміром 4x4, заповніть її випадковими дійсними числами в діапазоні від 0 до 1 та транспонуйте її.')\n",
    "print(f'Матриця: \\n{matrix}')\n",
    "print(f'Транспонована матриця: \\n{trans_matrix}\\n')"
   ],
   "execution_count":29,
   "outputs":[
    {
     "name":"stdout",
     "text":[
      "9. Створіть матрицю розміром 4x4, заповніть її випадковими дійсними числами в діапазоні від 0 до 1 та транспонуйте її.\n",
      "Матриця: \n",
      "[[10  7  6 10]\n",
      " [ 3  9  4  1]\n",
      " [ 9  6  6  4]\n",
      " [ 2  6  3  7]]\n",
      "Транспонована матриця: \n",
      "[[10  3  9  2]\n",
      " [ 7  9  6  6]\n",
      " [ 6  4  6  3]\n",
      " [10  1  4  7]]\n",
      "\n"
     ],
     "output_type":"stream"
    }
   ],
   "metadata":{
    "datalore":{
     "node_id":"24D83jJ6uluD5wVVx6ugkL",
     "type":"CODE",
     "hide_input_from_viewers":true,
     "hide_output_from_viewers":true
    }
   }
  },
  {
   "cell_type":"code",
   "source":[
    "matrix = random.randint(1, 11, size=(3, 4))\n",
    "vector = random.randint(1, 11, size=4)\n",
    "result_vector = dot(matrix, vector)\n",
    "print(\n",
    "    '10. Створіть матрицю розміром 3x4 та вектор розміром 4, заповніть їх випадковими цілими числами в діапазоні від 1 до 10 та перемножте матрицю на вектор.')\n",
    "print(f'Матриця: \\n{matrix}')\n",
    "print(f'Вектор: {vector}')\n",
    "print(f'Результат множення матриці на вектор: {result_vector}\\n')"
   ],
   "execution_count":30,
   "outputs":[
    {
     "name":"stdout",
     "text":[
      "10. Створіть матрицю розміром 3x4 та вектор розміром 4, заповніть їх випадковими цілими числами в діапазоні від 1 до 10 та перемножте матрицю на вектор.\n",
      "Матриця: \n",
      "[[ 6  2  3 10]\n",
      " [ 1  7  9  2]\n",
      " [ 6  1  9 10]]\n",
      "Вектор: [5 4 3 7]\n",
      "Результат множення матриці на вектор: [117  74 131]\n",
      "\n"
     ],
     "output_type":"stream"
    }
   ],
   "metadata":{
    "datalore":{
     "node_id":"UDpZM5azII1Ux1tnzNqwSX",
     "type":"CODE",
     "hide_input_from_viewers":true,
     "hide_output_from_viewers":true
    }
   }
  },
  {
   "cell_type":"code",
   "source":[
    "matrix = random.rand(2, 3)\n",
    "vector = random.rand(3)\n",
    "result_vector = dot(matrix, vector)\n",
    "print(\n",
    "    '11. Створіть матрицю розміром 2x3 та вектор розміром 3, заповніть їх випадковими дійсними числами в діапазоні від 0 до 1 та перемножте матрицю на вектор.')\n",
    "print(f'Матриця: \\n{matrix}')\n",
    "print(f'Вектор: {vector}')\n",
    "print(f'Результат множення матриці на вектор: {result_vector}\\n')"
   ],
   "execution_count":31,
   "outputs":[
    {
     "name":"stdout",
     "text":[
      "11. Створіть матрицю розміром 2x3 та вектор розміром 3, заповніть їх випадковими дійсними числами в діапазоні від 0 до 1 та перемножте матрицю на вектор.\n",
      "Матриця: \n",
      "[[0.05098952 0.76176371 0.25408051]\n",
      " [0.52186081 0.98842586 0.45037525]]\n",
      "Вектор: [0.68677991 0.26376719 0.85912859]\n",
      "Результат множення матриці на вектор: [0.45423468 1.00604808]\n",
      "\n"
     ],
     "output_type":"stream"
    }
   ],
   "metadata":{
    "datalore":{
     "node_id":"qNBLmhP8TfEYJWdZ6wptWY",
     "type":"CODE",
     "hide_input_from_viewers":true,
     "hide_output_from_viewers":true
    }
   }
  },
  {
   "cell_type":"code",
   "source":[
    "matrix_1 = random.randint(1, 11, size=(2, 2))\n",
    "matrix_2 = random.randint(1, 11, size=(2, 2))\n",
    "elementwise = multiply(matrix_1, matrix_2)\n",
    "print(\n",
    "    '12. Створіть дві матриці розміром 2x2, заповніть їх випадковими цілими числами в діапазоні від 1 до 10 та виконайте їхнє поелементне множення.')\n",
    "print(f'Матриця 1: \\n{matrix_1}')\n",
    "print(f'Матриця 2: \\n{matrix_2}')\n",
    "print(f'Результат поелементного множення матриць: \\n{elementwise}\\n')"
   ],
   "execution_count":32,
   "outputs":[
    {
     "name":"stdout",
     "text":[
      "12. Створіть дві матриці розміром 2x2, заповніть їх випадковими цілими числами в діапазоні від 1 до 10 та виконайте їхнє поелементне множення.\n",
      "Матриця 1: \n",
      "[[9 1]\n",
      " [9 3]]\n",
      "Матриця 2: \n",
      "[[4 1]\n",
      " [4 1]]\n",
      "Результат поелементного множення матриць: \n",
      "[[36  1]\n",
      " [36  3]]\n",
      "\n"
     ],
     "output_type":"stream"
    }
   ],
   "metadata":{
    "datalore":{
     "node_id":"3xIjTVbb78TGyrAatRM9e4",
     "type":"CODE",
     "hide_input_from_viewers":true,
     "hide_output_from_viewers":true
    }
   }
  },
  {
   "cell_type":"code",
   "source":[
    "matrix_1 = random.randint(1, 11, size=(2, 2))\n",
    "matrix_2 = random.randint(1, 11, size=(2, 2))\n",
    "product = dot(matrix_1, matrix_2)\n",
    "print(\n",
    "    '13. Створіть дві матриці розміром 2x2, заповніть їх випадковими цілими числами в діапазоні від 1 до 10 та знайдіть їх добуток.')\n",
    "print(f'Матриця 1: \\n{matrix_1}')\n",
    "print(f'Матриця 2: \\n{matrix_2}')\n",
    "print(f'Добуток матриць: \\n{product}\\n')"
   ],
   "execution_count":33,
   "outputs":[
    {
     "name":"stdout",
     "text":[
      "13. Створіть дві матриці розміром 2x2, заповніть їх випадковими цілими числами в діапазоні від 1 до 10 та знайдіть їх добуток.\n",
      "Матриця 1: \n",
      "[[4 8]\n",
      " [5 6]]\n",
      "Матриця 2: \n",
      "[[8 1]\n",
      " [5 1]]\n",
      "Добуток матриць: \n",
      "[[72 12]\n",
      " [70 11]]\n",
      "\n"
     ],
     "output_type":"stream"
    }
   ],
   "metadata":{
    "datalore":{
     "node_id":"zxihEFp0ifiFjNff2Kx7No",
     "type":"CODE",
     "hide_input_from_viewers":true,
     "hide_output_from_viewers":true
    }
   }
  },
  {
   "cell_type":"code",
   "source":[
    "matrix = random.randint(1, 101, size=(5, 5))\n",
    "sum_elements = np.sum(matrix)\n",
    "print(\n",
    "    '14. Створіть матрицю розміром 5x5, заповніть її випадковими цілими числами в діапазоні від 1 до 100 та знайдіть суму елементів матриці.')\n",
    "print(f'Матриця: \\n{matrix}')\n",
    "print(f'Сума елементів матриці: {sum_elements}\\n')"
   ],
   "execution_count":34,
   "outputs":[
    {
     "name":"stdout",
     "text":[
      "14. Створіть матрицю розміром 5x5, заповніть її випадковими цілими числами в діапазоні від 1 до 100 та знайдіть суму елементів матриці.\n",
      "Матриця: \n",
      "[[26 34 58 31 87]\n",
      " [ 8 56 20 46 12]\n",
      " [62 33 84 42 59]\n",
      " [19 75 65 70 25]\n",
      " [15 89 40 26 67]]\n",
      "Сума елементів матриці: 1149\n",
      "\n"
     ],
     "output_type":"stream"
    }
   ],
   "metadata":{
    "datalore":{
     "node_id":"Y92cJ1K3ujJateEWkgjCMO",
     "type":"CODE",
     "hide_input_from_viewers":true,
     "hide_output_from_viewers":true
    }
   }
  },
  {
   "cell_type":"code",
   "source":[
    "matrix_1 = random.randint(1, 11, size=(4, 4))\n",
    "matrix_2 = random.randint(1, 11, size=(4, 4))\n",
    "product = subtract(matrix_1, matrix_2)\n",
    "print(\n",
    "    '15. Створіть дві матриці розміром 4x4, заповніть їх випадковими цілими числами в діапазоні від 1 до 10 та знайдіть їхню різницю.')\n",
    "print(f'Матриця 1: \\n{matrix_1}')\n",
    "print(f'Матриця 2: \\n{matrix_2}')\n",
    "print(f'Різниця матриць: \\n{product}\\n')"
   ],
   "execution_count":35,
   "outputs":[
    {
     "name":"stdout",
     "text":[
      "15. Створіть дві матриці розміром 4x4, заповніть їх випадковими цілими числами в діапазоні від 1 до 10 та знайдіть їхню різницю.\n",
      "Матриця 1: \n",
      "[[ 8 10  2  8]\n",
      " [ 7  1 10  8]\n",
      " [ 4  1  2  7]\n",
      " [ 1  8  4  4]]\n",
      "Матриця 2: \n",
      "[[ 6 10  3  3]\n",
      " [ 7  9  1  7]\n",
      " [ 2  7  5  5]\n",
      " [10  1  4  8]]\n",
      "Різниця матриць: \n",
      "[[ 2  0 -1  5]\n",
      " [ 0 -8  9  1]\n",
      " [ 2 -6 -3  2]\n",
      " [-9  7  0 -4]]\n",
      "\n"
     ],
     "output_type":"stream"
    }
   ],
   "metadata":{
    "datalore":{
     "node_id":"J5DuobahCawZHuy2m9pFr7",
     "type":"CODE",
     "hide_input_from_viewers":true,
     "hide_output_from_viewers":true
    }
   }
  },
  {
   "cell_type":"code",
   "source":[
    "matrix = random.rand(3, 3)\n",
    "row_sums = np.sum(matrix, axis=1, keepdims=True)\n",
    "print(\n",
    "    '16. Створіть матрицю розміром 3x3, заповніть її випадковими дійсними числами в діапазоні від 0 до 1 та знайдіть вектор-стовпчик, що містить суму елементів кожного рядка матриці.')\n",
    "print(f'Матриця: \\n{matrix}')\n",
    "print(f'Cума елементів кожного рядка матриці: \\n{row_sums}\\n')"
   ],
   "execution_count":36,
   "outputs":[
    {
     "name":"stdout",
     "text":[
      "16. Створіть матрицю розміром 3x3, заповніть її випадковими дійсними числами в діапазоні від 0 до 1 та знайдіть вектор-стовпчик, що містить суму елементів кожного рядка матриці.\n",
      "Матриця: \n",
      "[[0.76950948 0.3184035  0.20325069]\n",
      " [0.51043142 0.53180869 0.28116826]\n",
      " [0.19909186 0.05389568 0.38525345]]\n",
      "Cума елементів кожного рядка матриці: \n",
      "[[1.29116366]\n",
      " [1.32340837]\n",
      " [0.63824098]]\n",
      "\n"
     ],
     "output_type":"stream"
    }
   ],
   "metadata":{
    "datalore":{
     "node_id":"Ht0q1ubCQRkHyRqDtZJyhO",
     "type":"CODE",
     "hide_input_from_viewers":true,
     "hide_output_from_viewers":true
    }
   }
  },
  {
   "cell_type":"code",
   "source":[
    "matrix = random.randint(-10, 11, size=(3, 4))\n",
    "square_matrix = square(matrix)\n",
    "print('17. Створіть матрицю розміром 3x4 з довільними цілими числами і створінь матрицю з квадратами цих чисел.')\n",
    "print(f'Матриця: \\n{matrix}')\n",
    "print(f'Матриця з квадратами чисел: \\n{square_matrix}\\n')"
   ],
   "execution_count":37,
   "outputs":[
    {
     "name":"stdout",
     "text":[
      "17. Створіть матрицю розміром 3x4 з довільними цілими числами і створінь матрицю з квадратами цих чисел.\n",
      "Матриця: \n",
      "[[ 3  1  2 -6]\n",
      " [-9  7 -3 -8]\n",
      " [ 8 -5 -5  1]]\n",
      "Матриця з квадратами чисел: \n",
      "[[ 9  1  4 36]\n",
      " [81 49  9 64]\n",
      " [64 25 25  1]]\n",
      "\n"
     ],
     "output_type":"stream"
    }
   ],
   "metadata":{
    "datalore":{
     "node_id":"61gRejFzB14coPTdCpRTf2",
     "type":"CODE",
     "hide_input_from_viewers":true,
     "hide_output_from_viewers":true
    }
   }
  },
  {
   "cell_type":"code",
   "source":[
    "vector = random.randint(1, 51, size=4)\n",
    "sqrt_vector = sqrt(vector)\n",
    "print(\n",
    "    '18. Створіть вектор розміром 4, заповніть його випадковими цілими числами в діапазоні від 1 до 50 та знайдіть вектор з квадратними коренями цих чисел.')\n",
    "print(f'Вектор: {vector}')\n",
    "print(f'Вектор з квадратними коренями: \\n{sqrt_vector}\\n')"
   ],
   "execution_count":38,
   "outputs":[
    {
     "name":"stdout",
     "text":[
      "18. Створіть вектор розміром 4, заповніть його випадковими цілими числами в діапазоні від 1 до 50 та знайдіть вектор з квадратними коренями цих чисел.\n",
      "Вектор: [ 4 14  5  8]\n",
      "Вектор з квадратними коренями: \n",
      "[2.         3.74165739 2.23606798 2.82842712]\n",
      "\n"
     ],
     "output_type":"stream"
    }
   ],
   "metadata":{
    "datalore":{
     "node_id":"DiZPfyLMOGY7vHruhoRvHY",
     "type":"CODE",
     "hide_input_from_viewers":true,
     "hide_output_from_viewers":true
    }
   }
  }
 ],
 "metadata":{
  "kernelspec":{
   "display_name":"Python",
   "language":"python",
   "name":"python"
  },
  "datalore":{
   "computation_mode":"JUPYTER",
   "package_manager":"pip",
   "base_environment":"default",
   "packages":[
    
   ],
   "report_row_ids":[
    "2YndeLy2IfT7nfiMulRCz5",
    "RpOOPpNsaqQ7AQUoWBjzCm",
    "FE9qoE20D3fVyPOo7DtSfY",
    "GRJRqRxkOyX26yIi2lOxBj",
    "npSyBAgbEHyNCbZ2TfH7tO",
    "dAYZ92roE3FWsGGgEW475q",
    "nU6Hxqj6xPu47eVpa7CMTb",
    "r8vRGtoCVxp1SJlqKP5hnu",
    "aXrJOgfH8cjQEWarsNfAGH",
    "l7wuV7iTg3lWH8fRoXt0CZ",
    "pyGGzJ5h8LuTCWF03b4m4V",
    "s1pg7562WagYLoPB7jHL3k",
    "bGo1OQaZXj7JOl5PTaipAt",
    "4aVF7nCmNuLRArQBX1540K",
    "Un4euCg1KTjMaOzokRxZ1W",
    "wRlo7qugmhRPH1uWPhtm4Q",
    "zbSQF3KL4Rz0knCVNWBn5w",
    "kiHYchw4tHUfVQ5u0WQLne",
    "9Y2LvuI3R4qSArKoIPvotG",
    "Z8SIYyv1zVu3LvSCIO4mFP",
    "FeAvwZvolZq5tlmD1pHzqO",
    "zRwfRNEtgXMI7QH34M3qSG",
    "59GTYv5AhATXgcuze9kL8s",
    "4a4azkCpb6Z84rKJ67EnwT",
    "q6gNCdZYeLsR5Wa4hNHjo0",
    "xxDsCQBKp8z0tHjn3qjszA",
    "Sdj7ErdHZdcnDHrtjSxsK2",
    "DbGWq2XYfSfQvB5DO5nuQn",
    "Hhmeyqce80PQ03TjQimW9H",
    "gCvyXMjTac01qTdq9bAFZL",
    "NdH3Ir9pp5LCeA5owXgiLD",
    "ieyJAtoIZarj1CSfBTtnPu",
    "QXXxUVgboUD6DwjqbtqbmN",
    "77CMZB2HEv3mjM0zqiVKjK",
    "C8pEUw7LqWpzvX0aNW2S6V",
    "0PHDsTXwL4orRPj3a7jYuc",
    "1suH62rf8sunNLrhb307Ei",
    "WbMTqEW95pbieoNdmCKejh",
    "T6Wjdv14teutNImI2HM4cc",
    "pZ564eOJmVyRCXcOTo1SXW",
    "FJmdDibKgTXp1EMiFhjjDF"
   ],
   "version":3
  }
 },
 "nbformat":4,
 "nbformat_minor":4
}