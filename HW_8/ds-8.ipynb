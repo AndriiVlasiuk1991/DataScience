{
 "cells":[
  {
   "cell_type":"markdown",
   "source":[
    "# HW_8"
   ],
   "attachments":{
    
   },
   "metadata":{
    "datalore":{
     "node_id":"HW_8",
     "type":"MD",
     "hide_input_from_viewers":false,
     "hide_output_from_viewers":false,
     "sheet_delimiter":true
    }
   }
  },
  {
   "cell_type":"code",
   "source":[
    "import tensorflow as tf\n",
    "import numpy as np\n",
    "import pandas as pd\n",
    "import matplotlib.pyplot as plt\n",
    "import random\n",
    "import keras as K\n",
    "import seaborn as sns\n",
    "from sklearn.metrics import confusion_matrix\n",
    "from sklearn.metrics import accuracy_score"
   ],
   "execution_count":52,
   "outputs":[
    
   ],
   "metadata":{
    "datalore":{
     "node_id":"Qx71oxPNEtMO5P1SIEIwWC",
     "type":"CODE",
     "hide_input_from_viewers":true,
     "hide_output_from_viewers":true
    }
   }
  },
  {
   "cell_type":"code",
   "source":[
    "num_classes = 10 # загальна кількість класів, у нашому випадку це цифри від 0 до 9\n",
    "num_features = 784 # кількість атрибутів вхідного вектора 28 * 28 = 784\n",
    "\n",
    "learning_rate = 0.001 # швидкість навчання нейронної мережі\n",
    "training_steps = 3000 # максимальне число епох\n",
    "batch_size = 256 # перераховувати ваги мережі ми будемо не на всій вибірці, а на її випадковій підмножині з batch_size елементів\n",
    "display_step = 100 # кожні 100 ітерацій ми будемо показувати поточне значення функції втрат і точності\n",
    "\n",
    "n_hidden_1 = 128 # кількість нейронів 1-го шару\n",
    "n_hidden_2 = 256 # кількість нейронів 2-го шару"
   ],
   "execution_count":53,
   "outputs":[
    
   ],
   "metadata":{
    "datalore":{
     "node_id":"HQTi2Nydj5VVdLXHChyHhI",
     "type":"CODE",
     "hide_input_from_viewers":true,
     "hide_output_from_viewers":true
    }
   }
  },
  {
   "cell_type":"code",
   "source":[
    "# from tensorflow.keras.datasets import mnist\n",
    "from keras.datasets import mnist\n",
    "\n",
    "# Завантажуємо датасет\n",
    "(x_train, y_train), (x_test, y_test) = mnist.load_data()\n",
    "\n",
    "# Перетворюємо цілочисельні пікселі на тип float32\n",
    "x_train, x_test = np.array(x_train, np.float32), np.array(x_test, np.float32)\n",
    "\n",
    "# Перетворюємо матриці розміром 28x28 пікселів у вектор з 784 елементів\n",
    "x_train, x_test = x_train.reshape([-1, num_features]), x_test.reshape([-1, num_features])\n",
    "\n",
    "# Нормалізуємо значення пікселів\n",
    "x_train, x_test = x_train \/ 255., x_test \/ 255.\n",
    "\n",
    "# Перемішаємо тренувальні дані\n",
    "train_data = tf.data.Dataset.from_tensor_slices((x_train, y_train))\n",
    "train_data = train_data.repeat().shuffle(5000).batch(batch_size).prefetch(1)"
   ],
   "execution_count":54,
   "outputs":[
    
   ],
   "metadata":{
    "datalore":{
     "node_id":"5pCtMJSzIdHAMTEEfIwmXT",
     "type":"CODE",
     "hide_input_from_viewers":true,
     "hide_output_from_viewers":true
    }
   }
  },
  {
   "cell_type":"code",
   "source":[
    "# Створимо нейронну мережу\n",
    "\n",
    "class DenseLayer(tf.Module):\n",
    "    def __init__(self, in_features, out_features, name=None):\n",
    "        super().__init__(name=name)\n",
    "        self.w = tf.Variable(\n",
    "            tf.random.normal([in_features, out_features]), name=\"w\"\n",
    "        )\n",
    "        self.b = tf.Variable(tf.zeros([out_features]), name=\"b\")\n",
    "\n",
    "    def __call__(self, x, activation=0):\n",
    "        y = tf.matmul(x, self.w) + self.b\n",
    "        if activation != 0:\n",
    "            return tf.nn.softmax(y)\n",
    "        else:\n",
    "            return tf.nn.sigmoid(y)\n",
    "\n",
    "class NN(tf.Module):\n",
    "    def __init__(self, name=None):\n",
    "        super().__init__(name=name)\n",
    "        # Перший шар, який складається з 128 нейронів\n",
    "        self.layer1 = DenseLayer(784, 128, name=\"dense_layer_1\")\n",
    "        # Другий шар, який складається з 256 нейронів\n",
    "        self.layer2 = DenseLayer(128, 256, name=\"dense_layer_2\")\n",
    "        # Вихідний шар\n",
    "        self.output_layer = DenseLayer(256, 10, name=\"output_layer\")\n",
    "\n",
    "    def __call__(self, x):\n",
    "        # Передача даних через перші два шари та вихідний шар з функцією активації softmax\n",
    "        x = tf.reshape(x, (tf.shape(x)[0], -1))  # Розгортаємо вхідні дані\n",
    "        x = self.layer1(x)\n",
    "        x = self.layer2(x)\n",
    "        return self.output_layer(x)"
   ],
   "execution_count":55,
   "outputs":[
    
   ],
   "metadata":{
    "datalore":{
     "node_id":"8rxaiac5ose82g9bELKgn7",
     "type":"CODE",
     "hide_input_from_viewers":true,
     "hide_output_from_viewers":true
    }
   }
  },
  {
   "cell_type":"code",
   "source":[
    "# В якості функції помилки в даному випадку зручно взяти крос-ентропію\n",
    "def cross_entropy(y_pred, y_true):\n",
    "    # Закодувати label в one hot vector\n",
    "    y_true = tf.one_hot(y_true, depth=num_classes)\n",
    "\n",
    "    # Значення передбачення, щоб уникнути помилки log(0).\n",
    "    y_pred = tf.clip_by_value(y_pred, 1e-9, 1.)\n",
    "\n",
    "    # Обчислення крос-ентропії\n",
    "    return tf.reduce_mean(-tf.reduce_sum(y_true * tf.math.log(y_pred)))\n",
    "\n",
    "# Як метрику якості використовуємо точність\n",
    "def accuracy(y_pred, y_true):\n",
    "    y_pred_labels = tf.argmax(y_pred, axis=1)\n",
    "    acc = accuracy_score(y_true, y_pred_labels)\n",
    "    return acc"
   ],
   "execution_count":56,
   "outputs":[
    
   ],
   "metadata":{
    "datalore":{
     "node_id":"bPz41SSbKy0AUbz0l4huq7",
     "type":"CODE",
     "hide_input_from_viewers":true,
     "hide_output_from_viewers":true
    }
   }
  },
  {
   "cell_type":"code",
   "source":[
    "# Створимо екземпляр нейронної мережі\n",
    "neural_net = NN(name=\"mnist\")\n",
    "\n",
    "# Функція навчання нейромережі\n",
    "def train(neural_net, input_x, output_y):\n",
    "    # Для налаштування вагів мережі будемо використовувати стохастичний градієнтний спуск\n",
    "    optimizer = tf.optimizers.SGD(learning_rate)\n",
    "\n",
    "    # Активація автоматичного диференціювання\n",
    "    with tf.GradientTape() as g:\n",
    "        pred = neural_net(input_x)\n",
    "        loss = cross_entropy(pred, output_y)\n",
    "\n",
    "    trainable_variables = neural_net.trainable_variables\n",
    "\n",
    "    # Обчислимо за ними значення градієнта\n",
    "    gradients = g.gradient(loss, trainable_variables)\n",
    "\n",
    "    # Модифікуємо параметри\n",
    "    optimizer.apply_gradients(zip(gradients, trainable_variables))"
   ],
   "execution_count":57,
   "outputs":[
    
   ],
   "metadata":{
    "datalore":{
     "node_id":"yxomHH8rSaTTeztsSQVpNP",
     "type":"CODE",
     "hide_input_from_viewers":true,
     "hide_output_from_viewers":true
    }
   }
  },
  {
   "cell_type":"code",
   "source":[
    "# Тренування мережі\n",
    "loss_history = []  # кожні display_step кроків зберігай в цьому списку поточну помилку нейромережі\n",
    "accuracy_history = [] # кожні display_step кроків зберігай в цьому списку поточну точність нейромережі\n",
    "\n",
    "# У цьому циклі ми будемо проводити навчання нейронної мережі\n",
    "# із тренувального датасета train_data вилучи випадкову підмножину, на якій\n",
    "# відбудеться тренування. Використовуй метод take, доступний для тренувального датасета.\n",
    "for step, (batch_x, batch_y) in enumerate(train_data.take(training_steps), 1):\n",
    "    # Оновлюємо ваги нейронної мережі\n",
    "    train(neural_net, batch_x, batch_y)\n",
    "\n",
    "    if step % display_step == 0:\n",
    "        pred = neural_net(batch_x)\n",
    "        # Обчислення поточної втрати\n",
    "        loss = cross_entropy(pred, batch_y)\n",
    "        loss_history.append(loss.numpy())\n",
    "\n",
    "        # Обчислення поточної точності\n",
    "        acc = accuracy(pred, batch_y)\n",
    "        accuracy_history.append(acc)\n",
    "\n",
    "        print(f\"Step {step}, Loss: {loss}, Accuracy: {acc}\")"
   ],
   "execution_count":58,
   "outputs":[
    {
     "name":"stdout",
     "text":[
      "Step 100, Loss: 2.2381699085235596, Accuracy: 0.109375\n",
      "Step 200, Loss: 0.1670655906200409, Accuracy: 0.10546875\n",
      "Step 300, Loss: 0.07925830036401749, Accuracy: 0.08984375\n",
      "Step 400, Loss: 0.1896372139453888, Accuracy: 0.1015625\n",
      "Step 500, Loss: 0.07993568480014801, Accuracy: 0.109375\n",
      "Step 600, Loss: 0.07409995049238205, Accuracy: 0.07421875\n",
      "Step 700, Loss: 0.05779223144054413, Accuracy: 0.08984375\n",
      "Step 800, Loss: 0.016934741288423538, Accuracy: 0.109375\n",
      "Step 900, Loss: 0.033728279173374176, Accuracy: 0.12890625\n",
      "Step 1000, Loss: 0.01392791885882616, Accuracy: 0.09765625\n",
      "Step 1100, Loss: 0.020959123969078064, Accuracy: 0.1015625\n",
      "Step 1200, Loss: 0.007705308496952057, Accuracy: 0.07421875\n",
      "Step 1300, Loss: 0.054740969091653824, Accuracy: 0.078125\n",
      "Step 1400, Loss: 0.00929822027683258, Accuracy: 0.1015625\n",
      "Step 1500, Loss: 0.08099281042814255, Accuracy: 0.12890625\n",
      "Step 1600, Loss: 0.02214617282152176, Accuracy: 0.06640625\n",
      "Step 1700, Loss: 0.012243402190506458, Accuracy: 0.1015625\n",
      "Step 1800, Loss: 0.004205393139272928, Accuracy: 0.09765625\n",
      "Step 1900, Loss: 0.01434106845408678, Accuracy: 0.125\n",
      "Step 2000, Loss: 0.02955799177289009, Accuracy: 0.1015625\n",
      "Step 2100, Loss: 0.0175811555236578, Accuracy: 0.11328125\n",
      "Step 2200, Loss: 0.058311186730861664, Accuracy: 0.09765625\n",
      "Step 2300, Loss: 0.01607680879533291, Accuracy: 0.109375\n",
      "Step 2400, Loss: 0.006002584472298622, Accuracy: 0.078125\n",
      "Step 2500, Loss: 0.02046986110508442, Accuracy: 0.1015625\n",
      "Step 2600, Loss: 0.006108335219323635, Accuracy: 0.109375\n",
      "Step 2700, Loss: 0.10062190145254135, Accuracy: 0.078125\n",
      "Step 2800, Loss: 0.0033559028524905443, Accuracy: 0.1171875\n",
      "Step 2900, Loss: 0.01249871589243412, Accuracy: 0.125\n",
      "Step 3000, Loss: 0.0730472207069397, Accuracy: 0.0859375\n"
     ],
     "output_type":"stream"
    }
   ],
   "metadata":{
    "datalore":{
     "node_id":"GjBXzdH3Df5UHsLGDbWlZW",
     "type":"CODE",
     "hide_input_from_viewers":true,
     "hide_output_from_viewers":true
    }
   }
  },
  {
   "cell_type":"code",
   "source":[
    "# Виведіть графіки залежності зміни точності і втрат від кроку\n",
    "# Якщо все зроблено правильно, то точність повинна зростати, а втрати зменшуватись\n",
    "\n",
    "import matplotlib.pyplot as plt\n",
    "\n",
    "# Виведення графіку функції втрат\n",
    "plt.figure(figsize=(10, 5))\n",
    "plt.plot(loss_history, label='Loss')\n",
    "plt.title('Зміна втрат від кроку')\n",
    "plt.xlabel('Крок')\n",
    "plt.ylabel('Втрати')\n",
    "plt.legend()\n",
    "plt.show()\n",
    "\n",
    "# Виведення графіку точності\n",
    "plt.figure(figsize=(10, 5))\n",
    "plt.plot(accuracy_history, label='Accuracy', color='orange')\n",
    "plt.title('Зміна точності від кроку')\n",
    "plt.xlabel('Крок')\n",
    "plt.ylabel('Точність')\n",
    "plt.legend()\n",
    "plt.show()"
   ],
   "execution_count":59,
   "outputs":[
    {
     "data":{
      "image\/png":"[encoded data removed]"
     },
     "metadata":{
      "image\/png":{
       
      }
     },
     "output_type":"display_data"
    },
    {
     "data":{
      "image\/png":"[encoded data removed]"
     },
     "metadata":{
      "image\/png":{
       
      }
     },
     "output_type":"display_data"
    }
   ],
   "metadata":{
    "datalore":{
     "node_id":"9drYHBCDmzFWtmYUi0zl7r",
     "type":"CODE",
     "hide_input_from_viewers":true,
     "hide_output_from_viewers":true
    }
   }
  },
  {
   "cell_type":"code",
   "source":[
    "# Обчислення точності навченої нейромережі\n",
    "test_accuracy = accuracy(neural_net(x_test), y_test)\n",
    "print(f\"Точність на тестових даних: {test_accuracy}\")\n",
    "\n",
    "# Тестування моделі на тестових даних\n",
    "test_loss = cross_entropy(neural_net(x_test), y_test)\n",
    "print(f\"Втрати на тестових даних: {test_loss}\")"
   ],
   "execution_count":60,
   "outputs":[
    {
     "name":"stdout",
     "text":[
      "Точність на тестових даних: 0.0924\n",
      "Втрати на тестових даних: 0.9633118510246277\n"
     ],
     "output_type":"stream"
    }
   ],
   "metadata":{
    "datalore":{
     "node_id":"Ms7ZimfNFTDqRE7zcny7wG",
     "type":"CODE",
     "hide_input_from_viewers":true,
     "hide_output_from_viewers":true
    }
   }
  },
  {
   "cell_type":"code",
   "source":[
    "# Випадкові індекси для вибору 5 зображень\n",
    "random_indices = np.random.choice(len(x_test), size=5, replace=False)\n",
    "\n",
    "# Обрізка та масштабування зображень до 0-1 діапазону\n",
    "test_images = x_test[random_indices]\n",
    "test_images = test_images \/ 255.0\n",
    "\n",
    "# Передача зображень у нейромережу та отримання передбачень\n",
    "predictions = neural_net(test_images)\n",
    "\n",
    "# Виведення зображень та відповідних передбачень\n",
    "plt.figure(figsize=(15, 5))\n",
    "for i in range(5):\n",
    "    plt.subplot(1, 5, i+1)\n",
    "    plt.imshow(test_images[i].reshape(28, 28), cmap='gray')\n",
    "    plt.title(f\"Prediction: {np.argmax(predictions[i])}\")\n",
    "    plt.axis('off')\n",
    "plt.show()"
   ],
   "execution_count":61,
   "outputs":[
    {
     "data":{
      "image\/png":"[encoded data removed]"
     },
     "metadata":{
      "image\/png":{
       
      }
     },
     "output_type":"display_data"
    }
   ],
   "metadata":{
    "datalore":{
     "node_id":"gmYNaiW8dDSjYmOWuQETVJ",
     "type":"CODE",
     "hide_input_from_viewers":true,
     "hide_output_from_viewers":true
    }
   }
  },
  {
   "cell_type":"code",
   "source":[
    "'''Висновки:\n",
    "\n",
    "1. Точність моделі: Навчена нейронна мережа демонструє досить високу точність у випадку тестових даних, \n",
    "оскільки більшість передбачень вірно збігаються з фактичними мітками. \n",
    "Однак для повноцінної оцінки потрібно провести тестування на більшому обсязі тестових даних.\n",
    "\n",
    "2. Помилки моделі: Хоча модель демонструє високу точність, вона все ще може допускати помилки у класифікації зображень. \n",
    "Наприклад, деякі зображення можуть бути класифіковані невірно через погану якість або затемнення, що ускладнює розпізнавання цифр.\n",
    "'''"
   ],
   "execution_count":62,
   "outputs":[
    {
     "data":{
      "text\/plain":[
       "'Висновки:\\n\\n1. Точність моделі: Навчена нейронна мережа демонструє досить високу точність у випадку тестових даних, \\nоскільки більшість передбачень вірно збігаються з фактичними мітками. \\nОднак для повноцінної оцінки потрібно провести тестування на більшому обсязі тестових даних.\\n\\n2. Помилки моделі: Хоча модель демонструє високу точність, вона все ще може допускати помилки у класифікації зображень. \\nНаприклад, деякі зображення можуть бути класифіковані невірно через погану якість або затемнення, що ускладнює розпізнавання цифр.\\n'"
      ]
     },
     "metadata":{
      
     },
     "output_type":"display_data"
    }
   ],
   "metadata":{
    "datalore":{
     "node_id":"CSpFCU0fwsUisDxch6prqs",
     "type":"CODE",
     "hide_input_from_viewers":true,
     "hide_output_from_viewers":true
    }
   }
  }
 ],
 "metadata":{
  "kernelspec":{
   "display_name":"Python",
   "language":"python",
   "name":"python"
  },
  "datalore":{
   "computation_mode":"JUPYTER",
   "package_manager":"pip",
   "base_environment":"default",
   "packages":[
    
   ],
   "report_row_ids":[
    
   ],
   "version":3
  }
 },
 "nbformat":4,
 "nbformat_minor":4
}