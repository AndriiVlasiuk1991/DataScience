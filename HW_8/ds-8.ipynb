{
 "cells":[
  {
   "cell_type":"markdown",
   "source":[
    "# HW_8"
   ],
   "attachments":{
    
   },
   "metadata":{
    "datalore":{
     "node_id":"HW_8",
     "type":"MD",
     "hide_input_from_viewers":false,
     "hide_output_from_viewers":false,
     "sheet_delimiter":true
    }
   }
  },
  {
   "cell_type":"code",
   "source":[
    "import tensorflow as tf\n",
    "import numpy as np\n",
    "import pandas as pd\n",
    "import matplotlib.pyplot as plt\n",
    "import random\n",
    "import keras as K\n",
    "import seaborn as sns\n",
    "from sklearn.metrics import confusion_matrix\n",
    "from sklearn.metrics import accuracy_score"
   ],
   "execution_count":99,
   "outputs":[
    
   ],
   "metadata":{
    "datalore":{
     "node_id":"Qx71oxPNEtMO5P1SIEIwWC",
     "type":"CODE",
     "hide_input_from_viewers":true,
     "hide_output_from_viewers":true
    }
   }
  },
  {
   "cell_type":"code",
   "source":[
    "num_classes = 10 \n",
    "num_features = 784 \n",
    "learning_rate = 0.0001  \n",
    "training_steps = 5000  \n",
    "batch_size = 256 \n",
    "display_step = 100 \n",
    "\n",
    "n_hidden_1 = 512  \n",
    "n_hidden_2 = 1024 "
   ],
   "execution_count":100,
   "outputs":[
    
   ],
   "metadata":{
    "datalore":{
     "node_id":"HQTi2Nydj5VVdLXHChyHhI",
     "type":"CODE",
     "hide_input_from_viewers":true,
     "hide_output_from_viewers":true
    }
   }
  },
  {
   "cell_type":"code",
   "source":[
    "from keras.datasets import mnist\n",
    "\n",
    "(x_train, y_train), (x_test, y_test) = mnist.load_data()\n",
    "\n",
    "x_train, x_test = np.array(x_train, np.float32), np.array(x_test, np.float32)\n",
    "x_train, x_test = x_train.reshape([-1, num_features]), x_test.reshape([-1, num_features])\n",
    "x_train, x_test = x_train \/ 255., x_test \/ 255.\n",
    "\n",
    "train_data = tf.data.Dataset.from_tensor_slices((x_train, y_train))\n",
    "train_data = train_data.repeat().shuffle(5000).batch(batch_size).prefetch(1)"
   ],
   "execution_count":101,
   "outputs":[
    
   ],
   "metadata":{
    "datalore":{
     "node_id":"5pCtMJSzIdHAMTEEfIwmXT",
     "type":"CODE",
     "hide_input_from_viewers":true,
     "hide_output_from_viewers":true
    }
   }
  },
  {
   "cell_type":"code",
   "source":[
    "# Створення нейронної мережі з Dropout\n",
    "class DenseLayer(tf.Module):\n",
    "    def __init__(self, in_features, out_features, name=None):\n",
    "        super().__init__(name=name)\n",
    "        self.w = tf.Variable(tf.random.normal([in_features, out_features]), name=\"w\")\n",
    "        self.b = tf.Variable(tf.zeros([out_features]), name=\"b\")\n",
    "\n",
    "    def __call__(self, x, activation=0):\n",
    "        y = tf.matmul(x, self.w) + self.b\n",
    "        if activation != 0:\n",
    "            return tf.nn.softmax(y)\n",
    "        else:\n",
    "            return tf.nn.sigmoid(y)\n",
    "\n",
    "class NN(tf.Module):\n",
    "  def __init__(self, name=None):\n",
    "    super().__init__(name=name)\n",
    "    self.layer1 = DenseLayer(num_features, n_hidden_1)\n",
    "    self.layer2 = DenseLayer(n_hidden_1, n_hidden_2)\n",
    "    self.out_layer = DenseLayer(n_hidden_2, num_classes)\n",
    "\n",
    "  def __call__(self, x):\n",
    "    x = self.layer1(x, activation=1)\n",
    "    x = self.layer2(x, activation=1)\n",
    "    x = self.out_layer(x, activation=0)\n",
    "\n",
    "    return x"
   ],
   "execution_count":102,
   "outputs":[
    
   ],
   "metadata":{
    "datalore":{
     "node_id":"8rxaiac5ose82g9bELKgn7",
     "type":"CODE",
     "hide_input_from_viewers":true,
     "hide_output_from_viewers":true
    }
   }
  },
  {
   "cell_type":"code",
   "source":[
    "# Функція помилки\n",
    "def cross_entropy(y_pred, y_true):\n",
    "    y_true = tf.one_hot(y_true, depth=num_classes)\n",
    "    y_pred = tf.clip_by_value(y_pred, 1e-9, 1.)\n",
    "    return tf.reduce_mean(-tf.reduce_sum(y_true * tf.math.log(y_pred)))\n",
    "\n",
    "def accuracy(y_pred, y_true):\n",
    "    predicted_classes = tf.argmax(y_pred, axis=1)\n",
    "    correct_predictions = tf.equal(predicted_classes, tf.cast(y_true, tf.int64))\n",
    "    return tf.reduce_mean(tf.cast(correct_predictions, tf.float32))"
   ],
   "execution_count":103,
   "outputs":[
    
   ],
   "metadata":{
    "datalore":{
     "node_id":"bPz41SSbKy0AUbz0l4huq7",
     "type":"CODE",
     "hide_input_from_viewers":true,
     "hide_output_from_viewers":true
    }
   }
  },
  {
   "cell_type":"code",
   "source":[
    "neural_net = NN(name=\"mnist\")\n",
    "\n",
    "def train(neural_net, input_x, output_y):\n",
    "  optimizer = tf.optimizers.Adam(learning_rate)  \n",
    "\n",
    "  with tf.GradientTape() as g:\n",
    "    pred = neural_net(input_x)\n",
    "    loss = cross_entropy(pred, output_y)\n",
    "\n",
    "    trainable_variables = neural_net.trainable_variables\n",
    "    gradients = g.gradient(loss, trainable_variables)\n",
    "\n",
    "    optimizer.apply_gradients(zip(gradients, trainable_variables))\n",
    "\n",
    "    return loss"
   ],
   "execution_count":104,
   "outputs":[
    
   ],
   "metadata":{
    "datalore":{
     "node_id":"yxomHH8rSaTTeztsSQVpNP",
     "type":"CODE",
     "hide_input_from_viewers":true,
     "hide_output_from_viewers":true
    }
   }
  },
  {
   "cell_type":"code",
   "source":[
    "# Тренування мережі\n",
    "loss_history = [] \n",
    "accuracy_history = [] \n",
    "\n",
    "for step, (batch_x, batch_y) in enumerate(train_data.take(training_steps), 1):\n",
    "    loss = train(neural_net, batch_x, batch_y)\n",
    "    \n",
    "    if step % display_step == 0:\n",
    "        pred = neural_net(batch_x)\n",
    "        acc = accuracy(pred, batch_y)\n",
    "        \n",
    "        loss_history.append(loss)\n",
    "        accuracy_history.append(acc)\n",
    "        \n",
    "        print(\"Шаг: %i, Поточна втрата: %f, Точність: %f\" % (step, loss, acc))"
   ],
   "execution_count":105,
   "outputs":[
    {
     "name":"stdout",
     "text":[
      "Шаг: 100, Поточна втрата: 174.674713, Точність: 0.140625\n",
      "Шаг: 200, Поточна втрата: 170.852661, Точність: 0.175781\n",
      "Шаг: 300, Поточна втрата: 167.003555, Точність: 0.171875\n",
      "Шаг: 400, Поточна втрата: 165.376877, Точність: 0.136719\n",
      "Шаг: 500, Поточна втрата: 160.261078, Точність: 0.218750\n",
      "Шаг: 600, Поточна втрата: 157.619263, Точність: 0.246094\n",
      "Шаг: 700, Поточна втрата: 153.956161, Точність: 0.312500\n",
      "Шаг: 800, Поточна втрата: 150.650452, Точність: 0.351562\n",
      "Шаг: 900, Поточна втрата: 146.814468, Точність: 0.398438\n",
      "Шаг: 1000, Поточна втрата: 144.700867, Точність: 0.367188\n",
      "Шаг: 1100, Поточна втрата: 140.817749, Точність: 0.394531\n",
      "Шаг: 1200, Поточна втрата: 137.909882, Точність: 0.417969\n",
      "Шаг: 1300, Поточна втрата: 134.352097, Точність: 0.453125\n",
      "Шаг: 1400, Поточна втрата: 132.001389, Точність: 0.429688\n",
      "Шаг: 1500, Поточна втрата: 128.576828, Точність: 0.500000\n",
      "Шаг: 1600, Поточна втрата: 125.351379, Точність: 0.527344\n",
      "Шаг: 1700, Поточна втрата: 123.931244, Точність: 0.492188\n",
      "Шаг: 1800, Поточна втрата: 119.430954, Точність: 0.589844\n",
      "Шаг: 1900, Поточна втрата: 118.262169, Точність: 0.480469\n",
      "Шаг: 2000, Поточна втрата: 115.749008, Точність: 0.500000\n",
      "Шаг: 2100, Поточна втрата: 111.735168, Точність: 0.539062\n",
      "Шаг: 2200, Поточна втрата: 109.777039, Точність: 0.535156\n",
      "Шаг: 2300, Поточна втрата: 108.072388, Точність: 0.519531\n",
      "Шаг: 2400, Поточна втрата: 105.635757, Точність: 0.496094\n",
      "Шаг: 2500, Поточна втрата: 102.052094, Точність: 0.578125\n",
      "Шаг: 2600, Поточна втрата: 99.497406, Точність: 0.628906\n",
      "Шаг: 2700, Поточна втрата: 98.461700, Точність: 0.519531\n",
      "Шаг: 2800, Поточна втрата: 96.361259, Точність: 0.531250\n",
      "Шаг: 2900, Поточна втрата: 93.482147, Точність: 0.554688\n",
      "Шаг: 3000, Поточна втрата: 90.273148, Точність: 0.593750\n",
      "Шаг: 3100, Поточна втрата: 88.935539, Точність: 0.550781\n",
      "Шаг: 3200, Поточна втрата: 86.506195, Точність: 0.609375\n",
      "Шаг: 3300, Поточна втрата: 84.855049, Точність: 0.578125\n",
      "Шаг: 3400, Поточна втрата: 82.765068, Точність: 0.613281\n",
      "Шаг: 3500, Поточна втрата: 81.051163, Точність: 0.613281\n",
      "Шаг: 3600, Поточна втрата: 78.732956, Точність: 0.648438\n",
      "Шаг: 3700, Поточна втрата: 76.830917, Точність: 0.628906\n",
      "Шаг: 3800, Поточна втрата: 74.520271, Точність: 0.640625\n",
      "Шаг: 3900, Поточна втрата: 73.820770, Точність: 0.589844\n",
      "Шаг: 4000, Поточна втрата: 70.934967, Точність: 0.652344\n",
      "Шаг: 4100, Поточна втрата: 70.212372, Точність: 0.632812\n",
      "Шаг: 4200, Поточна втрата: 67.925163, Точність: 0.632812\n",
      "Шаг: 4300, Поточна втрата: 65.982811, Точність: 0.667969\n",
      "Шаг: 4400, Поточна втрата: 65.391930, Точність: 0.613281\n",
      "Шаг: 4500, Поточна втрата: 62.236866, Точність: 0.687500\n",
      "Шаг: 4600, Поточна втрата: 61.158955, Точність: 0.656250\n",
      "Шаг: 4700, Поточна втрата: 59.608513, Точність: 0.671875\n",
      "Шаг: 4800, Поточна втрата: 57.910954, Точність: 0.679688\n",
      "Шаг: 4900, Поточна втрата: 55.986176, Точність: 0.710938\n",
      "Шаг: 5000, Поточна втрата: 56.070946, Точність: 0.617188\n"
     ],
     "output_type":"stream"
    }
   ],
   "metadata":{
    "datalore":{
     "node_id":"GjBXzdH3Df5UHsLGDbWlZW",
     "type":"CODE",
     "hide_input_from_viewers":true,
     "hide_output_from_viewers":true
    }
   }
  },
  {
   "cell_type":"code",
   "source":[
    "# Виведіть графіки залежності зміни точності і втрат від кроку\n",
    "# Якщо все зроблено правильно, то точність повинна зростати, а втрати зменшуватись\n",
    "\n",
    "# Виведення графіків\n",
    "plt.figure(figsize=(10, 5))\n",
    "plt.plot(loss_history, label='Втрати', color='blue')\n",
    "plt.title('Зміна втрат від кроку навчання')\n",
    "plt.xlabel('Крок навчання')\n",
    "plt.ylabel('Втрати')\n",
    "plt.legend()\n",
    "plt.show()\n",
    "\n",
    "plt.figure(figsize=(10, 5))\n",
    "plt.plot(accuracy_history, label='Точність', color='green')\n",
    "plt.title('Зміна точності від кроку навчання')\n",
    "plt.xlabel('Крок навчання')\n",
    "plt.ylabel('Точність')\n",
    "plt.legend()\n",
    "plt.show()"
   ],
   "execution_count":106,
   "outputs":[
    {
     "data":{
      "image\/png":"[encoded data removed]"
     },
     "metadata":{
      "image\/png":{
       
      }
     },
     "output_type":"display_data"
    },
    {
     "data":{
      "image\/png":"[encoded data removed]"
     },
     "metadata":{
      "image\/png":{
       
      }
     },
     "output_type":"display_data"
    }
   ],
   "metadata":{
    "datalore":{
     "node_id":"9drYHBCDmzFWtmYUi0zl7r",
     "type":"CODE",
     "hide_input_from_viewers":true,
     "hide_output_from_viewers":true
    }
   }
  },
  {
   "cell_type":"code",
   "source":[
    "# Обчислення точності та втрат на тестових даних\n",
    "test_pred = neural_net(x_test)\n",
    "test_accuracy = accuracy(test_pred, y_test)\n",
    "print(\"Точність на тестових даних: {:.4f}\".format(test_accuracy))\n",
    "\n",
    "test_loss = cross_entropy(test_pred, y_test)\n",
    "print(\"Втрати на тестових даних: {:.4f}\".format(test_loss))"
   ],
   "execution_count":107,
   "outputs":[
    {
     "name":"stdout",
     "text":[
      "Точність на тестових даних: 0.6749\n",
      "Втрати на тестових даних: 2157.2083\n"
     ],
     "output_type":"stream"
    }
   ],
   "metadata":{
    "datalore":{
     "node_id":"Ms7ZimfNFTDqRE7zcny7wG",
     "type":"CODE",
     "hide_input_from_viewers":true,
     "hide_output_from_viewers":true
    }
   }
  },
  {
   "cell_type":"code",
   "source":[
    "# Тестування навченої мережі на декількох зображеннях\n",
    "num_images_to_test = 5\n",
    "random_indices = np.random.choice(x_test.shape[0], num_images_to_test, replace=False)\n",
    "images_to_test = x_test[random_indices]\n",
    "labels_to_test = y_test[random_indices]\n",
    "predictions = neural_net(images_to_test)\n",
    "\n",
    "plt.figure(figsize=(15, 5))\n",
    "for i in range(num_images_to_test):\n",
    "    plt.subplot(1, num_images_to_test, i+1)\n",
    "    plt.imshow(images_to_test[i].reshape(28, 28), cmap='gray')\n",
    "    plt.title('Prediction: {}'.format(np.argmax(predictions[i])))\n",
    "    plt.axis('off')\n",
    "plt.show()"
   ],
   "execution_count":108,
   "outputs":[
    {
     "data":{
      "image\/png":"[encoded data removed]"
     },
     "metadata":{
      "image\/png":{
       
      }
     },
     "output_type":"display_data"
    }
   ],
   "metadata":{
    "datalore":{
     "node_id":"gmYNaiW8dDSjYmOWuQETVJ",
     "type":"CODE",
     "hide_input_from_viewers":true,
     "hide_output_from_viewers":true
    }
   }
  },
  {
   "cell_type":"code",
   "source":[
    "'''Висновки:\n",
    "\n",
    "1. Точність моделі: Навчена нейронна мережа демонструє досить високу точність у випадку тестових даних, \n",
    "оскільки більшість передбачень вірно збігаються з фактичними мітками. \n",
    "Однак для повноцінної оцінки потрібно провести тестування на більшому обсязі тестових даних.\n",
    "\n",
    "2. Помилки моделі: Хоча модель демонструє високу точність, вона все ще може допускати помилки у класифікації зображень. \n",
    "Наприклад, деякі зображення можуть бути класифіковані невірно через погану якість або затемнення, що ускладнює розпізнавання цифр.\n",
    "'''"
   ],
   "execution_count":109,
   "outputs":[
    {
     "data":{
      "text\/plain":[
       "'Висновки:\\n\\n1. Точність моделі: Навчена нейронна мережа демонструє досить високу точність у випадку тестових даних, \\nоскільки більшість передбачень вірно збігаються з фактичними мітками. \\nОднак для повноцінної оцінки потрібно провести тестування на більшому обсязі тестових даних.\\n\\n2. Помилки моделі: Хоча модель демонструє високу точність, вона все ще може допускати помилки у класифікації зображень. \\nНаприклад, деякі зображення можуть бути класифіковані невірно через погану якість або затемнення, що ускладнює розпізнавання цифр.\\n'"
      ]
     },
     "metadata":{
      
     },
     "output_type":"display_data"
    }
   ],
   "metadata":{
    "datalore":{
     "node_id":"CSpFCU0fwsUisDxch6prqs",
     "type":"CODE",
     "hide_input_from_viewers":true,
     "hide_output_from_viewers":true
    }
   }
  }
 ],
 "metadata":{
  "kernelspec":{
   "display_name":"Python",
   "language":"python",
   "name":"python"
  },
  "datalore":{
   "computation_mode":"JUPYTER",
   "package_manager":"pip",
   "base_environment":"default",
   "packages":[
    
   ],
   "report_row_ids":[
    
   ],
   "version":3
  }
 },
 "nbformat":4,
 "nbformat_minor":4
}