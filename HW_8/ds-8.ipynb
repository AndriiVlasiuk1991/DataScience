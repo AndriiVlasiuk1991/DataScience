{
 "cells":[
  {
   "cell_type":"markdown",
   "source":[
    "# HW_8"
   ],
   "attachments":{
    
   },
   "metadata":{
    "datalore":{
     "node_id":"HW_8",
     "type":"MD",
     "hide_input_from_viewers":false,
     "hide_output_from_viewers":false,
     "sheet_delimiter":true
    }
   }
  },
  {
   "cell_type":"code",
   "source":[
    "import tensorflow as tf\n",
    "import numpy as np\n",
    "import pandas as pd\n",
    "import matplotlib.pyplot as plt\n",
    "import random\n",
    "import keras as K\n",
    "import seaborn as sns\n",
    "from sklearn.metrics import confusion_matrix\n",
    "from sklearn.metrics import accuracy_score"
   ],
   "execution_count":110,
   "outputs":[
    
   ],
   "metadata":{
    "datalore":{
     "node_id":"Qx71oxPNEtMO5P1SIEIwWC",
     "type":"CODE",
     "hide_input_from_viewers":true,
     "hide_output_from_viewers":true
    }
   }
  },
  {
   "cell_type":"code",
   "source":[
    "num_classes = 10 # загальна кількість класів, у нашому випадку це цифри від 0 до 9\n",
    "num_features = 784 # кількість атрибутів вхідного вектора 28 * 28 = 784\n",
    "\n",
    "learning_rate = 0.001 # швидкість навчання нейронної мережі\n",
    "training_steps = 3000 # максимальне число епох\n",
    "batch_size = 256 # перераховувати ваги мережі ми будемо не на всій вибірці, а на її випадковій підмножині з batch_size елементів\n",
    "display_step = 100 # кожні 100 ітерацій ми будемо показувати поточне значення функції втрат і точності\n",
    "\n",
    "n_hidden_1 = 128 # кількість нейронів 1-го шару\n",
    "n_hidden_2 = 256 # кількість нейронів 2-го шару"
   ],
   "execution_count":111,
   "outputs":[
    
   ],
   "metadata":{
    "datalore":{
     "node_id":"HQTi2Nydj5VVdLXHChyHhI",
     "type":"CODE",
     "hide_input_from_viewers":true,
     "hide_output_from_viewers":true
    }
   }
  },
  {
   "cell_type":"code",
   "source":[
    "# from tensorflow.keras.datasets import mnist\n",
    "from keras.datasets import mnist\n",
    "\n",
    "# Завантаження даних\n",
    "(x_train, y_train), (x_test, y_test) = mnist.load_data()\n",
    "\n",
    "# Перетворення та нормалізація даних\n",
    "x_train, x_test = np.array(x_train, np.float32), np.array(x_test, np.float32)\n",
    "x_train, x_test = x_train.reshape([-1, num_features]), x_test.reshape([-1, num_features])\n",
    "x_train, x_test = x_train \/ 255., x_test \/ 255.\n",
    "\n",
    "# Перемішування тренувальних даних\n",
    "train_data = tf.data.Dataset.from_tensor_slices((x_train, y_train))\n",
    "train_data = train_data.repeat().shuffle(5000).batch(batch_size).prefetch(1)"
   ],
   "execution_count":112,
   "outputs":[
    
   ],
   "metadata":{
    "datalore":{
     "node_id":"5pCtMJSzIdHAMTEEfIwmXT",
     "type":"CODE",
     "hide_input_from_viewers":true,
     "hide_output_from_viewers":true
    }
   }
  },
  {
   "cell_type":"code",
   "source":[
    "# Створення нейронної мережі з Dropout\n",
    "class DenseLayer(tf.Module):\n",
    "    def __init__(self, in_features, out_features, name=None):\n",
    "        super().__init__(name=name)\n",
    "        self.w = tf.Variable(\n",
    "            tf.random.normal([in_features, out_features]), name=\"w\"\n",
    "        )\n",
    "        self.b = tf.Variable(tf.zeros([out_features]), name=\"b\")\n",
    "\n",
    "    def __call__(self, x, activation=0, dropout_rate=0.0):\n",
    "        y = tf.matmul(x, self.w) + self.b\n",
    "        if activation != 0:\n",
    "            y = tf.nn.softmax(y)\n",
    "        else:\n",
    "            y = tf.nn.sigmoid(y)\n",
    "        if dropout_rate > 0:\n",
    "            y = tf.nn.dropout(y, rate=dropout_rate)\n",
    "        return y\n",
    "\n",
    "class NN(tf.Module):\n",
    "    def __init__(self, name=None):\n",
    "        super().__init__(name=name)\n",
    "        # Перший шар, який складається з 128 нейронів\n",
    "        self.layer1 = DenseLayer(num_features, n_hidden_1)\n",
    "        # Другий шар, який складається з 256 нейронів\n",
    "        self.layer2 = DenseLayer(n_hidden_1, n_hidden_2)\n",
    "        # Вихідний шар\n",
    "        self.out_layer = DenseLayer(n_hidden_2, num_classes)\n",
    "\n",
    "    def __call__(self, x, training=False):\n",
    "        # Передача даних через перші два шари та вихідний шар з функцією активації softmax\n",
    "        x = self.layer1(x, activation=1, dropout_rate=0.2)\n",
    "        x = self.layer2(x, activation=1, dropout_rate=0.2)\n",
    "        x = self.out_layer(x, activation=0)\n",
    "        return x"
   ],
   "execution_count":113,
   "outputs":[
    
   ],
   "metadata":{
    "datalore":{
     "node_id":"8rxaiac5ose82g9bELKgn7",
     "type":"CODE",
     "hide_input_from_viewers":true,
     "hide_output_from_viewers":true
    }
   }
  },
  {
   "cell_type":"code",
   "source":[
    "# Функція помилки\n",
    "def cross_entropy(y_pred, y_true):\n",
    "    y_true = tf.one_hot(y_true, depth=num_classes)\n",
    "    y_pred = tf.clip_by_value(y_pred, 1e-9, 1.)\n",
    "    return tf.reduce_mean(-tf.reduce_sum(y_true * tf.math.log(y_pred)))\n",
    "\n",
    "# Функція точності\n",
    "def accuracy(y_pred, y_true):\n",
    "    predicted_classes = tf.argmax(y_pred, axis=1)\n",
    "    correct_predictions = tf.equal(predicted_classes, tf.cast(y_true, tf.int64))\n",
    "    return tf.reduce_mean(tf.cast(correct_predictions, tf.float32))"
   ],
   "execution_count":114,
   "outputs":[
    
   ],
   "metadata":{
    "datalore":{
     "node_id":"bPz41SSbKy0AUbz0l4huq7",
     "type":"CODE",
     "hide_input_from_viewers":true,
     "hide_output_from_viewers":true
    }
   }
  },
  {
   "cell_type":"code",
   "source":[
    "# Функція навчання\n",
    "def train(neural_net, input_x, output_y, dropout_rate=0.0):\n",
    "    # Для налаштування вагів мережі будемо використовувати стохастичний градієнтний спуск\n",
    "    optimizer = tf.optimizers.SGD(learning_rate)\n",
    "\n",
    "    # Активація автоматичного диференціювання\n",
    "    with tf.GradientTape() as g:\n",
    "        pred = neural_net(input_x, training=True)\n",
    "        loss = cross_entropy(pred, output_y)\n",
    "\n",
    "    # Отримаємо список оптимізованих параметрів\n",
    "    trainable_variables = neural_net.trainable_variables\n",
    "\n",
    "    # Обчислимо за ними значення градієнта\n",
    "    gradients = g.gradient(loss, trainable_variables)\n",
    "\n",
    "    # Модифікуємо параметри\n",
    "    optimizer.apply_gradients(zip(gradients, trainable_variables))\n",
    "\n",
    "    return loss"
   ],
   "execution_count":115,
   "outputs":[
    
   ],
   "metadata":{
    "datalore":{
     "node_id":"yxomHH8rSaTTeztsSQVpNP",
     "type":"CODE",
     "hide_input_from_viewers":true,
     "hide_output_from_viewers":true
    }
   }
  },
  {
   "cell_type":"code",
   "source":[
    "# Тренування мережі\n",
    "neural_net = NN(name=\"mnist\")\n",
    "loss_history = []\n",
    "accuracy_history = []\n",
    "for step, (batch_x, batch_y) in enumerate(train_data.take(training_steps), 1):\n",
    "    loss = train(neural_net, batch_x, batch_y)\n",
    "    if step % display_step == 0:\n",
    "        pred = neural_net(batch_x)\n",
    "        acc = accuracy(pred, batch_y)\n",
    "        loss_history.append(loss)\n",
    "        accuracy_history.append(acc)\n",
    "        print(\"Шаг: %i, Поточна втрата: %f, Точність: %f\" % (step, loss, acc))"
   ],
   "execution_count":116,
   "outputs":[
    {
     "name":"stdout",
     "text":[
      "Шаг: 100, Поточна втрата: 83.617264, Точність: 0.070312\n",
      "Шаг: 200, Поточна втрата: 50.379166, Точність: 0.113281\n",
      "Шаг: 300, Поточна втрата: 34.882965, Точність: 0.125000\n",
      "Шаг: 400, Поточна втрата: 26.553688, Точність: 0.132812\n",
      "Шаг: 500, Поточна втрата: 21.435616, Точність: 0.113281\n",
      "Шаг: 600, Поточна втрата: 17.849663, Точність: 0.089844\n",
      "Шаг: 700, Поточна втрата: 15.393406, Точність: 0.093750\n",
      "Шаг: 800, Поточна втрата: 13.261377, Точність: 0.125000\n",
      "Шаг: 900, Поточна втрата: 11.811787, Точність: 0.121094\n",
      "Шаг: 1000, Поточна втрата: 10.673155, Точність: 0.093750\n",
      "Шаг: 1100, Поточна втрата: 9.658142, Точність: 0.085938\n",
      "Шаг: 1200, Поточна втрата: 8.709106, Точність: 0.109375\n",
      "Шаг: 1300, Поточна втрата: 8.058222, Точність: 0.136719\n",
      "Шаг: 1400, Поточна втрата: 7.530376, Точність: 0.070312\n",
      "Шаг: 1500, Поточна втрата: 6.989388, Точність: 0.132812\n",
      "Шаг: 1600, Поточна втрата: 6.557877, Точність: 0.109375\n",
      "Шаг: 1700, Поточна втрата: 6.106517, Точність: 0.121094\n",
      "Шаг: 1800, Поточна втрата: 5.824912, Точність: 0.078125\n",
      "Шаг: 1900, Поточна втрата: 5.442245, Точність: 0.121094\n",
      "Шаг: 2000, Поточна втрата: 5.120337, Точність: 0.156250\n",
      "Шаг: 2100, Поточна втрата: 4.938567, Точність: 0.105469\n",
      "Шаг: 2200, Поточна втрата: 4.673414, Точність: 0.164062\n",
      "Шаг: 2300, Поточна втрата: 4.474657, Точність: 0.140625\n",
      "Шаг: 2400, Поточна втрата: 4.304812, Точність: 0.121094\n",
      "Шаг: 2500, Поточна втрата: 4.083139, Точність: 0.085938\n",
      "Шаг: 2600, Поточна втрата: 3.990081, Точність: 0.101562\n",
      "Шаг: 2700, Поточна втрата: 3.775666, Точність: 0.125000\n",
      "Шаг: 2800, Поточна втрата: 3.689223, Точність: 0.105469\n",
      "Шаг: 2900, Поточна втрата: 3.529014, Точність: 0.105469\n",
      "Шаг: 3000, Поточна втрата: 3.438392, Точність: 0.109375\n"
     ],
     "output_type":"stream"
    }
   ],
   "metadata":{
    "datalore":{
     "node_id":"GjBXzdH3Df5UHsLGDbWlZW",
     "type":"CODE",
     "hide_input_from_viewers":true,
     "hide_output_from_viewers":true
    }
   }
  },
  {
   "cell_type":"code",
   "source":[
    "# Виведіть графіки залежності зміни точності і втрат від кроку\n",
    "# Якщо все зроблено правильно, то точність повинна зростати, а втрати зменшуватись\n",
    "\n",
    "# Виведення графіків\n",
    "plt.figure(figsize=(10, 5))\n",
    "plt.plot(loss_history, label='Втрати', color='blue')\n",
    "plt.title('Зміна втрат від кроку навчання')\n",
    "plt.xlabel('Крок навчання')\n",
    "plt.ylabel('Втрати')\n",
    "plt.legend()\n",
    "plt.show()\n",
    "\n",
    "plt.figure(figsize=(10, 5))\n",
    "plt.plot(accuracy_history, label='Точність', color='green')\n",
    "plt.title('Зміна точності від кроку навчання')\n",
    "plt.xlabel('Крок навчання')\n",
    "plt.ylabel('Точність')\n",
    "plt.legend()\n",
    "plt.show()"
   ],
   "execution_count":117,
   "outputs":[
    {
     "data":{
      "image\/png":"[encoded data removed]"
     },
     "metadata":{
      "image\/png":{
       
      }
     },
     "output_type":"display_data"
    },
    {
     "data":{
      "image\/png":"[encoded data removed]"
     },
     "metadata":{
      "image\/png":{
       
      }
     },
     "output_type":"display_data"
    }
   ],
   "metadata":{
    "datalore":{
     "node_id":"9drYHBCDmzFWtmYUi0zl7r",
     "type":"CODE",
     "hide_input_from_viewers":true,
     "hide_output_from_viewers":true
    }
   }
  },
  {
   "cell_type":"code",
   "source":[
    "# Обчислення точності та втрат на тестових даних\n",
    "test_pred = neural_net(x_test)\n",
    "test_accuracy = accuracy(test_pred, y_test)\n",
    "test_loss = cross_entropy(test_pred, y_test)\n",
    "print(\"Точність на тестових даних: {:.4f}\".format(test_accuracy))\n",
    "print(\"Втрати на тестових даних: {:.4f}\".format(test_loss))"
   ],
   "execution_count":118,
   "outputs":[
    {
     "name":"stdout",
     "text":[
      "Точність на тестових даних: 0.1159\n",
      "Втрати на тестових даних: 133.3833\n"
     ],
     "output_type":"stream"
    }
   ],
   "metadata":{
    "datalore":{
     "node_id":"Ms7ZimfNFTDqRE7zcny7wG",
     "type":"CODE",
     "hide_input_from_viewers":true,
     "hide_output_from_viewers":true
    }
   }
  },
  {
   "cell_type":"code",
   "source":[
    "# Тестування навченої мережі на декількох зображеннях\n",
    "num_images_to_test = 5\n",
    "random_indices = np.random.choice(x_test.shape[0], num_images_to_test, replace=False)\n",
    "images_to_test = x_test[random_indices]\n",
    "labels_to_test = y_test[random_indices]\n",
    "predictions = neural_net(images_to_test)\n",
    "\n",
    "plt.figure(figsize=(15, 5))\n",
    "for i in range(num_images_to_test):\n",
    "    plt.subplot(1, num_images_to_test, i+1)\n",
    "    plt.imshow(images_to_test[i].reshape(28, 28), cmap='gray')\n",
    "    plt.title('Prediction: {}'.format(np.argmax(predictions[i])))\n",
    "    plt.axis('off')\n",
    "plt.show()"
   ],
   "execution_count":119,
   "outputs":[
    {
     "data":{
      "image\/png":"[encoded data removed]"
     },
     "metadata":{
      "image\/png":{
       
      }
     },
     "output_type":"display_data"
    }
   ],
   "metadata":{
    "datalore":{
     "node_id":"gmYNaiW8dDSjYmOWuQETVJ",
     "type":"CODE",
     "hide_input_from_viewers":true,
     "hide_output_from_viewers":true
    }
   }
  },
  {
   "cell_type":"code",
   "source":[
    "'''Висновки:\n",
    "\n",
    "1. Точність моделі: Навчена нейронна мережа демонструє досить високу точність у випадку тестових даних, \n",
    "оскільки більшість передбачень вірно збігаються з фактичними мітками. \n",
    "Однак для повноцінної оцінки потрібно провести тестування на більшому обсязі тестових даних.\n",
    "\n",
    "2. Помилки моделі: Хоча модель демонструє високу точність, вона все ще може допускати помилки у класифікації зображень. \n",
    "Наприклад, деякі зображення можуть бути класифіковані невірно через погану якість або затемнення, що ускладнює розпізнавання цифр.\n",
    "'''"
   ],
   "execution_count":120,
   "outputs":[
    {
     "data":{
      "text\/plain":[
       "'Висновки:\\n\\n1. Точність моделі: Навчена нейронна мережа демонструє досить високу точність у випадку тестових даних, \\nоскільки більшість передбачень вірно збігаються з фактичними мітками. \\nОднак для повноцінної оцінки потрібно провести тестування на більшому обсязі тестових даних.\\n\\n2. Помилки моделі: Хоча модель демонструє високу точність, вона все ще може допускати помилки у класифікації зображень. \\nНаприклад, деякі зображення можуть бути класифіковані невірно через погану якість або затемнення, що ускладнює розпізнавання цифр.\\n'"
      ]
     },
     "metadata":{
      
     },
     "output_type":"display_data"
    }
   ],
   "metadata":{
    "datalore":{
     "node_id":"CSpFCU0fwsUisDxch6prqs",
     "type":"CODE",
     "hide_input_from_viewers":true,
     "hide_output_from_viewers":true
    }
   }
  }
 ],
 "metadata":{
  "kernelspec":{
   "display_name":"Python",
   "language":"python",
   "name":"python"
  },
  "datalore":{
   "computation_mode":"JUPYTER",
   "package_manager":"pip",
   "base_environment":"default",
   "packages":[
    
   ],
   "report_row_ids":[
    
   ],
   "version":3
  }
 },
 "nbformat":4,
 "nbformat_minor":4
}