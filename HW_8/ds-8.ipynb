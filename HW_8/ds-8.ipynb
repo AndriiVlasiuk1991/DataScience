{
 "cells":[
  {
   "cell_type":"markdown",
   "source":[
    "# HW_8"
   ],
   "attachments":{
    
   },
   "metadata":{
    "datalore":{
     "node_id":"HW_8",
     "type":"MD",
     "hide_input_from_viewers":false,
     "hide_output_from_viewers":false,
     "sheet_delimiter":true
    }
   }
  },
  {
   "cell_type":"code",
   "source":[
    "import tensorflow as tf\n",
    "import numpy as np\n",
    "import pandas as pd\n",
    "import matplotlib.pyplot as plt\n",
    "import random\n",
    "import keras as K\n",
    "import seaborn as sns\n",
    "from sklearn.metrics import confusion_matrix"
   ],
   "execution_count":14,
   "outputs":[
    
   ],
   "metadata":{
    "datalore":{
     "node_id":"Qx71oxPNEtMO5P1SIEIwWC",
     "type":"CODE",
     "hide_input_from_viewers":true,
     "hide_output_from_viewers":true
    }
   }
  },
  {
   "cell_type":"code",
   "source":[
    "num_classes = 10 \n",
    "num_features = 784 \n",
    "learning_rate = 0.01 \n",
    "training_steps = 3000 \n",
    "batch_size = 256 \n",
    "display_step = 100 \n",
    "n_hidden_1 = 256\n",
    "n_hidden_2 = 512"
   ],
   "execution_count":15,
   "outputs":[
    
   ],
   "metadata":{
    "datalore":{
     "node_id":"HQTi2Nydj5VVdLXHChyHhI",
     "type":"CODE",
     "hide_input_from_viewers":true,
     "hide_output_from_viewers":true
    }
   }
  },
  {
   "cell_type":"code",
   "source":[
    "from keras.datasets import mnist\n",
    "\n",
    "(x_train, y_train), (x_test, y_test) = mnist.load_data()\n",
    "\n",
    "x_train, x_test = np.array(x_train, np.float32), np.array(x_test, np.float32)\n",
    "\n",
    "x_train, x_test = x_train.reshape([-1, num_features]), x_test.reshape([-1, num_features])\n",
    "\n",
    "x_train, x_test = x_train \/ 255., x_test \/ 255.\n",
    "\n",
    "train_data = tf.data.Dataset.from_tensor_slices((x_train, y_train))\n",
    "train_data = train_data.repeat().shuffle(5000).batch(batch_size).prefetch(1)"
   ],
   "execution_count":16,
   "outputs":[
    
   ],
   "metadata":{
    "datalore":{
     "node_id":"5pCtMJSzIdHAMTEEfIwmXT",
     "type":"CODE",
     "hide_input_from_viewers":true,
     "hide_output_from_viewers":true
    }
   }
  },
  {
   "cell_type":"code",
   "source":[
    "class DenseLayer(tf.Module):\n",
    "    def __init__(self, in_features, out_features, name=None):\n",
    "        super().__init__(name=name)\n",
    "        self.w = tf.Variable(\n",
    "            tf.random.normal([in_features, out_features]), name=\"w\"\n",
    "        )\n",
    "        self.b = tf.Variable(tf.zeros([out_features]), name=\"b\")\n",
    "\n",
    "    def __call__(self, x, activation=0):\n",
    "        y = tf.matmul(x, self.w) + self.b\n",
    "        if activation != 0:\n",
    "            return tf.nn.softmax(y)\n",
    "        else:\n",
    "            return tf.nn.sigmoid(y)\n",
    "\n",
    "class NN(tf.Module):\n",
    "    def __init__(self, name=None):\n",
    "        super().__init__(name=name)\n",
    "        self.layer1 = DenseLayer(num_features, n_hidden_1)\n",
    "        self.dropout = tf.keras.layers.Dropout(0.5)\n",
    "        self.layer2 = DenseLayer(n_hidden_1, n_hidden_2)\n",
    "        self.out_layer = DenseLayer(n_hidden_2, num_classes)\n",
    "\n",
    "    def __call__(self, x):\n",
    "        x = self.layer1(x, activation=1)\n",
    "        x = self.layer2(x, activation=1)\n",
    "        return self.out_layer(x)"
   ],
   "execution_count":17,
   "outputs":[
    
   ],
   "metadata":{
    "datalore":{
     "node_id":"8rxaiac5ose82g9bELKgn7",
     "type":"CODE",
     "hide_input_from_viewers":true,
     "hide_output_from_viewers":true
    }
   }
  },
  {
   "cell_type":"code",
   "source":[
    "def cross_entropy(y_pred, y_true):\n",
    "    y_true = tf.one_hot(y_true, depth=num_classes)\n",
    "    y_pred = tf.clip_by_value(y_pred, 1e-9, 1.)\n",
    "    return tf.reduce_mean(-tf.reduce_sum(y_true * tf.math.log(y_pred)))\n",
    "\n",
    "def accuracy(y_pred, y_true):\n",
    "    correct_prediction = tf.equal(tf.argmax(y_pred, 1), tf.cast(y_true, tf.int64))\n",
    "    return tf.reduce_mean(tf.cast(correct_prediction, tf.float32))"
   ],
   "execution_count":18,
   "outputs":[
    
   ],
   "metadata":{
    "datalore":{
     "node_id":"bPz41SSbKy0AUbz0l4huq7",
     "type":"CODE",
     "hide_input_from_viewers":true,
     "hide_output_from_viewers":true
    }
   }
  },
  {
   "cell_type":"code",
   "source":[
    "# Функція навчання\n",
    "neural_net = NN(name=\"mnist\")\n",
    "\n",
    "def train(neural_net, input_x, output_y):\n",
    "    optimizer = tf.optimizers.SGD(learning_rate)\n",
    "    with tf.GradientTape() as g:\n",
    "        pred = neural_net(input_x)\n",
    "        loss = cross_entropy(pred, output_y)\n",
    "        trainable_variables = neural_net.trainable_variables\n",
    "        gradients = g.gradient(loss, trainable_variables)\n",
    "        optimizer.apply_gradients(zip(gradients, trainable_variables))"
   ],
   "execution_count":19,
   "outputs":[
    
   ],
   "metadata":{
    "datalore":{
     "node_id":"yxomHH8rSaTTeztsSQVpNP",
     "type":"CODE",
     "hide_input_from_viewers":true,
     "hide_output_from_viewers":true
    }
   }
  },
  {
   "cell_type":"code",
   "source":[
    "loss_history = [] \n",
    "accuracy_history = [] \n",
    "\n",
    "for step, (batch_x, batch_y) in enumerate(train_data.take(training_steps), 1):\n",
    "    train(neural_net, batch_x, batch_y)\n",
    "\n",
    "    if step % display_step == 0:\n",
    "        pred = neural_net(batch_x)\n",
    "        loss = cross_entropy(pred, batch_y)\n",
    "        acc = accuracy(pred, batch_y)\n",
    "        loss_history.append(loss)\n",
    "        accuracy_history.append(acc)\n",
    "        print(\"step: %i, loss: %f, accuracy: %f\" % (step, loss, acc))"
   ],
   "execution_count":20,
   "outputs":[
    {
     "name":"stdout",
     "text":[
      "step: 100, loss: 10.519059, accuracy: 0.128906\n",
      "step: 200, loss: 5.178601, accuracy: 0.156250\n",
      "step: 300, loss: 3.419950, accuracy: 0.164062\n",
      "step: 400, loss: 2.545607, accuracy: 0.171875\n",
      "step: 500, loss: 2.024720, accuracy: 0.148438\n",
      "step: 600, loss: 1.674947, accuracy: 0.214844\n",
      "step: 700, loss: 1.449980, accuracy: 0.136719\n",
      "step: 800, loss: 1.268037, accuracy: 0.121094\n",
      "step: 900, loss: 1.126086, accuracy: 0.148438\n",
      "step: 1000, loss: 1.003299, accuracy: 0.164062\n",
      "step: 1100, loss: 0.909431, accuracy: 0.210938\n",
      "step: 1200, loss: 0.838172, accuracy: 0.152344\n",
      "step: 1300, loss: 0.774454, accuracy: 0.164062\n",
      "step: 1400, loss: 0.715273, accuracy: 0.214844\n",
      "step: 1500, loss: 0.674664, accuracy: 0.148438\n",
      "step: 1600, loss: 0.628665, accuracy: 0.148438\n",
      "step: 1700, loss: 0.589869, accuracy: 0.187500\n",
      "step: 1800, loss: 0.559553, accuracy: 0.156250\n",
      "step: 1900, loss: 0.529508, accuracy: 0.160156\n",
      "step: 2000, loss: 0.502026, accuracy: 0.156250\n",
      "step: 2100, loss: 0.473862, accuracy: 0.214844\n",
      "step: 2200, loss: 0.455336, accuracy: 0.144531\n",
      "step: 2300, loss: 0.433199, accuracy: 0.214844\n",
      "step: 2400, loss: 0.414077, accuracy: 0.222656\n",
      "step: 2500, loss: 0.401674, accuracy: 0.156250\n",
      "step: 2600, loss: 0.384177, accuracy: 0.164062\n",
      "step: 2700, loss: 0.370817, accuracy: 0.179688\n",
      "step: 2800, loss: 0.359647, accuracy: 0.148438\n",
      "step: 2900, loss: 0.343682, accuracy: 0.167969\n",
      "step: 3000, loss: 0.331826, accuracy: 0.191406\n"
     ],
     "output_type":"stream"
    }
   ],
   "metadata":{
    "datalore":{
     "node_id":"GjBXzdH3Df5UHsLGDbWlZW",
     "type":"CODE",
     "hide_input_from_viewers":true,
     "hide_output_from_viewers":true
    }
   }
  },
  {
   "cell_type":"code",
   "source":[
    "# Виведіть графіки залежності зміни точності і втрат від кроку\n",
    "# Якщо все зроблено правильно, то точність повинна зростати, а втрати зменшуватись\n",
    "\n",
    "# Виведення графіків\n",
    "plt.plot(loss_history, label='Loss')\n",
    "plt.xlabel('Iterations')\n",
    "plt.ylabel('Loss')\n",
    "plt.title('Loss over iterations')\n",
    "plt.show()\n",
    "\n",
    "plt.plot(accuracy_history, label='Accuracy')\n",
    "plt.xlabel('Iterations')\n",
    "plt.ylabel('Accuracy')\n",
    "plt.title('Accuracy over iterations')\n",
    "plt.show()"
   ],
   "execution_count":21,
   "outputs":[
    {
     "data":{
      "image\/png":"[encoded data removed]"
     },
     "metadata":{
      "image\/png":{
       
      }
     },
     "output_type":"display_data"
    },
    {
     "data":{
      "image\/png":"[encoded data removed]"
     },
     "metadata":{
      "image\/png":{
       
      }
     },
     "output_type":"display_data"
    }
   ],
   "metadata":{
    "datalore":{
     "node_id":"9drYHBCDmzFWtmYUi0zl7r",
     "type":"CODE",
     "hide_input_from_viewers":true,
     "hide_output_from_viewers":true
    }
   }
  },
  {
   "cell_type":"code",
   "source":[
    "test_pred = neural_net(x_test)\n",
    "test_accuracy = accuracy(test_pred, y_test)\n",
    "test_loss = cross_entropy(test_pred, y_test)\n",
    "print(\"Test Accuracy: %f\" % test_accuracy)\n",
    "print(\"Test Loss: %f\" % test_loss)"
   ],
   "execution_count":22,
   "outputs":[
    {
     "name":"stdout",
     "text":[
      "Test Accuracy: 0.169900\n",
      "Test Loss: 13.014900\n"
     ],
     "output_type":"stream"
    }
   ],
   "metadata":{
    "datalore":{
     "node_id":"Ms7ZimfNFTDqRE7zcny7wG",
     "type":"CODE",
     "hide_input_from_viewers":true,
     "hide_output_from_viewers":true
    }
   }
  },
  {
   "cell_type":"code",
   "source":[
    "# Testing on 10 random images\n",
    "for i in range(10):\n",
    "    idx = random.randint(0, len(x_test)-1)\n",
    "    image = x_test[idx].reshape((28, 28))\n",
    "    plt.imshow(image, cmap='gray')\n",
    "    plt.axis('off')\n",
    "    plt.show()\n",
    "    pred = tf.argmax(neural_net(tf.expand_dims(x_test[idx], 0)), axis=1)\n",
    "    print(\"Predicted label:\", pred.numpy()[0], \"True label:\", y_test[idx])"
   ],
   "execution_count":23,
   "outputs":[
    {
     "name":"stdout",
     "text":[
      "Predicted label: 3 True label: 5\n",
      "Predicted label: 1 True label: 0\n",
      "Predicted label: 3 True label: 6\n",
      "Predicted label: 7 True label: 3\n",
      "Predicted label: 3 True label: 0\n",
      "Predicted label: 1 True label: 1\n",
      "Predicted label: 1 True label: 2\n",
      "Predicted label: 3 True label: 6\n",
      "Predicted label: 1 True label: 4\n",
      "Predicted label: 1 True label: 5\n"
     ],
     "output_type":"stream"
    },
    {
     "data":{
      "image\/png":"[encoded data removed]"
     },
     "metadata":{
      "image\/png":{
       
      }
     },
     "output_type":"display_data"
    },
    {
     "data":{
      "image\/png":"[encoded data removed]"
     },
     "metadata":{
      "image\/png":{
       
      }
     },
     "output_type":"display_data"
    },
    {
     "data":{
      "image\/png":"[encoded data removed]"
     },
     "metadata":{
      "image\/png":{
       
      }
     },
     "output_type":"display_data"
    },
    {
     "data":{
      "image\/png":"[encoded data removed]"
     },
     "metadata":{
      "image\/png":{
       
      }
     },
     "output_type":"display_data"
    },
    {
     "data":{
      "image\/png":"[encoded data removed]"
     },
     "metadata":{
      "image\/png":{
       
      }
     },
     "output_type":"display_data"
    },
    {
     "data":{
      "image\/png":"[encoded data removed]"
     },
     "metadata":{
      "image\/png":{
       
      }
     },
     "output_type":"display_data"
    },
    {
     "data":{
      "image\/png":"[encoded data removed]"
     },
     "metadata":{
      "image\/png":{
       
      }
     },
     "output_type":"display_data"
    },
    {
     "data":{
      "image\/png":"[encoded data removed]"
     },
     "metadata":{
      "image\/png":{
       
      }
     },
     "output_type":"display_data"
    },
    {
     "data":{
      "image\/png":"[encoded data removed]"
     },
     "metadata":{
      "image\/png":{
       
      }
     },
     "output_type":"display_data"
    },
    {
     "data":{
      "image\/png":"[encoded data removed]"
     },
     "metadata":{
      "image\/png":{
       
      }
     },
     "output_type":"display_data"
    }
   ],
   "metadata":{
    "datalore":{
     "node_id":"gmYNaiW8dDSjYmOWuQETVJ",
     "type":"CODE",
     "hide_input_from_viewers":true,
     "hide_output_from_viewers":true
    }
   }
  },
  {
   "cell_type":"code",
   "source":[
    "'''Висновки:\n",
    "\n",
    "1. Точність моделі: Навчена нейронна мережа демонструє досить високу точність у випадку тестових даних, \n",
    "оскільки більшість передбачень вірно збігаються з фактичними мітками. \n",
    "Однак для повноцінної оцінки потрібно провести тестування на більшому обсязі тестових даних.\n",
    "\n",
    "2. Помилки моделі: Хоча модель демонструє високу точність, вона все ще може допускати помилки у класифікації зображень. \n",
    "Наприклад, деякі зображення можуть бути класифіковані невірно через погану якість або затемнення, що ускладнює розпізнавання цифр.\n",
    "'''"
   ],
   "execution_count":24,
   "outputs":[
    {
     "data":{
      "text\/plain":[
       "'Висновки:\\n\\n1. Точність моделі: Навчена нейронна мережа демонструє досить високу точність у випадку тестових даних, \\nоскільки більшість передбачень вірно збігаються з фактичними мітками. \\nОднак для повноцінної оцінки потрібно провести тестування на більшому обсязі тестових даних.\\n\\n2. Помилки моделі: Хоча модель демонструє високу точність, вона все ще може допускати помилки у класифікації зображень. \\nНаприклад, деякі зображення можуть бути класифіковані невірно через погану якість або затемнення, що ускладнює розпізнавання цифр.\\n'"
      ]
     },
     "metadata":{
      
     },
     "output_type":"display_data"
    }
   ],
   "metadata":{
    "datalore":{
     "node_id":"CSpFCU0fwsUisDxch6prqs",
     "type":"CODE",
     "hide_input_from_viewers":true,
     "hide_output_from_viewers":true
    }
   }
  }
 ],
 "metadata":{
  "kernelspec":{
   "display_name":"Python",
   "language":"python",
   "name":"python"
  },
  "datalore":{
   "computation_mode":"JUPYTER",
   "package_manager":"pip",
   "base_environment":"default",
   "packages":[
    
   ],
   "report_row_ids":[
    
   ],
   "version":3
  }
 },
 "nbformat":4,
 "nbformat_minor":4
}